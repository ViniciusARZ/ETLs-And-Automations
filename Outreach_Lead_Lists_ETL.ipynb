{
  "cells": [
    {
      "cell_type": "markdown",
      "metadata": {
        "id": "D67IY_u6lc0z"
      },
      "source": [
        "#Packages & Imports"
      ]
    },
    {
      "cell_type": "code",
      "execution_count": null,
      "metadata": {
        "colab": {
          "base_uri": "https://localhost:8080/"
        },
        "id": "dVuZiH-Mok7L",
        "outputId": "34de9d5c-2c3d-474e-f847-57363b1f8c3a"
      },
      "outputs": [
        {
          "output_type": "stream",
          "name": "stdout",
          "text": [
            "\u001b[K     |████████████████████████████████| 60 kB 3.0 MB/s \n",
            "\u001b[K     |████████████████████████████████| 251 kB 10.4 MB/s \n",
            "\u001b[K     |████████████████████████████████| 155 kB 5.0 MB/s \n",
            "\u001b[K     |████████████████████████████████| 489 kB 41.7 MB/s \n",
            "\u001b[?25h"
          ]
        }
      ],
      "source": [
        "!pip install -q --upgrade gspread\n",
        "!pip install -q pandas\n",
        "!pip install -q -U -q PyDrive\n",
        "!pip install -q datetime\n",
        "!pip install -q pendulum"
      ]
    },
    {
      "cell_type": "code",
      "execution_count": null,
      "metadata": {
        "id": "h0UiZALOo2E-"
      },
      "outputs": [],
      "source": [
        "from google.colab import auth\n",
        "auth.authenticate_user()\n",
        "\n",
        "import gspread\n",
        "from oauth2client.client import GoogleCredentials\n",
        "import pandas as pd\n",
        "import re\n",
        "from pydrive.auth import GoogleAuth\n",
        "from pydrive.drive import GoogleDrive\n",
        "gauth = GoogleAuth()\n",
        "gauth.credentials = GoogleCredentials.get_application_default()\n",
        "drive = GoogleDrive(gauth)\n",
        "gc = gspread.authorize(GoogleCredentials.get_application_default())\n",
        "import datetime\n",
        "import pendulum"
      ]
    },
    {
      "cell_type": "markdown",
      "metadata": {
        "id": "VAmnujmiNT6s"
      },
      "source": [
        "#Getting Prospection Data"
      ]
    },
    {
      "cell_type": "markdown",
      "metadata": {
        "id": "AKN1M6SrRCzo"
      },
      "source": [
        "Check the prospects tables for N/As, so:\n",
        "1. Open them one by one and see if they load without problems: [Prospects 1](https://docs.google.com/spreadsheets/d/19H7kZTWoDlKTk9wnaHt9OFlVGPDOV-LWygpxOsAB9T0/edit#gid=330075284), [Prospects 2](https://docs.google.com/spreadsheets/d/1XGrArQUq3O1uo7oYRPeKtPczGBkxd4v-yJtBdy_SZmQ/edit#gid=0), [Prospects 3](https://docs.google.com/spreadsheets/d/12GRG8PNzKhkhVcuUcrLWXvVLxz58gdF_0zVy4vS24NU/edit#gid=1476972697)\n",
        "2. If all of them are alright, run the following cells\n"
      ]
    },
    {
      "cell_type": "code",
      "execution_count": null,
      "metadata": {
        "id": "TDgDvUvvfG8d"
      },
      "outputs": [],
      "source": [
        "# Prospects Table\n",
        "p1 = gc.open_by_key('19H7kZTWoDlKTk9wnaHt9OFlVGPDOV-LWygpxOsAB9T0')\n",
        "p1_data = p1.worksheet('Prospects')\n",
        "p1rows = p1_data.get_all_values()\n",
        "df_p1 = pd.DataFrame.from_records(p1rows[1:],columns=p1rows[0])\n",
        "# Prospects 2 Table\n",
        "p2 = gc.open_by_key('1XGrArQUq3O1uo7oYRPeKtPczGBkxd4v-yJtBdy_SZmQ')\n",
        "p2_data = p2.worksheet('Sheet1')\n",
        "p2rows = p2_data.get_all_values()\n",
        "df_p2 = pd.DataFrame.from_records(p2rows[1:],columns=p2rows[0])\n",
        "p3 = gc.open_by_key('12GRG8PNzKhkhVcuUcrLWXvVLxz58gdF_0zVy4vS24NU')\n",
        "# Prospects 3 Table\n",
        "p3_data = p3.worksheet('All')\n",
        "p3rows = p3_data.get_all_values()\n",
        "df_p3 = pd.DataFrame.from_records(p3rows[1:],columns=p3rows[0])\n",
        "\n",
        "# Joining them\n",
        "prospects_df = pd.concat([df_p1,df_p2,df_p3],axis=0)\n",
        "#Adding domain column\n",
        "prospects_df['domain'] = prospects_df['Email'].str.split('@').str[1] # adding Domain column\n",
        "#Adding Week Column\n",
        "prospects_df['Date'] = pd.to_datetime(prospects_df['Date'])\n",
        "prospects_df['WeekNum'] = prospects_df['Date'].dt.strftime('%Y-%b-w%U')"
      ]
    },
    {
      "cell_type": "code",
      "source": [
        "#prospects_df[prospects_df['Company Name']==\"MAPFRE Salud ARS\"]"
      ],
      "metadata": {
        "id": "z7n3Rpa4dpP5"
      },
      "execution_count": null,
      "outputs": []
    },
    {
      "cell_type": "markdown",
      "metadata": {
        "id": "_tG5m-TKIZXq"
      },
      "source": [
        "# Outreach Weekly Table"
      ]
    },
    {
      "cell_type": "markdown",
      "metadata": {
        "id": "D3Pczfv3cdNP"
      },
      "source": [
        "## Selecting Outreach Weekly Data"
      ]
    },
    {
      "cell_type": "markdown",
      "metadata": {
        "id": "uYA814y5mzDo"
      },
      "source": [
        "Filtering previous week"
      ]
    },
    {
      "cell_type": "code",
      "execution_count": null,
      "metadata": {
        "id": "UtYxzo6mG63X"
      },
      "outputs": [],
      "source": [
        "prosp_out_df = prospects_df.copy()"
      ]
    },
    {
      "cell_type": "code",
      "execution_count": null,
      "metadata": {
        "colab": {
          "base_uri": "https://localhost:8080/"
        },
        "id": "7awUZ5RTgtGl",
        "outputId": "5f8f22d9-b119-4113-ba78-11b5fb0d67bf"
      },
      "outputs": [
        {
          "output_type": "execute_result",
          "data": {
            "application/vnd.google.colaboratory.intrinsic+json": {
              "type": "string"
            },
            "text/plain": [
              "'2022-Jan-w03'"
            ]
          },
          "metadata": {},
          "execution_count": 6
        }
      ],
      "source": [
        "mydate = datetime.date.today()\n",
        "current_week = mydate.strftime('%Y-%b-w%U')\n",
        "current_week"
      ]
    },
    {
      "cell_type": "code",
      "execution_count": null,
      "metadata": {
        "colab": {
          "base_uri": "https://localhost:8080/"
        },
        "id": "sv_oJ6atbdZX",
        "outputId": "0b15f565-44b9-4949-fff5-6f044cc73ef0"
      },
      "outputs": [
        {
          "output_type": "execute_result",
          "data": {
            "application/vnd.google.colaboratory.intrinsic+json": {
              "type": "string"
            },
            "text/plain": [
              "'2022-Jan-w02'"
            ]
          },
          "metadata": {},
          "execution_count": 7
        }
      ],
      "source": [
        "today = datetime.date.today() #used to get the today datetime\n",
        "weekday = today.weekday() #get the weekday\n",
        "start_delta = datetime.timedelta(days=weekday, weeks=1) #delta of the previous week based on the day\n",
        "start_of_week = today - start_delta #substracting the delta to get a a date respective to the previous week\n",
        "start_of_week\n",
        "outreach_week = start_of_week.strftime('%Y-%b-w%U') #transforming to be in the same format as the dataset\n",
        "outreach_week"
      ]
    },
    {
      "cell_type": "code",
      "source": [
        "from datetime import date, timedelta   \n",
        "last_friday = today - timedelta(days=today.weekday()) + timedelta(days=4, weeks=-1)\n",
        "last_monday = today - timedelta(days=today.weekday()) + timedelta(days=7, weeks=-2)\n",
        "print(\"Dates: \", last_monday, \"to\", last_friday)\n",
        "#outreach_week['Date'] = pd.to_datetime(outreach_week['Date'])\n",
        "#print(weekly_outreach_raw[(weekly_outreach_raw['Date'] >= pd.Timestamp(last_monday)) & (weekly_outreach_raw['Date'] <= pd.Timestamp(last_friday))])"
      ],
      "metadata": {
        "id": "4m7JfpFm_h-H",
        "colab": {
          "base_uri": "https://localhost:8080/"
        },
        "outputId": "486033c8-2e20-4245-dfe5-c01e9d60bc1c"
      },
      "execution_count": null,
      "outputs": [
        {
          "output_type": "stream",
          "name": "stdout",
          "text": [
            "Dates:  2022-01-10 to 2022-01-14\n"
          ]
        }
      ]
    },
    {
      "cell_type": "code",
      "execution_count": null,
      "metadata": {
        "colab": {
          "base_uri": "https://localhost:8080/"
        },
        "id": "9DshBEIIfl9u",
        "outputId": "376f5379-3b1c-490b-9073-f2585fb01f80"
      },
      "outputs": [
        {
          "output_type": "execute_result",
          "data": {
            "text/plain": [
              "(1936, 26)"
            ]
          },
          "metadata": {},
          "execution_count": 9
        }
      ],
      "source": [
        "# Filtered but not treated\n",
        "prosp_out_df['Date'] = pd.to_datetime(prosp_out_df['Date'])\n",
        "weekly_outreach_raw = prosp_out_df[(prosp_out_df['Date'] >= pd.Timestamp(last_monday)) & (prosp_out_df['Date'] <= pd.Timestamp(last_friday))]\n",
        "weekly_outreach_raw.sort_values('Date').shape"
      ]
    },
    {
      "cell_type": "markdown",
      "metadata": {
        "id": "KQKiXbVMkhRB"
      },
      "source": [
        "## Clean-up & Processing"
      ]
    },
    {
      "cell_type": "markdown",
      "metadata": {
        "id": "elXysi-1kYFn"
      },
      "source": [
        "### Applying Head Industries & Translating Industries Names"
      ]
    },
    {
      "cell_type": "markdown",
      "metadata": {
        "id": "kFdwf40F3iqj"
      },
      "source": [
        "Head and Sub Industries Dictionary from [Industries File](https://docs.google.com/spreadsheets/d/1ASfhwu4pKwET5bz8coI59Bzpn05OuGoZBmWr12nQsyc/edit#gid=0)"
      ]
    },
    {
      "cell_type": "code",
      "execution_count": null,
      "metadata": {
        "colab": {
          "base_uri": "https://localhost:8080/"
        },
        "id": "PaiIVR5bXVmQ",
        "outputId": "474351d4-c373-40be-fa4e-2edfdb80f296"
      },
      "outputs": [
        {
          "output_type": "stream",
          "name": "stderr",
          "text": [
            "/usr/local/lib/python3.7/dist-packages/ipykernel_launcher.py:7: SettingWithCopyWarning: \n",
            "A value is trying to be set on a copy of a slice from a DataFrame.\n",
            "Try using .loc[row_indexer,col_indexer] = value instead\n",
            "\n",
            "See the caveats in the documentation: https://pandas.pydata.org/pandas-docs/stable/user_guide/indexing.html#returning-a-view-versus-a-copy\n",
            "  import sys\n"
          ]
        }
      ],
      "source": [
        "ind_accesss = gc.open_by_key('1ASfhwu4pKwET5bz8coI59Bzpn05OuGoZBmWr12nQsyc')\n",
        "ind_data = ind_accesss.worksheet('Industries')\n",
        "indsrows = ind_data.get_all_values()\n",
        "df_industries = pd.DataFrame.from_records(indsrows[1:],columns=indsrows[0])\n",
        "ind_dict = dict(zip(df_industries['Industry'],df_industries['Head Industry']))\n",
        "#Adding Head Industry column to prospection tables\n",
        "weekly_outreach_raw['Head Industry'] = weekly_outreach_raw[\"Industry\"].map(ind_dict)"
      ]
    },
    {
      "cell_type": "markdown",
      "metadata": {
        "id": "D1tXdxqWf7gS"
      },
      "source": [
        "Applying Industries Translations using [another table](https://docs.google.com/spreadsheets/d/1opKh-8bi55_A92SNn3UzGp7hBXiMx9LHWlIOeKUKjI8/edit#gid=0) as Dictionary"
      ]
    },
    {
      "cell_type": "code",
      "execution_count": null,
      "metadata": {
        "colab": {
          "base_uri": "https://localhost:8080/",
          "height": 329
        },
        "id": "WgikqSuuf2uy",
        "outputId": "9533d8ee-f413-4314-f4ae-7014906383b4"
      },
      "outputs": [
        {
          "output_type": "execute_result",
          "data": {
            "text/html": [
              "\n",
              "  <div id=\"df-f0f81856-95f8-4274-817c-95542ed3b183\">\n",
              "    <div class=\"colab-df-container\">\n",
              "      <div>\n",
              "<style scoped>\n",
              "    .dataframe tbody tr th:only-of-type {\n",
              "        vertical-align: middle;\n",
              "    }\n",
              "\n",
              "    .dataframe tbody tr th {\n",
              "        vertical-align: top;\n",
              "    }\n",
              "\n",
              "    .dataframe thead th {\n",
              "        text-align: right;\n",
              "    }\n",
              "</style>\n",
              "<table border=\"1\" class=\"dataframe\">\n",
              "  <thead>\n",
              "    <tr style=\"text-align: right;\">\n",
              "      <th></th>\n",
              "      <th>Date</th>\n",
              "      <th>Company Name</th>\n",
              "      <th>ID</th>\n",
              "      <th>S-ID</th>\n",
              "      <th>LGA</th>\n",
              "      <th>Country</th>\n",
              "      <th>City</th>\n",
              "      <th>Score Corp</th>\n",
              "      <th>Course 1</th>\n",
              "      <th>Course 2</th>\n",
              "      <th>Web page</th>\n",
              "      <th>First Name</th>\n",
              "      <th>Last Name</th>\n",
              "      <th>Contact Name</th>\n",
              "      <th>Score</th>\n",
              "      <th>Title</th>\n",
              "      <th>Email</th>\n",
              "      <th>LinkedIn Profile</th>\n",
              "      <th>Phone</th>\n",
              "      <th>Industry</th>\n",
              "      <th>Company ID</th>\n",
              "      <th>website</th>\n",
              "      <th>Name</th>\n",
              "      <th>NeverBounce</th>\n",
              "      <th>domain</th>\n",
              "      <th>WeekNum</th>\n",
              "      <th>Head Industry</th>\n",
              "      <th>Industry_T</th>\n",
              "    </tr>\n",
              "  </thead>\n",
              "  <tbody>\n",
              "    <tr>\n",
              "      <th>15186</th>\n",
              "      <td>2022-01-11</td>\n",
              "      <td>Naturmega</td>\n",
              "      <td>NaN</td>\n",
              "      <td></td>\n",
              "      <td>Isabella</td>\n",
              "      <td>Colombia</td>\n",
              "      <td>Barranquilla</td>\n",
              "      <td></td>\n",
              "      <td>Recruiting</td>\n",
              "      <td>Medical</td>\n",
              "      <td>NaN</td>\n",
              "      <td></td>\n",
              "      <td></td>\n",
              "      <td>NaN</td>\n",
              "      <td>2</td>\n",
              "      <td>Analista RH</td>\n",
              "      <td>mdiaz@naturmega.com.co</td>\n",
              "      <td>https://www.linkedin.com/in/maria-camila-diaz-...</td>\n",
              "      <td>(57) 5 371-9773</td>\n",
              "      <td>Alternative Medicine</td>\n",
              "      <td></td>\n",
              "      <td>https://naturmega.com/home</td>\n",
              "      <td>Maria Camila Diaz</td>\n",
              "      <td>valid</td>\n",
              "      <td>naturmega.com.co</td>\n",
              "      <td>2022-Jan-w02</td>\n",
              "      <td>Healthcare &amp; Pharmaceuticals</td>\n",
              "      <td>de medicina alternativa</td>\n",
              "    </tr>\n",
              "    <tr>\n",
              "      <th>15187</th>\n",
              "      <td>2022-01-11</td>\n",
              "      <td>Naturmega</td>\n",
              "      <td>NaN</td>\n",
              "      <td></td>\n",
              "      <td>Isabella</td>\n",
              "      <td>Colombia</td>\n",
              "      <td>Barranquilla</td>\n",
              "      <td></td>\n",
              "      <td>Sales</td>\n",
              "      <td>Medical</td>\n",
              "      <td>NaN</td>\n",
              "      <td></td>\n",
              "      <td></td>\n",
              "      <td>NaN</td>\n",
              "      <td>3</td>\n",
              "      <td>Directora administrativa</td>\n",
              "      <td>pnavarro@naturmega.com.co</td>\n",
              "      <td>https://www.linkedin.com/in/paola-navarro-rome...</td>\n",
              "      <td>(57) 5 371-9773</td>\n",
              "      <td>Alternative Medicine</td>\n",
              "      <td></td>\n",
              "      <td>https://naturmega.com/home</td>\n",
              "      <td>Paola Navarro</td>\n",
              "      <td>unknown</td>\n",
              "      <td>naturmega.com.co</td>\n",
              "      <td>2022-Jan-w02</td>\n",
              "      <td>Healthcare &amp; Pharmaceuticals</td>\n",
              "      <td>de medicina alternativa</td>\n",
              "    </tr>\n",
              "    <tr>\n",
              "      <th>15188</th>\n",
              "      <td>2022-01-11</td>\n",
              "      <td>Naturmega</td>\n",
              "      <td>NaN</td>\n",
              "      <td></td>\n",
              "      <td>Isabella</td>\n",
              "      <td>Colombia</td>\n",
              "      <td>Barranquilla</td>\n",
              "      <td></td>\n",
              "      <td>Sales</td>\n",
              "      <td>Medical</td>\n",
              "      <td>NaN</td>\n",
              "      <td></td>\n",
              "      <td></td>\n",
              "      <td>NaN</td>\n",
              "      <td>4</td>\n",
              "      <td>Gerente de I&amp;D y Nuevos Negocios</td>\n",
              "      <td>wmartinez@naturmega.com.co</td>\n",
              "      <td>https://www.linkedin.com/in/wilson-martinez-94...</td>\n",
              "      <td>(57) 5 371-9773</td>\n",
              "      <td>Alternative Medicine</td>\n",
              "      <td></td>\n",
              "      <td>https://naturmega.com/home</td>\n",
              "      <td>Wilson Martinez</td>\n",
              "      <td>valid</td>\n",
              "      <td>naturmega.com.co</td>\n",
              "      <td>2022-Jan-w02</td>\n",
              "      <td>Healthcare &amp; Pharmaceuticals</td>\n",
              "      <td>de medicina alternativa</td>\n",
              "    </tr>\n",
              "  </tbody>\n",
              "</table>\n",
              "</div>\n",
              "      <button class=\"colab-df-convert\" onclick=\"convertToInteractive('df-f0f81856-95f8-4274-817c-95542ed3b183')\"\n",
              "              title=\"Convert this dataframe to an interactive table.\"\n",
              "              style=\"display:none;\">\n",
              "        \n",
              "  <svg xmlns=\"http://www.w3.org/2000/svg\" height=\"24px\"viewBox=\"0 0 24 24\"\n",
              "       width=\"24px\">\n",
              "    <path d=\"M0 0h24v24H0V0z\" fill=\"none\"/>\n",
              "    <path d=\"M18.56 5.44l.94 2.06.94-2.06 2.06-.94-2.06-.94-.94-2.06-.94 2.06-2.06.94zm-11 1L8.5 8.5l.94-2.06 2.06-.94-2.06-.94L8.5 2.5l-.94 2.06-2.06.94zm10 10l.94 2.06.94-2.06 2.06-.94-2.06-.94-.94-2.06-.94 2.06-2.06.94z\"/><path d=\"M17.41 7.96l-1.37-1.37c-.4-.4-.92-.59-1.43-.59-.52 0-1.04.2-1.43.59L10.3 9.45l-7.72 7.72c-.78.78-.78 2.05 0 2.83L4 21.41c.39.39.9.59 1.41.59.51 0 1.02-.2 1.41-.59l7.78-7.78 2.81-2.81c.8-.78.8-2.07 0-2.86zM5.41 20L4 18.59l7.72-7.72 1.47 1.35L5.41 20z\"/>\n",
              "  </svg>\n",
              "      </button>\n",
              "      \n",
              "  <style>\n",
              "    .colab-df-container {\n",
              "      display:flex;\n",
              "      flex-wrap:wrap;\n",
              "      gap: 12px;\n",
              "    }\n",
              "\n",
              "    .colab-df-convert {\n",
              "      background-color: #E8F0FE;\n",
              "      border: none;\n",
              "      border-radius: 50%;\n",
              "      cursor: pointer;\n",
              "      display: none;\n",
              "      fill: #1967D2;\n",
              "      height: 32px;\n",
              "      padding: 0 0 0 0;\n",
              "      width: 32px;\n",
              "    }\n",
              "\n",
              "    .colab-df-convert:hover {\n",
              "      background-color: #E2EBFA;\n",
              "      box-shadow: 0px 1px 2px rgba(60, 64, 67, 0.3), 0px 1px 3px 1px rgba(60, 64, 67, 0.15);\n",
              "      fill: #174EA6;\n",
              "    }\n",
              "\n",
              "    [theme=dark] .colab-df-convert {\n",
              "      background-color: #3B4455;\n",
              "      fill: #D2E3FC;\n",
              "    }\n",
              "\n",
              "    [theme=dark] .colab-df-convert:hover {\n",
              "      background-color: #434B5C;\n",
              "      box-shadow: 0px 1px 3px 1px rgba(0, 0, 0, 0.15);\n",
              "      filter: drop-shadow(0px 1px 2px rgba(0, 0, 0, 0.3));\n",
              "      fill: #FFFFFF;\n",
              "    }\n",
              "  </style>\n",
              "\n",
              "      <script>\n",
              "        const buttonEl =\n",
              "          document.querySelector('#df-f0f81856-95f8-4274-817c-95542ed3b183 button.colab-df-convert');\n",
              "        buttonEl.style.display =\n",
              "          google.colab.kernel.accessAllowed ? 'block' : 'none';\n",
              "\n",
              "        async function convertToInteractive(key) {\n",
              "          const element = document.querySelector('#df-f0f81856-95f8-4274-817c-95542ed3b183');\n",
              "          const dataTable =\n",
              "            await google.colab.kernel.invokeFunction('convertToInteractive',\n",
              "                                                     [key], {});\n",
              "          if (!dataTable) return;\n",
              "\n",
              "          const docLinkHtml = 'Like what you see? Visit the ' +\n",
              "            '<a target=\"_blank\" href=https://colab.research.google.com/notebooks/data_table.ipynb>data table notebook</a>'\n",
              "            + ' to learn more about interactive tables.';\n",
              "          element.innerHTML = '';\n",
              "          dataTable['output_type'] = 'display_data';\n",
              "          await google.colab.output.renderOutput(dataTable, element);\n",
              "          const docLink = document.createElement('div');\n",
              "          docLink.innerHTML = docLinkHtml;\n",
              "          element.appendChild(docLink);\n",
              "        }\n",
              "      </script>\n",
              "    </div>\n",
              "  </div>\n",
              "  "
            ],
            "text/plain": [
              "            Date  ...               Industry_T\n",
              "15186 2022-01-11  ...  de medicina alternativa\n",
              "15187 2022-01-11  ...  de medicina alternativa\n",
              "15188 2022-01-11  ...  de medicina alternativa\n",
              "\n",
              "[3 rows x 28 columns]"
            ]
          },
          "metadata": {},
          "execution_count": 11
        }
      ],
      "source": [
        "ind_trans_accesss = gc.open_by_key('1opKh-8bi55_A92SNn3UzGp7hBXiMx9LHWlIOeKUKjI8')\n",
        "ind_trans_data = ind_trans_accesss.worksheet('Sheet1')\n",
        "indstransrows = ind_trans_data.get_all_values()\n",
        "df_industries_trans = pd.DataFrame.from_records(indstransrows[1:],columns=indstransrows[0])\n",
        "ind_dict_pt = dict(zip(df_industries_trans['Industry (EN)'],df_industries_trans['Industry (PT)'])) # dictionary for Brasil\n",
        "ind_dict_es = dict(zip(df_industries_trans['Industry (EN)'],df_industries_trans['Industry (ES)'])) # dictionary for LATAM & MX\n",
        "\n",
        "def ind_trans(weekly_outreach_raw):\n",
        "  if(weekly_outreach_raw['Country'] == 'Brasil' or weekly_outreach_raw['Country'] == 'Brazil'):\n",
        "    return weekly_outreach_raw[['Industry']].map(ind_dict_pt)\n",
        "  elif (weekly_outreach_raw['Country'] not in ['Brasil','Brazil']):\n",
        "    return weekly_outreach_raw[['Industry']].map(ind_dict_es)\n",
        "\n",
        "weekly_outreach_fil = weekly_outreach_raw.assign(Industry_T=weekly_outreach_raw.apply(ind_trans,axis=1))\n",
        "weekly_outreach_fil.head(3)"
      ]
    },
    {
      "cell_type": "markdown",
      "metadata": {
        "id": "5KzKB8EOdvXx"
      },
      "source": [
        "### Checking for Prospection Periods"
      ]
    },
    {
      "cell_type": "markdown",
      "metadata": {
        "id": "8MSC0nugjaVe"
      },
      "source": [
        "####Checking Last Prospection Date for the Domain crossed with Country and removing <90 days ones"
      ]
    },
    {
      "cell_type": "markdown",
      "metadata": {
        "id": "Cnf0DA0QtStE"
      },
      "source": [
        "Using loc with subtraction of duplicated combinations of domain and country to keep only a dataset with \"lasts\" to pass on the filter later"
      ]
    },
    {
      "cell_type": "code",
      "execution_count": null,
      "metadata": {
        "id": "F_bxzgHSmp0G",
        "colab": {
          "base_uri": "https://localhost:8080/",
          "height": 852
        },
        "outputId": "d41dfbb4-08cf-4b84-aa84-a9fcc078144c"
      },
      "outputs": [
        {
          "output_type": "execute_result",
          "data": {
            "text/html": [
              "\n",
              "  <div id=\"df-2c010cfe-162f-49a2-bc42-2df335e49c98\">\n",
              "    <div class=\"colab-df-container\">\n",
              "      <div>\n",
              "<style scoped>\n",
              "    .dataframe tbody tr th:only-of-type {\n",
              "        vertical-align: middle;\n",
              "    }\n",
              "\n",
              "    .dataframe tbody tr th {\n",
              "        vertical-align: top;\n",
              "    }\n",
              "\n",
              "    .dataframe thead th {\n",
              "        text-align: right;\n",
              "    }\n",
              "</style>\n",
              "<table border=\"1\" class=\"dataframe\">\n",
              "  <thead>\n",
              "    <tr style=\"text-align: right;\">\n",
              "      <th></th>\n",
              "      <th>Date</th>\n",
              "      <th>Company Name</th>\n",
              "      <th>ID</th>\n",
              "      <th>S-ID</th>\n",
              "      <th>LGA</th>\n",
              "      <th>Country</th>\n",
              "      <th>City</th>\n",
              "      <th>Score Corp</th>\n",
              "      <th>Course 1</th>\n",
              "      <th>Course 2</th>\n",
              "      <th>Web page</th>\n",
              "      <th>First Name</th>\n",
              "      <th>Last Name</th>\n",
              "      <th>Contact Name</th>\n",
              "      <th>Score</th>\n",
              "      <th>Title</th>\n",
              "      <th>Email</th>\n",
              "      <th>LinkedIn Profile</th>\n",
              "      <th>Phone</th>\n",
              "      <th>Industry</th>\n",
              "      <th>Company ID</th>\n",
              "      <th>website</th>\n",
              "      <th>Name</th>\n",
              "      <th>NeverBounce</th>\n",
              "      <th>domain</th>\n",
              "      <th>WeekNum</th>\n",
              "      <th>Last</th>\n",
              "    </tr>\n",
              "  </thead>\n",
              "  <tbody>\n",
              "    <tr>\n",
              "      <th>2351</th>\n",
              "      <td>2019-10-09</td>\n",
              "      <td>KAESER</td>\n",
              "      <td>830067414</td>\n",
              "      <td></td>\n",
              "      <td>Juan</td>\n",
              "      <td>Colombia</td>\n",
              "      <td>Bogotá</td>\n",
              "      <td>35%</td>\n",
              "      <td>Management</td>\n",
              "      <td>Finance</td>\n",
              "      <td>www.kaeser.com.co</td>\n",
              "      <td></td>\n",
              "      <td></td>\n",
              "      <td>Margarita Juliá</td>\n",
              "      <td></td>\n",
              "      <td>Marketing coordinator</td>\n",
              "      <td>Margarita.Julia@kaeser.com.co</td>\n",
              "      <td></td>\n",
              "      <td>57 1 7429393</td>\n",
              "      <td>industrial</td>\n",
              "      <td>NaN</td>\n",
              "      <td>NaN</td>\n",
              "      <td>NaN</td>\n",
              "      <td>NaN</td>\n",
              "      <td>kaeser.com.co</td>\n",
              "      <td>2019-Oct-w40</td>\n",
              "      <td>Last</td>\n",
              "    </tr>\n",
              "    <tr>\n",
              "      <th>2515</th>\n",
              "      <td>2019-10-31</td>\n",
              "      <td>Corporacion Autonoma Regional del Valle del Cauca</td>\n",
              "      <td>890399002</td>\n",
              "      <td></td>\n",
              "      <td>Juan</td>\n",
              "      <td>Colombia</td>\n",
              "      <td>Cali</td>\n",
              "      <td>20%</td>\n",
              "      <td>Management</td>\n",
              "      <td>Finance</td>\n",
              "      <td>www.cvc.gov.co</td>\n",
              "      <td>Luis Guillermo</td>\n",
              "      <td>Parra</td>\n",
              "      <td>Luis Guillermo Parra</td>\n",
              "      <td></td>\n",
              "      <td>Director de Planeación</td>\n",
              "      <td>luis-guillermo.parra@cvc.gov.co</td>\n",
              "      <td></td>\n",
              "      <td></td>\n",
              "      <td>gubernamental</td>\n",
              "      <td>NaN</td>\n",
              "      <td>NaN</td>\n",
              "      <td>NaN</td>\n",
              "      <td>NaN</td>\n",
              "      <td>cvc.gov.co</td>\n",
              "      <td>2019-Oct-w43</td>\n",
              "      <td>Last</td>\n",
              "    </tr>\n",
              "    <tr>\n",
              "      <th>2521</th>\n",
              "      <td>2019-10-31</td>\n",
              "      <td>Superintendencia de Sociedades</td>\n",
              "      <td>899999086</td>\n",
              "      <td></td>\n",
              "      <td>Juan</td>\n",
              "      <td>Colombia</td>\n",
              "      <td>Bogotá</td>\n",
              "      <td>20%</td>\n",
              "      <td>Management</td>\n",
              "      <td>Finance</td>\n",
              "      <td>www.supersociedades.gov.co</td>\n",
              "      <td>Danery</td>\n",
              "      <td>Buitrago</td>\n",
              "      <td>Danery Buitrago</td>\n",
              "      <td></td>\n",
              "      <td>Secretaria General</td>\n",
              "      <td>daneryb@supersociedades.gov.co</td>\n",
              "      <td></td>\n",
              "      <td></td>\n",
              "      <td>gubernamental</td>\n",
              "      <td>NaN</td>\n",
              "      <td>NaN</td>\n",
              "      <td>NaN</td>\n",
              "      <td>NaN</td>\n",
              "      <td>supersociedades.gov.co</td>\n",
              "      <td>2019-Oct-w43</td>\n",
              "      <td>Last</td>\n",
              "    </tr>\n",
              "    <tr>\n",
              "      <th>2527</th>\n",
              "      <td>2019-10-31</td>\n",
              "      <td>Imprenta Nacional de Colombia</td>\n",
              "      <td>830001113</td>\n",
              "      <td></td>\n",
              "      <td>Juan</td>\n",
              "      <td>Colombia</td>\n",
              "      <td>Bogotá</td>\n",
              "      <td>20%</td>\n",
              "      <td>Management</td>\n",
              "      <td>Finance</td>\n",
              "      <td>www.imprenta.gov.co</td>\n",
              "      <td>Octavio</td>\n",
              "      <td>Villamarín</td>\n",
              "      <td>Octavio Villamarín</td>\n",
              "      <td></td>\n",
              "      <td>Gerente General</td>\n",
              "      <td>octavio.villamarin@imprenta.gov.co</td>\n",
              "      <td></td>\n",
              "      <td></td>\n",
              "      <td>gubernamental</td>\n",
              "      <td>NaN</td>\n",
              "      <td>NaN</td>\n",
              "      <td>NaN</td>\n",
              "      <td>NaN</td>\n",
              "      <td>imprenta.gov.co</td>\n",
              "      <td>2019-Oct-w43</td>\n",
              "      <td>Last</td>\n",
              "    </tr>\n",
              "    <tr>\n",
              "      <th>2532</th>\n",
              "      <td>2019-10-31</td>\n",
              "      <td>Unidad Nacional de Proteccion</td>\n",
              "      <td>900475780</td>\n",
              "      <td></td>\n",
              "      <td>Juan</td>\n",
              "      <td>Colombia</td>\n",
              "      <td>Bogotá</td>\n",
              "      <td>43%</td>\n",
              "      <td>Management</td>\n",
              "      <td>Finance</td>\n",
              "      <td>www.unp.gov.co</td>\n",
              "      <td>Diana Patricia</td>\n",
              "      <td>Rios</td>\n",
              "      <td>Diana Patricia Rios</td>\n",
              "      <td></td>\n",
              "      <td>Secretaria General</td>\n",
              "      <td>diana.rios@unp.gov.co</td>\n",
              "      <td></td>\n",
              "      <td></td>\n",
              "      <td>gubernamental</td>\n",
              "      <td>NaN</td>\n",
              "      <td>NaN</td>\n",
              "      <td>NaN</td>\n",
              "      <td>NaN</td>\n",
              "      <td>unp.gov.co</td>\n",
              "      <td>2019-Oct-w43</td>\n",
              "      <td>Last</td>\n",
              "    </tr>\n",
              "    <tr>\n",
              "      <th>...</th>\n",
              "      <td>...</td>\n",
              "      <td>...</td>\n",
              "      <td>...</td>\n",
              "      <td>...</td>\n",
              "      <td>...</td>\n",
              "      <td>...</td>\n",
              "      <td>...</td>\n",
              "      <td>...</td>\n",
              "      <td>...</td>\n",
              "      <td>...</td>\n",
              "      <td>...</td>\n",
              "      <td>...</td>\n",
              "      <td>...</td>\n",
              "      <td>...</td>\n",
              "      <td>...</td>\n",
              "      <td>...</td>\n",
              "      <td>...</td>\n",
              "      <td>...</td>\n",
              "      <td>...</td>\n",
              "      <td>...</td>\n",
              "      <td>...</td>\n",
              "      <td>...</td>\n",
              "      <td>...</td>\n",
              "      <td>...</td>\n",
              "      <td>...</td>\n",
              "      <td>...</td>\n",
              "      <td>...</td>\n",
              "    </tr>\n",
              "    <tr>\n",
              "      <th>54102</th>\n",
              "      <td>2022-01-17</td>\n",
              "      <td>Great Place to Work® Colombia</td>\n",
              "      <td>NaN</td>\n",
              "      <td></td>\n",
              "      <td>Ericka</td>\n",
              "      <td>Colombia</td>\n",
              "      <td>Bogotá</td>\n",
              "      <td></td>\n",
              "      <td></td>\n",
              "      <td></td>\n",
              "      <td>NaN</td>\n",
              "      <td></td>\n",
              "      <td></td>\n",
              "      <td>NaN</td>\n",
              "      <td>4</td>\n",
              "      <td>Profesional de Desarrollo</td>\n",
              "      <td>angelica.baquero@greatplacetowork.com.co</td>\n",
              "      <td>https://www.linkedin.com/in/angelica-maria-baq...</td>\n",
              "      <td>57 3187344059</td>\n",
              "      <td>Management Consulting</td>\n",
              "      <td></td>\n",
              "      <td>https://www.greatplacetowork.com.co/</td>\n",
              "      <td>ANGELICA MARIA BAQUERO GUTIERREZ</td>\n",
              "      <td></td>\n",
              "      <td>greatplacetowork.com.co</td>\n",
              "      <td>2022-Jan-w03</td>\n",
              "      <td>Last</td>\n",
              "    </tr>\n",
              "    <tr>\n",
              "      <th>54105</th>\n",
              "      <td>2022-01-17</td>\n",
              "      <td>Consejo Colombiano de Seguridad - CCS</td>\n",
              "      <td>NaN</td>\n",
              "      <td></td>\n",
              "      <td>Ericka</td>\n",
              "      <td>Colombia</td>\n",
              "      <td>Bogotá</td>\n",
              "      <td></td>\n",
              "      <td></td>\n",
              "      <td></td>\n",
              "      <td>NaN</td>\n",
              "      <td></td>\n",
              "      <td></td>\n",
              "      <td>NaN</td>\n",
              "      <td>4</td>\n",
              "      <td>Coordinadora de Cursos Abiertos</td>\n",
              "      <td>emilce.mora@ccs.org.co</td>\n",
              "      <td>https://www.linkedin.com/in/emilce-mora-ariza-...</td>\n",
              "      <td>(60-1) 9191920</td>\n",
              "      <td>Management Consulting</td>\n",
              "      <td></td>\n",
              "      <td>https://ccs.org.co/</td>\n",
              "      <td>Emilce Mora Ariza</td>\n",
              "      <td></td>\n",
              "      <td>ccs.org.co</td>\n",
              "      <td>2022-Jan-w03</td>\n",
              "      <td>Last</td>\n",
              "    </tr>\n",
              "    <tr>\n",
              "      <th>54107</th>\n",
              "      <td>2022-01-17</td>\n",
              "      <td>Omnia Solution S.A.C.</td>\n",
              "      <td>NaN</td>\n",
              "      <td></td>\n",
              "      <td>Ericka</td>\n",
              "      <td>Peru</td>\n",
              "      <td>Lima</td>\n",
              "      <td></td>\n",
              "      <td></td>\n",
              "      <td></td>\n",
              "      <td>NaN</td>\n",
              "      <td></td>\n",
              "      <td></td>\n",
              "      <td>NaN</td>\n",
              "      <td>4</td>\n",
              "      <td>Gerente Comercial</td>\n",
              "      <td>psalinas@omniasolution.com</td>\n",
              "      <td>https://www.linkedin.com/in/psalinasc</td>\n",
              "      <td>(51-1) 437-4717</td>\n",
              "      <td>Management Consulting</td>\n",
              "      <td></td>\n",
              "      <td>https://omniasolution.com/</td>\n",
              "      <td>Pedro Salinas</td>\n",
              "      <td></td>\n",
              "      <td>omniasolution.com</td>\n",
              "      <td>2022-Jan-w03</td>\n",
              "      <td>Last</td>\n",
              "    </tr>\n",
              "    <tr>\n",
              "      <th>54110</th>\n",
              "      <td>2022-01-18</td>\n",
              "      <td>Agencia Global</td>\n",
              "      <td>NaN</td>\n",
              "      <td></td>\n",
              "      <td>Ericka</td>\n",
              "      <td>Chile</td>\n",
              "      <td>Santiago</td>\n",
              "      <td></td>\n",
              "      <td></td>\n",
              "      <td></td>\n",
              "      <td>NaN</td>\n",
              "      <td></td>\n",
              "      <td></td>\n",
              "      <td>NaN</td>\n",
              "      <td>4</td>\n",
              "      <td>Directora de Cuentas &amp; Nuevos Negocios</td>\n",
              "      <td>mkuzmanic@agenciaglobal.cl</td>\n",
              "      <td>https://www.linkedin.com/in/martinakuzmanicgio...</td>\n",
              "      <td>56 2 22479800</td>\n",
              "      <td>Marketing and Advertising</td>\n",
              "      <td></td>\n",
              "      <td>https://www.agenciaglobal.cl/</td>\n",
              "      <td>Martina Kuzmanic Giovanelli</td>\n",
              "      <td></td>\n",
              "      <td>agenciaglobal.cl</td>\n",
              "      <td>2022-Jan-w03</td>\n",
              "      <td>Last</td>\n",
              "    </tr>\n",
              "    <tr>\n",
              "      <th>54113</th>\n",
              "      <td>2022-01-18</td>\n",
              "      <td>ESSAC-Engineering Services</td>\n",
              "      <td>NaN</td>\n",
              "      <td></td>\n",
              "      <td>Ericka</td>\n",
              "      <td>Peru</td>\n",
              "      <td>Lima</td>\n",
              "      <td></td>\n",
              "      <td></td>\n",
              "      <td></td>\n",
              "      <td>NaN</td>\n",
              "      <td></td>\n",
              "      <td></td>\n",
              "      <td>NaN</td>\n",
              "      <td>3</td>\n",
              "      <td>Presidente</td>\n",
              "      <td>apanizo@essac.com.pe</td>\n",
              "      <td>https://www.linkedin.com/in/alfonso-j-panizo-o...</td>\n",
              "      <td>51 987 928 826</td>\n",
              "      <td>Management Consulting</td>\n",
              "      <td></td>\n",
              "      <td>https://www.essac.com.pe/</td>\n",
              "      <td>Alfonso J Panizo Otero</td>\n",
              "      <td></td>\n",
              "      <td>essac.com.pe</td>\n",
              "      <td>2022-Jan-w03</td>\n",
              "      <td>Last</td>\n",
              "    </tr>\n",
              "  </tbody>\n",
              "</table>\n",
              "<p>28735 rows × 27 columns</p>\n",
              "</div>\n",
              "      <button class=\"colab-df-convert\" onclick=\"convertToInteractive('df-2c010cfe-162f-49a2-bc42-2df335e49c98')\"\n",
              "              title=\"Convert this dataframe to an interactive table.\"\n",
              "              style=\"display:none;\">\n",
              "        \n",
              "  <svg xmlns=\"http://www.w3.org/2000/svg\" height=\"24px\"viewBox=\"0 0 24 24\"\n",
              "       width=\"24px\">\n",
              "    <path d=\"M0 0h24v24H0V0z\" fill=\"none\"/>\n",
              "    <path d=\"M18.56 5.44l.94 2.06.94-2.06 2.06-.94-2.06-.94-.94-2.06-.94 2.06-2.06.94zm-11 1L8.5 8.5l.94-2.06 2.06-.94-2.06-.94L8.5 2.5l-.94 2.06-2.06.94zm10 10l.94 2.06.94-2.06 2.06-.94-2.06-.94-.94-2.06-.94 2.06-2.06.94z\"/><path d=\"M17.41 7.96l-1.37-1.37c-.4-.4-.92-.59-1.43-.59-.52 0-1.04.2-1.43.59L10.3 9.45l-7.72 7.72c-.78.78-.78 2.05 0 2.83L4 21.41c.39.39.9.59 1.41.59.51 0 1.02-.2 1.41-.59l7.78-7.78 2.81-2.81c.8-.78.8-2.07 0-2.86zM5.41 20L4 18.59l7.72-7.72 1.47 1.35L5.41 20z\"/>\n",
              "  </svg>\n",
              "      </button>\n",
              "      \n",
              "  <style>\n",
              "    .colab-df-container {\n",
              "      display:flex;\n",
              "      flex-wrap:wrap;\n",
              "      gap: 12px;\n",
              "    }\n",
              "\n",
              "    .colab-df-convert {\n",
              "      background-color: #E8F0FE;\n",
              "      border: none;\n",
              "      border-radius: 50%;\n",
              "      cursor: pointer;\n",
              "      display: none;\n",
              "      fill: #1967D2;\n",
              "      height: 32px;\n",
              "      padding: 0 0 0 0;\n",
              "      width: 32px;\n",
              "    }\n",
              "\n",
              "    .colab-df-convert:hover {\n",
              "      background-color: #E2EBFA;\n",
              "      box-shadow: 0px 1px 2px rgba(60, 64, 67, 0.3), 0px 1px 3px 1px rgba(60, 64, 67, 0.15);\n",
              "      fill: #174EA6;\n",
              "    }\n",
              "\n",
              "    [theme=dark] .colab-df-convert {\n",
              "      background-color: #3B4455;\n",
              "      fill: #D2E3FC;\n",
              "    }\n",
              "\n",
              "    [theme=dark] .colab-df-convert:hover {\n",
              "      background-color: #434B5C;\n",
              "      box-shadow: 0px 1px 3px 1px rgba(0, 0, 0, 0.15);\n",
              "      filter: drop-shadow(0px 1px 2px rgba(0, 0, 0, 0.3));\n",
              "      fill: #FFFFFF;\n",
              "    }\n",
              "  </style>\n",
              "\n",
              "      <script>\n",
              "        const buttonEl =\n",
              "          document.querySelector('#df-2c010cfe-162f-49a2-bc42-2df335e49c98 button.colab-df-convert');\n",
              "        buttonEl.style.display =\n",
              "          google.colab.kernel.accessAllowed ? 'block' : 'none';\n",
              "\n",
              "        async function convertToInteractive(key) {\n",
              "          const element = document.querySelector('#df-2c010cfe-162f-49a2-bc42-2df335e49c98');\n",
              "          const dataTable =\n",
              "            await google.colab.kernel.invokeFunction('convertToInteractive',\n",
              "                                                     [key], {});\n",
              "          if (!dataTable) return;\n",
              "\n",
              "          const docLinkHtml = 'Like what you see? Visit the ' +\n",
              "            '<a target=\"_blank\" href=https://colab.research.google.com/notebooks/data_table.ipynb>data table notebook</a>'\n",
              "            + ' to learn more about interactive tables.';\n",
              "          element.innerHTML = '';\n",
              "          dataTable['output_type'] = 'display_data';\n",
              "          await google.colab.output.renderOutput(dataTable, element);\n",
              "          const docLink = document.createElement('div');\n",
              "          docLink.innerHTML = docLinkHtml;\n",
              "          element.appendChild(docLink);\n",
              "        }\n",
              "      </script>\n",
              "    </div>\n",
              "  </div>\n",
              "  "
            ],
            "text/plain": [
              "            Date  ...  Last\n",
              "2351  2019-10-09  ...  Last\n",
              "2515  2019-10-31  ...  Last\n",
              "2521  2019-10-31  ...  Last\n",
              "2527  2019-10-31  ...  Last\n",
              "2532  2019-10-31  ...  Last\n",
              "...          ...  ...   ...\n",
              "54102 2022-01-17  ...  Last\n",
              "54105 2022-01-17  ...  Last\n",
              "54107 2022-01-17  ...  Last\n",
              "54110 2022-01-18  ...  Last\n",
              "54113 2022-01-18  ...  Last\n",
              "\n",
              "[28735 rows x 27 columns]"
            ]
          },
          "metadata": {},
          "execution_count": 12
        }
      ],
      "source": [
        "ptest = prosp_out_df[prosp_out_df['WeekNum']!=outreach_week].copy()\n",
        "m1 = ~ptest.duplicated(['domain','Country'], keep='last')\n",
        "m2 = ptest.duplicated(['domain','Country'], keep= False)\n",
        "m = m1 & m2\n",
        "ptest.loc[m, 'Last'] = 'Last'\n",
        "lastdomain_df = ptest[ptest['Last']=='Last']\n",
        "lastdomain_df"
      ]
    },
    {
      "cell_type": "markdown",
      "metadata": {
        "id": "MtCSv2Xzj-2h"
      },
      "source": [
        "Shape of Outreach File after matching"
      ]
    },
    {
      "cell_type": "code",
      "execution_count": null,
      "metadata": {
        "colab": {
          "base_uri": "https://localhost:8080/"
        },
        "id": "UxFOsggRgKch",
        "outputId": "451c9f41-8f63-448f-ba05-ec4a19366269"
      },
      "outputs": [
        {
          "output_type": "execute_result",
          "data": {
            "text/plain": [
              "(1936, 31)"
            ]
          },
          "metadata": {},
          "execution_count": 13
        }
      ],
      "source": [
        "test_merge = weekly_outreach_fil.merge(lastdomain_df[['Date','domain','Country','LGA','Company Name']], on =['domain','Country'],how='left')#.drop_duplicates(['Email'])\n",
        "test_merge.shape"
      ]
    },
    {
      "cell_type": "markdown",
      "metadata": {
        "id": "UeVVILJVkDIO"
      },
      "source": [
        "Finding < 90 Days companies crossing Country and Domain attributes and showing the shape after dropping rows."
      ]
    },
    {
      "cell_type": "code",
      "execution_count": null,
      "metadata": {
        "colab": {
          "base_uri": "https://localhost:8080/"
        },
        "id": "Ve2agGySjvyR",
        "outputId": "275cc2f6-ab34-406f-f6da-bbf698873a95"
      },
      "outputs": [
        {
          "output_type": "execute_result",
          "data": {
            "text/plain": [
              "(1936, 32)"
            ]
          },
          "metadata": {},
          "execution_count": 14
        }
      ],
      "source": [
        "test_merge['Date_x'] = pd.to_datetime(test_merge['Date_x'])\n",
        "test_merge['Date_y'] = pd.to_datetime(test_merge['Date_y'])\n",
        "test_merge['LastProspDate'] = (test_merge['Date_x'] - test_merge['Date_y']).dt.days\n",
        "#test_merge[(test_merge['LastProspDate'] < 90) & (test_merge['LastProspDate'] != 0) & (test_merge['LastProspDate']!= \"NaN\")]\n",
        "#test_merge = test_merge.drop(test_merge[(test_merge['LastProspDate'] < 90) & (test_merge['LastProspDate'] != 0) & (test_merge['LastProspDate']!= \"NaN\")].index)\n",
        "test_merge.shape"
      ]
    },
    {
      "cell_type": "markdown",
      "metadata": {
        "id": "vff-Dal5k9KJ"
      },
      "source": [
        "Difference in x is contacts with less than 90 days that were removed"
      ]
    },
    {
      "cell_type": "markdown",
      "metadata": {
        "id": "JY5rm-D9lEfS"
      },
      "source": [
        "####Checking Last Prospection Date for emails and removing <220 days"
      ]
    },
    {
      "cell_type": "markdown",
      "metadata": {
        "id": "jwsWt6z5vo3P"
      },
      "source": [
        "Same logic, but for e-mails, using loc with subtraction of duplicated combinations of email to keep only a dataset with \"lasts\" to pass on the filter later"
      ]
    },
    {
      "cell_type": "code",
      "execution_count": null,
      "metadata": {
        "colab": {
          "base_uri": "https://localhost:8080/"
        },
        "id": "vtyzLLMwvo3Q",
        "outputId": "c21042c7-14f1-4df6-d1dc-8faac2242ccc"
      },
      "outputs": [
        {
          "output_type": "execute_result",
          "data": {
            "text/plain": [
              "(25883, 27)"
            ]
          },
          "metadata": {},
          "execution_count": 15
        }
      ],
      "source": [
        "ptest_email = prosp_out_df[prosp_out_df['WeekNum']!=outreach_week].copy()\n",
        "m1_email = ~ptest_email.duplicated(['Email'], keep='last')\n",
        "m2_email = ptest_email.duplicated(['Email'], keep= False)\n",
        "m_email = m1_email & m2_email\n",
        "ptest_email.loc[m_email, 'Last'] = 'Last'\n",
        "lastemail_df = ptest_email[ptest_email['Last']=='Last']\n",
        "lastemail_df.shape"
      ]
    },
    {
      "cell_type": "code",
      "execution_count": null,
      "metadata": {
        "id": "q32R2FridzlJ",
        "colab": {
          "base_uri": "https://localhost:8080/"
        },
        "outputId": "87fb5101-fa6c-4221-e193-a3201547fd91"
      },
      "outputs": [
        {
          "output_type": "execute_result",
          "data": {
            "text/plain": [
              "(1936, 34)"
            ]
          },
          "metadata": {},
          "execution_count": 16
        }
      ],
      "source": [
        "test_merge2 = test_merge.merge(lastemail_df[['Date','Email','Country','Name']], on =['Email','Country'],how='left')#.drop_duplicates(['Email'])\n",
        "test_merge2.shape"
      ]
    },
    {
      "cell_type": "code",
      "execution_count": null,
      "metadata": {
        "colab": {
          "base_uri": "https://localhost:8080/"
        },
        "id": "L95zGxbwlmY5",
        "outputId": "2f52aa75-16f7-4138-c504-bf421b20da62"
      },
      "outputs": [
        {
          "output_type": "execute_result",
          "data": {
            "text/plain": [
              "(1936, 35)"
            ]
          },
          "metadata": {},
          "execution_count": 17
        }
      ],
      "source": [
        "test_merge2['LastProspEmailDate'] = (test_merge2['Date_x'] - test_merge2['Date']).dt.days\n",
        "#test_merge2[(test_merge2['LastProspEmailDate'] < 220) & (test_merge2['LastProspEmailDate'] != 0) & (test_merge2['LastProspEmailDate']!= \"NaN\")]\n",
        "#test_merge2 = test_merge2.drop(test_merge2[(test_merge2['LastProspEmailDate'] < 220) & (test_merge2['LastProspEmailDate'] != 0) & (test_merge2['LastProspEmailDate']!= \"NaN\")].index)\n",
        "test_merge2.shape"
      ]
    },
    {
      "cell_type": "markdown",
      "source": [
        "#### Checking last Contact on Hubspot"
      ],
      "metadata": {
        "id": "MomjapP7sR9T"
      }
    },
    {
      "cell_type": "markdown",
      "source": [
        "Accessing Hubspot's Contacts Report"
      ],
      "metadata": {
        "id": "id_nRgfqseX4"
      }
    },
    {
      "cell_type": "code",
      "source": [
        "hb_cont_download = drive.CreateFile({'id':'1k4XJtuLPSU4K8oR35XSB4aOqD1_3kXYo'})\n",
        "hb_cont_download.GetContentFile('ContactReport.xlsx')\n",
        "hbcontacts_df = pd.read_excel('ContactReport.xlsx')\n",
        "hbcontacts_df.columns"
      ],
      "metadata": {
        "colab": {
          "base_uri": "https://localhost:8080/"
        },
        "id": "WqfNfhHisXX2",
        "outputId": "fad182aa-e996-4d28-e9d7-fa9ebb3b0a15"
      },
      "execution_count": null,
      "outputs": [
        {
          "output_type": "execute_result",
          "data": {
            "text/plain": [
              "Index(['Contact ID', 'First Name', 'Last Name', 'Email', 'Email Domain',\n",
              "       'Create Date', 'Last Activity Date', 'Last Contacted', 'Contact owner',\n",
              "       'Prospector', 'Job Title', 'Phone Number', 'Mobile Phone Number',\n",
              "       'Company Name', 'Company size', 'Country Instapage', 'Area',\n",
              "       'Marketing contact status', 'Strategy', 'Original Source',\n",
              "       'Original Source Drill-Down 1', 'Original Source Drill-Down 2',\n",
              "       'Marketing contact until next update', 'Lifecycle Stage'],\n",
              "      dtype='object')"
            ]
          },
          "metadata": {},
          "execution_count": 18
        }
      ]
    },
    {
      "cell_type": "code",
      "execution_count": null,
      "metadata": {
        "colab": {
          "base_uri": "https://localhost:8080/"
        },
        "outputId": "7d2e2c12-b784-463d-dc88-fae58f8f8eff",
        "id": "K8XnLdVVuY9k"
      },
      "outputs": [
        {
          "output_type": "execute_result",
          "data": {
            "text/plain": [
              "0         NaN\n",
              "1       147.0\n",
              "2         NaN\n",
              "3         NaN\n",
              "4         NaN\n",
              "        ...  \n",
              "1931      NaN\n",
              "1932      NaN\n",
              "1933      NaN\n",
              "1934    223.0\n",
              "1935    499.0\n",
              "Name: LastHubSpotDate, Length: 1936, dtype: float64"
            ]
          },
          "metadata": {},
          "execution_count": 19
        }
      ],
      "source": [
        "hb_merge1 = test_merge2.merge(hbcontacts_df[['Last Activity Date','Email']], on =['Email'],how='left')#.drop_duplicates(['Email'])\n",
        "hb_merge1['LastHubSpotDate'] = (hb_merge1['Date_x'] - hb_merge1['Last Activity Date']).dt.days\n",
        "hb_merge1['LastHubSpotDate']"
      ]
    },
    {
      "cell_type": "markdown",
      "source": [
        "#### Checking last contact on Mailshake"
      ],
      "metadata": {
        "id": "9nOW_MzKwydq"
      }
    },
    {
      "cell_type": "code",
      "source": [
        "msreport_downl = drive.CreateFile({'id':'1PeexA0aSk9zTWbgyTn1mle74IlNdCCXo'})\n",
        "msreport_downl.GetContentFile('MailshakeReport.csv')\n",
        "mailshake_df = pd.read_csv('MailshakeReport.csv',delimiter=\";\")\n",
        "mailshake_df.columns"
      ],
      "metadata": {
        "colab": {
          "base_uri": "https://localhost:8080/"
        },
        "outputId": "f695077e-80e1-4350-86d6-b7a5ce109a7e",
        "id": "CscY4m67wxwN"
      },
      "execution_count": null,
      "outputs": [
        {
          "output_type": "stream",
          "name": "stderr",
          "text": [
            "/usr/local/lib/python3.7/dist-packages/IPython/core/interactiveshell.py:2718: DtypeWarning: Columns (9,20,21,22,23,25,26,27,28,29,30,31,32,33,34,36,38,39,40,41,42,44,45,46,47,48,49,50,52,53,54,55,56,57,58,59,60,61,62,65,66,67,70,71,72,73,75,76,77,80,81,83,85,89,90,91,92,93,97,98,100,104,106,107,110,111,112,113,114,115,116,117,118,119,120,121,122,123,124,125,126,127,128,129,131,132,133,134,135,136,137,138) have mixed types.Specify dtype option on import or set low_memory=False.\n",
            "  interactivity=interactivity, compiler=compiler, result=result)\n"
          ]
        },
        {
          "output_type": "execute_result",
          "data": {
            "text/plain": [
              "Index(['Email', 'Name', 'Campaign', 'Message', 'Subject', 'Sent date',\n",
              "       'First open date', 'Reply date', 'Campaign ID', 'Click count',\n",
              "       ...\n",
              "       'pÃ¡gina web', 'id', 'Ã¡rea', 'account', 'comments', 'emaildomain',\n",
              "       'lost reason', 'next step', 'telehpone', 'clients'],\n",
              "      dtype='object', length=139)"
            ]
          },
          "metadata": {},
          "execution_count": 20
        }
      ]
    },
    {
      "cell_type": "code",
      "source": [
        "m1_ms = ~mailshake_df.duplicated(['Email'], keep='last')\n",
        "m2_ms = mailshake_df.duplicated(['Email'], keep= False)\n",
        "m_ms = m1_ms & m2_ms\n",
        "mailshake_df.loc[m_ms, 'Last'] = 'Last'\n",
        "lastms_df = mailshake_df[mailshake_df['Last']=='Last']\n",
        "lastms_df.shape"
      ],
      "metadata": {
        "colab": {
          "base_uri": "https://localhost:8080/"
        },
        "id": "rSw3XMrlxFHD",
        "outputId": "c8bcc86d-f9b0-4b4a-e479-c44ddc5d96c9"
      },
      "execution_count": null,
      "outputs": [
        {
          "output_type": "execute_result",
          "data": {
            "text/plain": [
              "(127607, 140)"
            ]
          },
          "metadata": {},
          "execution_count": 21
        }
      ]
    },
    {
      "cell_type": "code",
      "execution_count": null,
      "metadata": {
        "colab": {
          "base_uri": "https://localhost:8080/"
        },
        "outputId": "b46f20fa-8780-408d-b563-22b6485e0297",
        "id": "c4mEeEw9wxwU"
      },
      "outputs": [
        {
          "output_type": "execute_result",
          "data": {
            "text/plain": [
              "(1936, 39)"
            ]
          },
          "metadata": {},
          "execution_count": 22
        }
      ],
      "source": [
        "ms_merge1 = hb_merge1.merge(lastms_df[['Sent date','Email']], on =['Email'],how='left')#.drop_duplicates(['Email'])\n",
        "ms_merge1['Sent date'] = pd.to_datetime(ms_merge1['Sent date'])\n",
        "ms_merge1['LastMailShakeDate'] = (ms_merge1['Date_x'] - ms_merge1['Sent date']).dt.days\n",
        "ms_merge1.shape"
      ]
    },
    {
      "cell_type": "markdown",
      "source": [
        "####Denining final columns after check"
      ],
      "metadata": {
        "id": "WJD0PJY2uNEi"
      }
    },
    {
      "cell_type": "markdown",
      "metadata": {
        "id": "Rr4k1mZ3Z7Fx"
      },
      "source": [
        "Re-defining weekly_outreach_fil as the output to work on next functions and dropping formulated columns"
      ]
    },
    {
      "cell_type": "code",
      "execution_count": null,
      "metadata": {
        "colab": {
          "base_uri": "https://localhost:8080/"
        },
        "id": "3k7gJTbTZ6i_",
        "outputId": "e5f90448-439e-41d8-d083-b8ae3ebf591e"
      },
      "outputs": [
        {
          "output_type": "execute_result",
          "data": {
            "text/plain": [
              "Index(['Date', 'Company Name', 'ID', 'S-ID', 'LGA', 'Country', 'City',\n",
              "       'Score Corp', 'Course 1', 'Course 2', 'Web page', 'First Name',\n",
              "       'Last Name', 'Contact Name', 'Score', 'Title', 'Email',\n",
              "       'LinkedIn Profile', 'Phone', 'Industry', 'Sector', 'Company ID',\n",
              "       'website', 'Name', 'NeverBounce', 'domain', 'WeekNum', 'Head Industry',\n",
              "       'LastProspDate', 'LastProspEmailDate', 'LastHubSpotDate',\n",
              "       'LastMailShakeDate'],\n",
              "      dtype='object')"
            ]
          },
          "metadata": {},
          "execution_count": 23
        }
      ],
      "source": [
        "weekly_outreach_fil = ms_merge1[['Date_x', 'Company Name_x', 'ID', 'S-ID', 'LGA_x', 'Country', 'City',\n",
        "       'Score Corp', 'Course 1', 'Course 2', 'Web page', 'First Name',\n",
        "       'Last Name', 'Contact Name', 'Score', 'Title', 'Email',\n",
        "       'LinkedIn Profile', 'Phone', 'Industry','Industry_T', 'Company ID', 'website',\n",
        "       'Name_x', 'NeverBounce', 'domain', 'WeekNum', 'Head Industry',\n",
        "       'LastProspDate','LastProspEmailDate','LastHubSpotDate','LastMailShakeDate']].rename(columns={'Date_x':'Date','Company Name_x':'Company Name','LGA_x':'LGA','Name_x':'Name','Industry_T':'Sector'})\n",
        "weekly_outreach_fil.columns"
      ]
    },
    {
      "cell_type": "markdown",
      "metadata": {
        "id": "7rSmljVbEYWy"
      },
      "source": [
        "### Checking for Email Duplicates and Dropping"
      ]
    },
    {
      "cell_type": "markdown",
      "metadata": {
        "id": "CCUXaiTBLxDz"
      },
      "source": [
        "Function to check on Duplicates, show them and remove them if needed"
      ]
    },
    {
      "cell_type": "code",
      "execution_count": null,
      "metadata": {
        "colab": {
          "base_uri": "https://localhost:8080/"
        },
        "id": "wfTpKGVPHLm6",
        "outputId": "3155be2e-a268-4a73-c58b-e4aae9136ca6"
      },
      "outputs": [
        {
          "output_type": "stream",
          "name": "stdout",
          "text": [
            "No Duplicates\n"
          ]
        }
      ],
      "source": [
        "check_email_dup = weekly_outreach_fil[['Email','Company Name','LGA']].groupby(['LGA','Email']).count()\n",
        "check_email_dup['Company Name'] = pd.to_numeric(check_email_dup['Company Name'])\n",
        "def checkdup(check_email_dup):\n",
        "  if [i for i in check_email_dup['Company Name'] if i > 1]:\n",
        "    return print(\" ## HAS DUPLICATES THAT WILL BE ELIMINATED ## \", check_email_dup[check_email_dup['Company Name']>1])\n",
        "  else:\n",
        "    return print(\"No Duplicates\")\n",
        "checkdup(check_email_dup)\n",
        "weekly_outreach = weekly_outreach_fil.drop_duplicates('Email') #outreach file without duplicates"
      ]
    },
    {
      "cell_type": "markdown",
      "metadata": {
        "id": "OwoAofp_FKEH"
      },
      "source": [
        "### Applying Cluster Structure"
      ]
    },
    {
      "cell_type": "markdown",
      "metadata": {
        "id": "aNk1ZKQMod6D"
      },
      "source": [
        "Dropping Industry & Head Industry columns as keys"
      ]
    },
    {
      "cell_type": "code",
      "execution_count": null,
      "metadata": {
        "colab": {
          "base_uri": "https://localhost:8080/"
        },
        "id": "pIrVLdQAK36g",
        "outputId": "c60630c3-416f-460f-88c2-d282aab24e94"
      },
      "outputs": [
        {
          "output_type": "execute_result",
          "data": {
            "text/html": [
              "\n",
              "  <div id=\"df-55424864-289f-44a6-8a3f-6d35a1f0401b\">\n",
              "    <div class=\"colab-df-container\">\n",
              "      <div>\n",
              "<style scoped>\n",
              "    .dataframe tbody tr th:only-of-type {\n",
              "        vertical-align: middle;\n",
              "    }\n",
              "\n",
              "    .dataframe tbody tr th {\n",
              "        vertical-align: top;\n",
              "    }\n",
              "\n",
              "    .dataframe thead th {\n",
              "        text-align: right;\n",
              "    }\n",
              "</style>\n",
              "<table border=\"1\" class=\"dataframe\">\n",
              "  <thead>\n",
              "    <tr style=\"text-align: right;\">\n",
              "      <th></th>\n",
              "      <th>#</th>\n",
              "      <th></th>\n",
              "      <th>HEAD INDUSTRIES</th>\n",
              "      <th>LATAM LGA</th>\n",
              "      <th>LATAM BDR</th>\n",
              "      <th>LATAM KAM</th>\n",
              "      <th>LATAM CLUSTER</th>\n",
              "      <th>BRASIL LGA</th>\n",
              "      <th>BRASIL BDR</th>\n",
              "      <th>BRASIL KAM</th>\n",
              "      <th>BRASIL CLUSTER</th>\n",
              "      <th>MX LGA</th>\n",
              "      <th>MX BDR</th>\n",
              "      <th>MX KAM</th>\n",
              "      <th>MX CLUSTER</th>\n",
              "      <th>INBOUND</th>\n",
              "    </tr>\n",
              "  </thead>\n",
              "  <tbody>\n",
              "    <tr>\n",
              "      <th>0</th>\n",
              "      <td>1</td>\n",
              "      <td></td>\n",
              "      <td>Automotive</td>\n",
              "      <td>Daniela</td>\n",
              "      <td>David</td>\n",
              "      <td>Luisa</td>\n",
              "      <td>Latam 1A</td>\n",
              "      <td></td>\n",
              "      <td>Debora</td>\n",
              "      <td>Gabriela</td>\n",
              "      <td>BR 1</td>\n",
              "      <td>Arturo</td>\n",
              "      <td>Monica</td>\n",
              "      <td>Jimena</td>\n",
              "      <td>MX 1</td>\n",
              "      <td>Inbound</td>\n",
              "    </tr>\n",
              "    <tr>\n",
              "      <th>1</th>\n",
              "      <td>2</td>\n",
              "      <td></td>\n",
              "      <td>Construction and Engineering</td>\n",
              "      <td>Daniela</td>\n",
              "      <td>David</td>\n",
              "      <td>Luisa</td>\n",
              "      <td>Latam 1A</td>\n",
              "      <td></td>\n",
              "      <td>Debora</td>\n",
              "      <td>Gabriela</td>\n",
              "      <td>BR 1</td>\n",
              "      <td>Paola</td>\n",
              "      <td>Roberto</td>\n",
              "      <td>Carlos</td>\n",
              "      <td>MX 1A</td>\n",
              "      <td>Inbound</td>\n",
              "    </tr>\n",
              "    <tr>\n",
              "      <th>2</th>\n",
              "      <td>3</td>\n",
              "      <td></td>\n",
              "      <td>Human Resources</td>\n",
              "      <td>Daniela</td>\n",
              "      <td>David</td>\n",
              "      <td>Luisa</td>\n",
              "      <td>Latam 1A</td>\n",
              "      <td>Renata</td>\n",
              "      <td>Lara</td>\n",
              "      <td>Gabriela</td>\n",
              "      <td>BR 2</td>\n",
              "      <td>Arturo</td>\n",
              "      <td>Monica</td>\n",
              "      <td>Jimena</td>\n",
              "      <td>MX 1</td>\n",
              "      <td>Inbound</td>\n",
              "    </tr>\n",
              "  </tbody>\n",
              "</table>\n",
              "</div>\n",
              "      <button class=\"colab-df-convert\" onclick=\"convertToInteractive('df-55424864-289f-44a6-8a3f-6d35a1f0401b')\"\n",
              "              title=\"Convert this dataframe to an interactive table.\"\n",
              "              style=\"display:none;\">\n",
              "        \n",
              "  <svg xmlns=\"http://www.w3.org/2000/svg\" height=\"24px\"viewBox=\"0 0 24 24\"\n",
              "       width=\"24px\">\n",
              "    <path d=\"M0 0h24v24H0V0z\" fill=\"none\"/>\n",
              "    <path d=\"M18.56 5.44l.94 2.06.94-2.06 2.06-.94-2.06-.94-.94-2.06-.94 2.06-2.06.94zm-11 1L8.5 8.5l.94-2.06 2.06-.94-2.06-.94L8.5 2.5l-.94 2.06-2.06.94zm10 10l.94 2.06.94-2.06 2.06-.94-2.06-.94-.94-2.06-.94 2.06-2.06.94z\"/><path d=\"M17.41 7.96l-1.37-1.37c-.4-.4-.92-.59-1.43-.59-.52 0-1.04.2-1.43.59L10.3 9.45l-7.72 7.72c-.78.78-.78 2.05 0 2.83L4 21.41c.39.39.9.59 1.41.59.51 0 1.02-.2 1.41-.59l7.78-7.78 2.81-2.81c.8-.78.8-2.07 0-2.86zM5.41 20L4 18.59l7.72-7.72 1.47 1.35L5.41 20z\"/>\n",
              "  </svg>\n",
              "      </button>\n",
              "      \n",
              "  <style>\n",
              "    .colab-df-container {\n",
              "      display:flex;\n",
              "      flex-wrap:wrap;\n",
              "      gap: 12px;\n",
              "    }\n",
              "\n",
              "    .colab-df-convert {\n",
              "      background-color: #E8F0FE;\n",
              "      border: none;\n",
              "      border-radius: 50%;\n",
              "      cursor: pointer;\n",
              "      display: none;\n",
              "      fill: #1967D2;\n",
              "      height: 32px;\n",
              "      padding: 0 0 0 0;\n",
              "      width: 32px;\n",
              "    }\n",
              "\n",
              "    .colab-df-convert:hover {\n",
              "      background-color: #E2EBFA;\n",
              "      box-shadow: 0px 1px 2px rgba(60, 64, 67, 0.3), 0px 1px 3px 1px rgba(60, 64, 67, 0.15);\n",
              "      fill: #174EA6;\n",
              "    }\n",
              "\n",
              "    [theme=dark] .colab-df-convert {\n",
              "      background-color: #3B4455;\n",
              "      fill: #D2E3FC;\n",
              "    }\n",
              "\n",
              "    [theme=dark] .colab-df-convert:hover {\n",
              "      background-color: #434B5C;\n",
              "      box-shadow: 0px 1px 3px 1px rgba(0, 0, 0, 0.15);\n",
              "      filter: drop-shadow(0px 1px 2px rgba(0, 0, 0, 0.3));\n",
              "      fill: #FFFFFF;\n",
              "    }\n",
              "  </style>\n",
              "\n",
              "      <script>\n",
              "        const buttonEl =\n",
              "          document.querySelector('#df-55424864-289f-44a6-8a3f-6d35a1f0401b button.colab-df-convert');\n",
              "        buttonEl.style.display =\n",
              "          google.colab.kernel.accessAllowed ? 'block' : 'none';\n",
              "\n",
              "        async function convertToInteractive(key) {\n",
              "          const element = document.querySelector('#df-55424864-289f-44a6-8a3f-6d35a1f0401b');\n",
              "          const dataTable =\n",
              "            await google.colab.kernel.invokeFunction('convertToInteractive',\n",
              "                                                     [key], {});\n",
              "          if (!dataTable) return;\n",
              "\n",
              "          const docLinkHtml = 'Like what you see? Visit the ' +\n",
              "            '<a target=\"_blank\" href=https://colab.research.google.com/notebooks/data_table.ipynb>data table notebook</a>'\n",
              "            + ' to learn more about interactive tables.';\n",
              "          element.innerHTML = '';\n",
              "          dataTable['output_type'] = 'display_data';\n",
              "          await google.colab.output.renderOutput(dataTable, element);\n",
              "          const docLink = document.createElement('div');\n",
              "          docLink.innerHTML = docLinkHtml;\n",
              "          element.appendChild(docLink);\n",
              "        }\n",
              "      </script>\n",
              "    </div>\n",
              "  </div>\n",
              "  "
            ],
            "text/plain": [
              "   #                 HEAD INDUSTRIES  ...  MX KAM MX CLUSTER  INBOUND\n",
              "0  1                      Automotive  ...  Jimena       MX 1  Inbound\n",
              "1  2    Construction and Engineering  ...  Carlos      MX 1A  Inbound\n",
              "2  3                 Human Resources  ...  Jimena       MX 1  Inbound\n",
              "\n",
              "[3 rows x 16 columns]"
            ]
          },
          "metadata": {},
          "execution_count": 25
        }
      ],
      "source": [
        "df_industries_bdr = df_industries.drop(['Industry','Head Industry'],axis=1)\n",
        "df_industries_bdr.head(3)"
      ]
    },
    {
      "cell_type": "markdown",
      "metadata": {
        "id": "x77pKYm9XBM_"
      },
      "source": [
        "Dictonaries based on the [Industries Table](https://docs.google.com/spreadsheets/d/1ASfhwu4pKwET5bz8coI59Bzpn05OuGoZBmWr12nQsyc/edit#gid=0) to map Clusters according to Head Industries"
      ]
    },
    {
      "cell_type": "code",
      "execution_count": null,
      "metadata": {
        "id": "W4Z4ywbfN4c_"
      },
      "outputs": [],
      "source": [
        "c_mx_dict = dict(zip(df_industries_bdr['HEAD INDUSTRIES'],df_industries['MX CLUSTER']))\n",
        "c_br_dict = dict(zip(df_industries_bdr['HEAD INDUSTRIES'],df_industries['BRASIL CLUSTER']))\n",
        "c_latam_dict = dict(zip(df_industries_bdr['HEAD INDUSTRIES'],df_industries['LATAM CLUSTER']))"
      ]
    },
    {
      "cell_type": "markdown",
      "metadata": {
        "id": "G26A6HrrWwDy"
      },
      "source": [
        "Function that uses the previous dictionaries to apply .maps based on the Head Industry from prospection and creates a column with results"
      ]
    },
    {
      "cell_type": "code",
      "execution_count": null,
      "metadata": {
        "colab": {
          "base_uri": "https://localhost:8080/"
        },
        "id": "X-mErCQ_Q6ew",
        "outputId": "917439b1-6f9c-42a2-9f78-e584488892ba"
      },
      "outputs": [
        {
          "output_type": "execute_result",
          "data": {
            "text/html": [
              "\n",
              "  <div id=\"df-1c19cefd-3468-4ff7-a050-cc47c93e4116\">\n",
              "    <div class=\"colab-df-container\">\n",
              "      <div>\n",
              "<style scoped>\n",
              "    .dataframe tbody tr th:only-of-type {\n",
              "        vertical-align: middle;\n",
              "    }\n",
              "\n",
              "    .dataframe tbody tr th {\n",
              "        vertical-align: top;\n",
              "    }\n",
              "\n",
              "    .dataframe thead th {\n",
              "        text-align: right;\n",
              "    }\n",
              "</style>\n",
              "<table border=\"1\" class=\"dataframe\">\n",
              "  <thead>\n",
              "    <tr style=\"text-align: right;\">\n",
              "      <th></th>\n",
              "      <th>Date</th>\n",
              "      <th>Company Name</th>\n",
              "      <th>ID</th>\n",
              "      <th>S-ID</th>\n",
              "      <th>LGA</th>\n",
              "      <th>Country</th>\n",
              "      <th>City</th>\n",
              "      <th>Score Corp</th>\n",
              "      <th>Course 1</th>\n",
              "      <th>Course 2</th>\n",
              "      <th>Web page</th>\n",
              "      <th>First Name</th>\n",
              "      <th>Last Name</th>\n",
              "      <th>Contact Name</th>\n",
              "      <th>Score</th>\n",
              "      <th>Title</th>\n",
              "      <th>Email</th>\n",
              "      <th>LinkedIn Profile</th>\n",
              "      <th>Phone</th>\n",
              "      <th>Industry</th>\n",
              "      <th>Sector</th>\n",
              "      <th>Company ID</th>\n",
              "      <th>website</th>\n",
              "      <th>Name</th>\n",
              "      <th>NeverBounce</th>\n",
              "      <th>domain</th>\n",
              "      <th>WeekNum</th>\n",
              "      <th>Head Industry</th>\n",
              "      <th>LastProspDate</th>\n",
              "      <th>LastProspEmailDate</th>\n",
              "      <th>LastHubSpotDate</th>\n",
              "      <th>LastMailShakeDate</th>\n",
              "      <th>Cluster</th>\n",
              "    </tr>\n",
              "  </thead>\n",
              "  <tbody>\n",
              "    <tr>\n",
              "      <th>0</th>\n",
              "      <td>2022-01-11</td>\n",
              "      <td>Naturmega</td>\n",
              "      <td>NaN</td>\n",
              "      <td></td>\n",
              "      <td>Isabella</td>\n",
              "      <td>Colombia</td>\n",
              "      <td>Barranquilla</td>\n",
              "      <td></td>\n",
              "      <td>Recruiting</td>\n",
              "      <td>Medical</td>\n",
              "      <td>NaN</td>\n",
              "      <td></td>\n",
              "      <td></td>\n",
              "      <td>NaN</td>\n",
              "      <td>2</td>\n",
              "      <td>Analista RH</td>\n",
              "      <td>mdiaz@naturmega.com.co</td>\n",
              "      <td>https://www.linkedin.com/in/maria-camila-diaz-...</td>\n",
              "      <td>(57) 5 371-9773</td>\n",
              "      <td>Alternative Medicine</td>\n",
              "      <td>de medicina alternativa</td>\n",
              "      <td></td>\n",
              "      <td>https://naturmega.com/home</td>\n",
              "      <td>Maria Camila Diaz</td>\n",
              "      <td>valid</td>\n",
              "      <td>naturmega.com.co</td>\n",
              "      <td>2022-Jan-w02</td>\n",
              "      <td>Healthcare &amp; Pharmaceuticals</td>\n",
              "      <td>NaN</td>\n",
              "      <td>NaN</td>\n",
              "      <td>NaN</td>\n",
              "      <td>NaN</td>\n",
              "      <td>Latam 1</td>\n",
              "    </tr>\n",
              "    <tr>\n",
              "      <th>1</th>\n",
              "      <td>2022-01-11</td>\n",
              "      <td>Naturmega</td>\n",
              "      <td>NaN</td>\n",
              "      <td></td>\n",
              "      <td>Isabella</td>\n",
              "      <td>Colombia</td>\n",
              "      <td>Barranquilla</td>\n",
              "      <td></td>\n",
              "      <td>Sales</td>\n",
              "      <td>Medical</td>\n",
              "      <td>NaN</td>\n",
              "      <td></td>\n",
              "      <td></td>\n",
              "      <td>NaN</td>\n",
              "      <td>3</td>\n",
              "      <td>Directora administrativa</td>\n",
              "      <td>pnavarro@naturmega.com.co</td>\n",
              "      <td>https://www.linkedin.com/in/paola-navarro-rome...</td>\n",
              "      <td>(57) 5 371-9773</td>\n",
              "      <td>Alternative Medicine</td>\n",
              "      <td>de medicina alternativa</td>\n",
              "      <td></td>\n",
              "      <td>https://naturmega.com/home</td>\n",
              "      <td>Paola Navarro</td>\n",
              "      <td>unknown</td>\n",
              "      <td>naturmega.com.co</td>\n",
              "      <td>2022-Jan-w02</td>\n",
              "      <td>Healthcare &amp; Pharmaceuticals</td>\n",
              "      <td>NaN</td>\n",
              "      <td>NaN</td>\n",
              "      <td>147.0</td>\n",
              "      <td>1204.0</td>\n",
              "      <td>Latam 1</td>\n",
              "    </tr>\n",
              "    <tr>\n",
              "      <th>2</th>\n",
              "      <td>2022-01-11</td>\n",
              "      <td>Naturmega</td>\n",
              "      <td>NaN</td>\n",
              "      <td></td>\n",
              "      <td>Isabella</td>\n",
              "      <td>Colombia</td>\n",
              "      <td>Barranquilla</td>\n",
              "      <td></td>\n",
              "      <td>Sales</td>\n",
              "      <td>Medical</td>\n",
              "      <td>NaN</td>\n",
              "      <td></td>\n",
              "      <td></td>\n",
              "      <td>NaN</td>\n",
              "      <td>4</td>\n",
              "      <td>Gerente de I&amp;D y Nuevos Negocios</td>\n",
              "      <td>wmartinez@naturmega.com.co</td>\n",
              "      <td>https://www.linkedin.com/in/wilson-martinez-94...</td>\n",
              "      <td>(57) 5 371-9773</td>\n",
              "      <td>Alternative Medicine</td>\n",
              "      <td>de medicina alternativa</td>\n",
              "      <td></td>\n",
              "      <td>https://naturmega.com/home</td>\n",
              "      <td>Wilson Martinez</td>\n",
              "      <td>valid</td>\n",
              "      <td>naturmega.com.co</td>\n",
              "      <td>2022-Jan-w02</td>\n",
              "      <td>Healthcare &amp; Pharmaceuticals</td>\n",
              "      <td>NaN</td>\n",
              "      <td>NaN</td>\n",
              "      <td>NaN</td>\n",
              "      <td>NaN</td>\n",
              "      <td>Latam 1</td>\n",
              "    </tr>\n",
              "  </tbody>\n",
              "</table>\n",
              "</div>\n",
              "      <button class=\"colab-df-convert\" onclick=\"convertToInteractive('df-1c19cefd-3468-4ff7-a050-cc47c93e4116')\"\n",
              "              title=\"Convert this dataframe to an interactive table.\"\n",
              "              style=\"display:none;\">\n",
              "        \n",
              "  <svg xmlns=\"http://www.w3.org/2000/svg\" height=\"24px\"viewBox=\"0 0 24 24\"\n",
              "       width=\"24px\">\n",
              "    <path d=\"M0 0h24v24H0V0z\" fill=\"none\"/>\n",
              "    <path d=\"M18.56 5.44l.94 2.06.94-2.06 2.06-.94-2.06-.94-.94-2.06-.94 2.06-2.06.94zm-11 1L8.5 8.5l.94-2.06 2.06-.94-2.06-.94L8.5 2.5l-.94 2.06-2.06.94zm10 10l.94 2.06.94-2.06 2.06-.94-2.06-.94-.94-2.06-.94 2.06-2.06.94z\"/><path d=\"M17.41 7.96l-1.37-1.37c-.4-.4-.92-.59-1.43-.59-.52 0-1.04.2-1.43.59L10.3 9.45l-7.72 7.72c-.78.78-.78 2.05 0 2.83L4 21.41c.39.39.9.59 1.41.59.51 0 1.02-.2 1.41-.59l7.78-7.78 2.81-2.81c.8-.78.8-2.07 0-2.86zM5.41 20L4 18.59l7.72-7.72 1.47 1.35L5.41 20z\"/>\n",
              "  </svg>\n",
              "      </button>\n",
              "      \n",
              "  <style>\n",
              "    .colab-df-container {\n",
              "      display:flex;\n",
              "      flex-wrap:wrap;\n",
              "      gap: 12px;\n",
              "    }\n",
              "\n",
              "    .colab-df-convert {\n",
              "      background-color: #E8F0FE;\n",
              "      border: none;\n",
              "      border-radius: 50%;\n",
              "      cursor: pointer;\n",
              "      display: none;\n",
              "      fill: #1967D2;\n",
              "      height: 32px;\n",
              "      padding: 0 0 0 0;\n",
              "      width: 32px;\n",
              "    }\n",
              "\n",
              "    .colab-df-convert:hover {\n",
              "      background-color: #E2EBFA;\n",
              "      box-shadow: 0px 1px 2px rgba(60, 64, 67, 0.3), 0px 1px 3px 1px rgba(60, 64, 67, 0.15);\n",
              "      fill: #174EA6;\n",
              "    }\n",
              "\n",
              "    [theme=dark] .colab-df-convert {\n",
              "      background-color: #3B4455;\n",
              "      fill: #D2E3FC;\n",
              "    }\n",
              "\n",
              "    [theme=dark] .colab-df-convert:hover {\n",
              "      background-color: #434B5C;\n",
              "      box-shadow: 0px 1px 3px 1px rgba(0, 0, 0, 0.15);\n",
              "      filter: drop-shadow(0px 1px 2px rgba(0, 0, 0, 0.3));\n",
              "      fill: #FFFFFF;\n",
              "    }\n",
              "  </style>\n",
              "\n",
              "      <script>\n",
              "        const buttonEl =\n",
              "          document.querySelector('#df-1c19cefd-3468-4ff7-a050-cc47c93e4116 button.colab-df-convert');\n",
              "        buttonEl.style.display =\n",
              "          google.colab.kernel.accessAllowed ? 'block' : 'none';\n",
              "\n",
              "        async function convertToInteractive(key) {\n",
              "          const element = document.querySelector('#df-1c19cefd-3468-4ff7-a050-cc47c93e4116');\n",
              "          const dataTable =\n",
              "            await google.colab.kernel.invokeFunction('convertToInteractive',\n",
              "                                                     [key], {});\n",
              "          if (!dataTable) return;\n",
              "\n",
              "          const docLinkHtml = 'Like what you see? Visit the ' +\n",
              "            '<a target=\"_blank\" href=https://colab.research.google.com/notebooks/data_table.ipynb>data table notebook</a>'\n",
              "            + ' to learn more about interactive tables.';\n",
              "          element.innerHTML = '';\n",
              "          dataTable['output_type'] = 'display_data';\n",
              "          await google.colab.output.renderOutput(dataTable, element);\n",
              "          const docLink = document.createElement('div');\n",
              "          docLink.innerHTML = docLinkHtml;\n",
              "          element.appendChild(docLink);\n",
              "        }\n",
              "      </script>\n",
              "    </div>\n",
              "  </div>\n",
              "  "
            ],
            "text/plain": [
              "        Date Company Name   ID  ... LastHubSpotDate LastMailShakeDate  Cluster\n",
              "0 2022-01-11    Naturmega  NaN  ...             NaN               NaN  Latam 1\n",
              "1 2022-01-11    Naturmega  NaN  ...           147.0            1204.0  Latam 1\n",
              "2 2022-01-11    Naturmega  NaN  ...             NaN               NaN  Latam 1\n",
              "\n",
              "[3 rows x 33 columns]"
            ]
          },
          "metadata": {},
          "execution_count": 27
        }
      ],
      "source": [
        "def cluster_names(weekly_outreach):\n",
        "  if(weekly_outreach['Country'] == 'Brasil' or weekly_outreach['Country'] == 'Brazil'):\n",
        "    return weekly_outreach[['Head Industry']].map(c_br_dict)\n",
        "  elif (weekly_outreach['Country'] == 'Mexico' or weekly_outreach['Country'] == 'México'):\n",
        "    return weekly_outreach[['Head Industry']].map(c_mx_dict)\n",
        "  elif (weekly_outreach['Country'] not in ['Brasil','Brazil','Mexico','México']):\n",
        "    return weekly_outreach[['Head Industry']].map(c_latam_dict)\n",
        "\n",
        "df_outreach_cluster = weekly_outreach.assign(Cluster=weekly_outreach.apply(cluster_names,axis=1))\n",
        "df_outreach_cluster.head(3)"
      ]
    },
    {
      "cell_type": "markdown",
      "metadata": {
        "id": "b4q0YCjWvcSx"
      },
      "source": [
        "Now Dictionaries based on the same table but returning BDRs' Names"
      ]
    },
    {
      "cell_type": "code",
      "execution_count": null,
      "metadata": {
        "id": "JFf83rQnvbn6"
      },
      "outputs": [],
      "source": [
        "c_mx_dict_bdr = dict(zip(df_industries_bdr['HEAD INDUSTRIES'],df_industries['MX BDR']))\n",
        "c_br_dict_bdr = dict(zip(df_industries_bdr['HEAD INDUSTRIES'],df_industries['BRASIL BDR']))\n",
        "c_latam_dict_bdr = dict(zip(df_industries_bdr['HEAD INDUSTRIES'],df_industries['LATAM BDR']))"
      ]
    },
    {
      "cell_type": "code",
      "execution_count": null,
      "metadata": {
        "colab": {
          "base_uri": "https://localhost:8080/"
        },
        "id": "mslF04JovaPK",
        "outputId": "e58868f4-9cb7-440f-9a01-eef759fdf5f4"
      },
      "outputs": [
        {
          "output_type": "execute_result",
          "data": {
            "text/html": [
              "\n",
              "  <div id=\"df-218b9c2b-2747-43b3-aebf-ecf96e12a16c\">\n",
              "    <div class=\"colab-df-container\">\n",
              "      <div>\n",
              "<style scoped>\n",
              "    .dataframe tbody tr th:only-of-type {\n",
              "        vertical-align: middle;\n",
              "    }\n",
              "\n",
              "    .dataframe tbody tr th {\n",
              "        vertical-align: top;\n",
              "    }\n",
              "\n",
              "    .dataframe thead th {\n",
              "        text-align: right;\n",
              "    }\n",
              "</style>\n",
              "<table border=\"1\" class=\"dataframe\">\n",
              "  <thead>\n",
              "    <tr style=\"text-align: right;\">\n",
              "      <th></th>\n",
              "      <th>Date</th>\n",
              "      <th>Company Name</th>\n",
              "      <th>ID</th>\n",
              "      <th>S-ID</th>\n",
              "      <th>LGA</th>\n",
              "      <th>Country</th>\n",
              "      <th>City</th>\n",
              "      <th>Score Corp</th>\n",
              "      <th>Course 1</th>\n",
              "      <th>Course 2</th>\n",
              "      <th>Web page</th>\n",
              "      <th>First Name</th>\n",
              "      <th>Last Name</th>\n",
              "      <th>Contact Name</th>\n",
              "      <th>Score</th>\n",
              "      <th>Title</th>\n",
              "      <th>Email</th>\n",
              "      <th>LinkedIn Profile</th>\n",
              "      <th>Phone</th>\n",
              "      <th>Industry</th>\n",
              "      <th>Sector</th>\n",
              "      <th>Company ID</th>\n",
              "      <th>website</th>\n",
              "      <th>Name</th>\n",
              "      <th>NeverBounce</th>\n",
              "      <th>domain</th>\n",
              "      <th>WeekNum</th>\n",
              "      <th>Head Industry</th>\n",
              "      <th>LastProspDate</th>\n",
              "      <th>LastProspEmailDate</th>\n",
              "      <th>LastHubSpotDate</th>\n",
              "      <th>LastMailShakeDate</th>\n",
              "      <th>Cluster</th>\n",
              "      <th>BDR</th>\n",
              "    </tr>\n",
              "  </thead>\n",
              "  <tbody>\n",
              "    <tr>\n",
              "      <th>1933</th>\n",
              "      <td>2022-01-14</td>\n",
              "      <td>Novatec Solutions</td>\n",
              "      <td>NaN</td>\n",
              "      <td></td>\n",
              "      <td>Ericka</td>\n",
              "      <td>Colombia</td>\n",
              "      <td>Bogotá</td>\n",
              "      <td></td>\n",
              "      <td>Technology</td>\n",
              "      <td>Software Development</td>\n",
              "      <td>NaN</td>\n",
              "      <td></td>\n",
              "      <td></td>\n",
              "      <td>NaN</td>\n",
              "      <td>4</td>\n",
              "      <td>Especialista en CRM</td>\n",
              "      <td>john.laverde@novatec.com.co</td>\n",
              "      <td>https://www.linkedin.com/in/johnlaverde</td>\n",
              "      <td>(57 1) 668 0339</td>\n",
              "      <td>Information Technology and Services</td>\n",
              "      <td>de servicios y tecnologias de la informacion</td>\n",
              "      <td></td>\n",
              "      <td>https://www.novatecsolutions.co/</td>\n",
              "      <td>John jairo laverde gonzalez</td>\n",
              "      <td>valid</td>\n",
              "      <td>novatec.com.co</td>\n",
              "      <td>2022-Jan-w02</td>\n",
              "      <td>Technology &amp; Design</td>\n",
              "      <td>NaN</td>\n",
              "      <td>NaN</td>\n",
              "      <td>NaN</td>\n",
              "      <td>NaN</td>\n",
              "      <td>Latam 2</td>\n",
              "      <td>Melanie</td>\n",
              "    </tr>\n",
              "    <tr>\n",
              "      <th>1934</th>\n",
              "      <td>2022-01-14</td>\n",
              "      <td>Fiduagraria sa</td>\n",
              "      <td>NaN</td>\n",
              "      <td></td>\n",
              "      <td>Ericka</td>\n",
              "      <td>Colombia</td>\n",
              "      <td>Bogotá</td>\n",
              "      <td></td>\n",
              "      <td>Corporate Finance</td>\n",
              "      <td>Economics</td>\n",
              "      <td>NaN</td>\n",
              "      <td></td>\n",
              "      <td></td>\n",
              "      <td>NaN</td>\n",
              "      <td>1</td>\n",
              "      <td>Jefe de Gestión Humana</td>\n",
              "      <td>mlasprilla@fiduagraria.gov.co</td>\n",
              "      <td>https://www.linkedin.com/in/melissa-lasprilla</td>\n",
              "      <td>(601) 560 9886</td>\n",
              "      <td>Financial Services</td>\n",
              "      <td>financiero</td>\n",
              "      <td></td>\n",
              "      <td>https://www.fiduagraria.gov.co/</td>\n",
              "      <td>Melissa Lasprilla</td>\n",
              "      <td>valid</td>\n",
              "      <td>fiduagraria.gov.co</td>\n",
              "      <td>2022-Jan-w02</td>\n",
              "      <td>Financial Services</td>\n",
              "      <td>1085.0</td>\n",
              "      <td>1085.0</td>\n",
              "      <td>223.0</td>\n",
              "      <td>1016.0</td>\n",
              "      <td>Latam 2</td>\n",
              "      <td>Melanie</td>\n",
              "    </tr>\n",
              "    <tr>\n",
              "      <th>1935</th>\n",
              "      <td>2022-01-14</td>\n",
              "      <td>Fiduagraria sa</td>\n",
              "      <td>NaN</td>\n",
              "      <td></td>\n",
              "      <td>Ericka</td>\n",
              "      <td>Colombia</td>\n",
              "      <td>Bogotá</td>\n",
              "      <td></td>\n",
              "      <td>Corporate Finance</td>\n",
              "      <td>Economics</td>\n",
              "      <td>NaN</td>\n",
              "      <td></td>\n",
              "      <td></td>\n",
              "      <td>NaN</td>\n",
              "      <td>2</td>\n",
              "      <td>Analista de Desarrollo y Formación</td>\n",
              "      <td>mamorales@fiduagraria.gov.co</td>\n",
              "      <td>https://www.linkedin.com/in/mariana-morales-ro...</td>\n",
              "      <td>(601) 560 9886</td>\n",
              "      <td>Financial Services</td>\n",
              "      <td>financiero</td>\n",
              "      <td></td>\n",
              "      <td>https://www.fiduagraria.gov.co/</td>\n",
              "      <td>Mariana Morales Rojas</td>\n",
              "      <td>unknown</td>\n",
              "      <td>fiduagraria.gov.co</td>\n",
              "      <td>2022-Jan-w02</td>\n",
              "      <td>Financial Services</td>\n",
              "      <td>1085.0</td>\n",
              "      <td>NaN</td>\n",
              "      <td>499.0</td>\n",
              "      <td>NaN</td>\n",
              "      <td>Latam 2</td>\n",
              "      <td>Melanie</td>\n",
              "    </tr>\n",
              "  </tbody>\n",
              "</table>\n",
              "</div>\n",
              "      <button class=\"colab-df-convert\" onclick=\"convertToInteractive('df-218b9c2b-2747-43b3-aebf-ecf96e12a16c')\"\n",
              "              title=\"Convert this dataframe to an interactive table.\"\n",
              "              style=\"display:none;\">\n",
              "        \n",
              "  <svg xmlns=\"http://www.w3.org/2000/svg\" height=\"24px\"viewBox=\"0 0 24 24\"\n",
              "       width=\"24px\">\n",
              "    <path d=\"M0 0h24v24H0V0z\" fill=\"none\"/>\n",
              "    <path d=\"M18.56 5.44l.94 2.06.94-2.06 2.06-.94-2.06-.94-.94-2.06-.94 2.06-2.06.94zm-11 1L8.5 8.5l.94-2.06 2.06-.94-2.06-.94L8.5 2.5l-.94 2.06-2.06.94zm10 10l.94 2.06.94-2.06 2.06-.94-2.06-.94-.94-2.06-.94 2.06-2.06.94z\"/><path d=\"M17.41 7.96l-1.37-1.37c-.4-.4-.92-.59-1.43-.59-.52 0-1.04.2-1.43.59L10.3 9.45l-7.72 7.72c-.78.78-.78 2.05 0 2.83L4 21.41c.39.39.9.59 1.41.59.51 0 1.02-.2 1.41-.59l7.78-7.78 2.81-2.81c.8-.78.8-2.07 0-2.86zM5.41 20L4 18.59l7.72-7.72 1.47 1.35L5.41 20z\"/>\n",
              "  </svg>\n",
              "      </button>\n",
              "      \n",
              "  <style>\n",
              "    .colab-df-container {\n",
              "      display:flex;\n",
              "      flex-wrap:wrap;\n",
              "      gap: 12px;\n",
              "    }\n",
              "\n",
              "    .colab-df-convert {\n",
              "      background-color: #E8F0FE;\n",
              "      border: none;\n",
              "      border-radius: 50%;\n",
              "      cursor: pointer;\n",
              "      display: none;\n",
              "      fill: #1967D2;\n",
              "      height: 32px;\n",
              "      padding: 0 0 0 0;\n",
              "      width: 32px;\n",
              "    }\n",
              "\n",
              "    .colab-df-convert:hover {\n",
              "      background-color: #E2EBFA;\n",
              "      box-shadow: 0px 1px 2px rgba(60, 64, 67, 0.3), 0px 1px 3px 1px rgba(60, 64, 67, 0.15);\n",
              "      fill: #174EA6;\n",
              "    }\n",
              "\n",
              "    [theme=dark] .colab-df-convert {\n",
              "      background-color: #3B4455;\n",
              "      fill: #D2E3FC;\n",
              "    }\n",
              "\n",
              "    [theme=dark] .colab-df-convert:hover {\n",
              "      background-color: #434B5C;\n",
              "      box-shadow: 0px 1px 3px 1px rgba(0, 0, 0, 0.15);\n",
              "      filter: drop-shadow(0px 1px 2px rgba(0, 0, 0, 0.3));\n",
              "      fill: #FFFFFF;\n",
              "    }\n",
              "  </style>\n",
              "\n",
              "      <script>\n",
              "        const buttonEl =\n",
              "          document.querySelector('#df-218b9c2b-2747-43b3-aebf-ecf96e12a16c button.colab-df-convert');\n",
              "        buttonEl.style.display =\n",
              "          google.colab.kernel.accessAllowed ? 'block' : 'none';\n",
              "\n",
              "        async function convertToInteractive(key) {\n",
              "          const element = document.querySelector('#df-218b9c2b-2747-43b3-aebf-ecf96e12a16c');\n",
              "          const dataTable =\n",
              "            await google.colab.kernel.invokeFunction('convertToInteractive',\n",
              "                                                     [key], {});\n",
              "          if (!dataTable) return;\n",
              "\n",
              "          const docLinkHtml = 'Like what you see? Visit the ' +\n",
              "            '<a target=\"_blank\" href=https://colab.research.google.com/notebooks/data_table.ipynb>data table notebook</a>'\n",
              "            + ' to learn more about interactive tables.';\n",
              "          element.innerHTML = '';\n",
              "          dataTable['output_type'] = 'display_data';\n",
              "          await google.colab.output.renderOutput(dataTable, element);\n",
              "          const docLink = document.createElement('div');\n",
              "          docLink.innerHTML = docLinkHtml;\n",
              "          element.appendChild(docLink);\n",
              "        }\n",
              "      </script>\n",
              "    </div>\n",
              "  </div>\n",
              "  "
            ],
            "text/plain": [
              "           Date       Company Name   ID  ... LastMailShakeDate  Cluster      BDR\n",
              "1933 2022-01-14  Novatec Solutions  NaN  ...               NaN  Latam 2  Melanie\n",
              "1934 2022-01-14     Fiduagraria sa  NaN  ...            1016.0  Latam 2  Melanie\n",
              "1935 2022-01-14     Fiduagraria sa  NaN  ...               NaN  Latam 2  Melanie\n",
              "\n",
              "[3 rows x 34 columns]"
            ]
          },
          "metadata": {},
          "execution_count": 29
        }
      ],
      "source": [
        "def bdrs_names(df_outreach_cluster):\n",
        "  if(df_outreach_cluster['Country'] == 'Brasil' or df_outreach_cluster['Country'] == 'Brazil'):\n",
        "    return df_outreach_cluster[['Head Industry']].map(c_br_dict_bdr)\n",
        "  elif (df_outreach_cluster['Country'] == 'Mexico' or df_outreach_cluster['Country'] == 'México'):\n",
        "    return df_outreach_cluster[['Head Industry']].map(c_mx_dict_bdr)\n",
        "  elif (df_outreach_cluster['Country'] not in ['Brasil','Brazil','Mexico','México']):\n",
        "    return df_outreach_cluster[['Head Industry']].map(c_latam_dict_bdr)\n",
        "\n",
        "df_outreach = df_outreach_cluster.assign(BDR=df_outreach_cluster.apply(bdrs_names,axis=1))\n",
        "df_outreach.tail(3)"
      ]
    },
    {
      "cell_type": "markdown",
      "metadata": {
        "id": "1SOV7Lewk9Lv"
      },
      "source": [
        "### Transforming & Selecting Output"
      ]
    },
    {
      "cell_type": "markdown",
      "metadata": {
        "id": "5WDvhVnhxIM6"
      },
      "source": [
        "Transforming the dataset columns"
      ]
    },
    {
      "cell_type": "markdown",
      "metadata": {
        "id": "Og-F26MXsjmi"
      },
      "source": [
        "Outreach Table must have the following columns in order:\n",
        "\n",
        "\n",
        "```\n",
        "BDR\tCompany Name\tOwner\tCountry\tCourse 1\tCourse 2\tIndustry\tSector  Pagina Web Full Name\tFirst Name\tScore\tTitle\t\n",
        "Email\tLinkedin\tTelephone\tNeverbounce\tHead Industry\n",
        "```\n"
      ]
    },
    {
      "cell_type": "code",
      "execution_count": null,
      "metadata": {
        "colab": {
          "base_uri": "https://localhost:8080/"
        },
        "id": "kliKOm0w0LZ6",
        "outputId": "fa197a5d-78f5-4ed7-97d5-85b5878e2783"
      },
      "outputs": [
        {
          "output_type": "execute_result",
          "data": {
            "text/plain": [
              "Index(['Date', 'Company Name', 'ID', 'S-ID', 'LGA', 'Country', 'City',\n",
              "       'Score Corp', 'Course 1', 'Course 2', 'Web page', 'First Name',\n",
              "       'Last Name', 'Contact Name', 'Score', 'Title', 'Email',\n",
              "       'LinkedIn Profile', 'Phone', 'Industry', 'Sector', 'Company ID',\n",
              "       'website', 'Name', 'NeverBounce', 'domain', 'WeekNum', 'Head Industry',\n",
              "       'LastProspDate', 'LastProspEmailDate', 'LastHubSpotDate',\n",
              "       'LastMailShakeDate', 'Cluster', 'BDR'],\n",
              "      dtype='object')"
            ]
          },
          "metadata": {},
          "execution_count": 30
        }
      ],
      "source": [
        "df_outreach.columns"
      ]
    },
    {
      "cell_type": "code",
      "execution_count": null,
      "metadata": {
        "id": "nM8tYpamc2Zn"
      },
      "outputs": [],
      "source": [
        "df_outreach.fillna('NA', inplace=True)\n",
        "df_outreach['Date'] = df_outreach['Date'].astype(str)\n",
        "df_outreach['First Name'] = df_outreach['Name'].str.split().str[0]\n",
        "df_outreach.rename(columns={'LGA':'Owner','LinkedIn Profile':'LinkedIn','Industry_T':'Industria'},inplace=True)\n",
        "outreach_output_df = df_outreach[['Cluster','BDR','Company Name','Owner','Country','Course 1','Course 2','Industry','Sector','Head Industry','website','Name','First Name','Score','Title','Email','LinkedIn','Phone','NeverBounce','LastProspDate','LastProspEmailDate','LastHubSpotDate','LastMailShakeDate']]\n",
        "outreach_output_df.head(3)"
      ]
    },
    {
      "cell_type": "markdown",
      "source": [
        "### Building Aditional Metrics Sheet"
      ],
      "metadata": {
        "id": "sel1STGnYXt2"
      }
    },
    {
      "cell_type": "code",
      "source": [
        "w_leads_lga = outreach_output_df[['Owner','Company Name']].groupby('Owner').nunique()\n",
        "w_contacts_lga = outreach_output_df[['Owner','Email']].groupby('Owner').nunique()\n",
        "w_leads_cluster = outreach_output_df[['Cluster','Company Name']].groupby('Cluster').nunique()\n",
        "w_leads_lga['LGA'] = w_leads_lga.index\n",
        "w_contacts_lga['LGA']= w_contacts_lga.index\n",
        "w_leads_cluster['Cluster']= w_leads_cluster.index"
      ],
      "metadata": {
        "id": "09VaGBviYfjf"
      },
      "execution_count": null,
      "outputs": []
    },
    {
      "cell_type": "markdown",
      "metadata": {
        "id": "Ja4nD3xFupiS"
      },
      "source": [
        "## Creating Outreach List"
      ]
    },
    {
      "cell_type": "code",
      "execution_count": null,
      "metadata": {
        "colab": {
          "base_uri": "https://localhost:8080/"
        },
        "id": "v_roLpOvWPaf",
        "outputId": "a6a7c0d4-cd4f-4f30-9963-0aaca03c669d"
      },
      "outputs": [
        {
          "output_type": "execute_result",
          "data": {
            "text/plain": [
              "['Latam 1',\n",
              " 'Latam 1A',\n",
              " 'Latam 2',\n",
              " 'BR 1',\n",
              " 'BR 2',\n",
              " 'MX 1A',\n",
              " 'Latam 3',\n",
              " 'MX 1',\n",
              " 'Latam 1B']"
            ]
          },
          "metadata": {},
          "execution_count": 38
        }
      ],
      "source": [
        "ClusterList = outreach_output_df['Cluster'].drop_duplicates().tolist()\n",
        "ClusterList"
      ]
    },
    {
      "cell_type": "markdown",
      "source": [
        "Creating FIle and adding metrics sheet"
      ],
      "metadata": {
        "id": "j0cfqbT5Znwj"
      }
    },
    {
      "cell_type": "code",
      "source": [
        "today2 = date.today()\n",
        "offset2 = (today2.weekday() -1) % 7\n",
        "last_tuesday2 = today2 - timedelta(days=offset2)\n",
        "out_tuesday = last_tuesday2.strftime(\"%m-%d-%y\")\n",
        "out_tuesday"
      ],
      "metadata": {
        "colab": {
          "base_uri": "https://localhost:8080/"
        },
        "id": "-5mJqKMgaNBL",
        "outputId": "dcd1ec6c-6487-4efe-be44-2180f49c73ca"
      },
      "execution_count": null,
      "outputs": [
        {
          "output_type": "execute_result",
          "data": {
            "application/vnd.google.colaboratory.intrinsic+json": {
              "type": "string"
            },
            "text/plain": [
              "'01-18-22'"
            ]
          },
          "metadata": {},
          "execution_count": 39
        }
      ]
    },
    {
      "cell_type": "code",
      "execution_count": null,
      "metadata": {
        "id": "S8kPMnhVi5CP",
        "colab": {
          "base_uri": "https://localhost:8080/"
        },
        "outputId": "a98456df-012f-4b95-b79e-745efe3afcaa"
      },
      "outputs": [
        {
          "output_type": "execute_result",
          "data": {
            "text/plain": [
              "{'replies': [{}],\n",
              " 'spreadsheetId': '1ILOr2BTKfIXrINjJ-OKwFTwkoR3lAXvNUDQZiMqqz0Y'}"
            ]
          },
          "metadata": {},
          "execution_count": 40
        }
      ],
      "source": [
        "ss_create = gc.create(\"Outreach List \"+ out_tuesday,\"1sQDyWBzuwKeIxAzn10xmWXEi2yKo6WfB\")\n",
        "ss_1 = ss_create.sheet1\n",
        "aoa1 = [w_leads_lga.columns.tolist()] + w_leads_lga.to_numpy().tolist()\n",
        "aoa2 = [w_contacts_lga.columns.tolist()] + w_contacts_lga.to_numpy().tolist()\n",
        "aoa3 = [w_leads_cluster.columns.tolist()] + w_leads_cluster.to_numpy().tolist()\n",
        "ss_1.update(\"A1\",aoa1)\n",
        "ss_1.update(\"D1\",aoa2)\n",
        "ss_1.update(\"F1\",aoa3)\n",
        "ss_1.update_title(\"General Info\")"
      ]
    },
    {
      "cell_type": "markdown",
      "metadata": {
        "id": "klQE-Htldft5"
      },
      "source": [
        "Funtion that uses Cluster matching from Flag column to create sheets with separate ones"
      ]
    },
    {
      "cell_type": "code",
      "execution_count": null,
      "metadata": {
        "colab": {
          "base_uri": "https://localhost:8080/"
        },
        "id": "vqP_fig7XXVP",
        "outputId": "0a32818d-fb43-4bcd-c8c8-dedde2aeeb44"
      },
      "outputs": [
        {
          "output_type": "stream",
          "name": "stderr",
          "text": [
            "/usr/local/lib/python3.7/dist-packages/pandas/core/frame.py:4327: SettingWithCopyWarning: \n",
            "A value is trying to be set on a copy of a slice from a DataFrame\n",
            "\n",
            "See the caveats in the documentation: https://pandas.pydata.org/pandas-docs/stable/user_guide/indexing.html#returning-a-view-versus-a-copy\n",
            "  downcast=downcast,\n"
          ]
        }
      ],
      "source": [
        "outreach_output_df.fillna('', inplace=True) # preventing API error\n",
        "def createSpreadsheet(Cluster):\n",
        "  ndf = outreach_output_df[outreach_output_df['Cluster'] == Cluster]\n",
        "  nlist = [ndf.columns.tolist()] + ndf.to_numpy().tolist()\n",
        "  nws = ss_create.add_worksheet(title=Cluster,rows=150,cols=30)\n",
        "  nws.update_title(Cluster)\n",
        "  nws.update(\"A1\",nlist)"
      ]
    },
    {
      "cell_type": "markdown",
      "source": [
        "Update command using the function"
      ],
      "metadata": {
        "id": "swf8_YWbX4Cj"
      }
    },
    {
      "cell_type": "code",
      "execution_count": null,
      "metadata": {
        "id": "S6NLAl_lY5XC"
      },
      "outputs": [],
      "source": [
        "for Cluster in ClusterList:\n",
        "  createSpreadsheet(Cluster)"
      ]
    },
    {
      "cell_type": "markdown",
      "source": [
        "The output is a table with a 'General Info' sheet with calculations like Leads by Saleperson, Contacts by Salespersion and Leads by Cluster (focused sales operation). \n",
        "\n",
        "Along with a separate sheet with cleaned and processed information for  Outreach strategy in form of E-mail Marketing."
      ],
      "metadata": {
        "id": "39uvg2yYX8i4"
      }
    }
  ],
  "metadata": {
    "colab": {
      "collapsed_sections": [
        "7rSmljVbEYWy",
        "OwoAofp_FKEH"
      ],
      "name": "Outreach Lists.ipynb",
      "provenance": [],
      "toc_visible": true
    },
    "kernelspec": {
      "display_name": "Python 3",
      "name": "python3"
    },
    "language_info": {
      "name": "python"
    }
  },
  "nbformat": 4,
  "nbformat_minor": 0
}