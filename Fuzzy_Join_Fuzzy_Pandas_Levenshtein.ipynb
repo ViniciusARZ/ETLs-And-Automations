{
  "nbformat": 4,
  "nbformat_minor": 0,
  "metadata": {
    "colab": {
      "name": "Fuzzy Join - Fuzzy Pandas Levenshtein.ipynb",
      "provenance": []
    },
    "kernelspec": {
      "name": "python3",
      "display_name": "Python 3"
    },
    "language_info": {
      "name": "python"
    }
  },
  "cells": [
    {
      "cell_type": "code",
      "metadata": {
        "id": "dVuZiH-Mok7L"
      },
      "source": [
        "!pip install -q --upgrade gspread\n",
        "!pip install -q fuzzy_pandas"
      ],
      "execution_count": null,
      "outputs": []
    },
    {
      "cell_type": "code",
      "metadata": {
        "id": "h0UiZALOo2E-"
      },
      "source": [
        "from google.colab import auth\n",
        "auth.authenticate_user()\n",
        "\n",
        "import gspread\n",
        "from oauth2client.client import GoogleCredentials\n",
        "import pandas as pd\n",
        "import fuzzy_pandas as fpd\n",
        "import re"
      ],
      "execution_count": null,
      "outputs": []
    },
    {
      "cell_type": "code",
      "metadata": {
        "id": "6jUgpcjVqXnk"
      },
      "source": [
        "gc = gspread.authorize(GoogleCredentials.get_application_default())\n",
        "\n",
        "ss = gc.open_by_key('KEY')"
      ],
      "execution_count": null,
      "outputs": []
    },
    {
      "cell_type": "markdown",
      "metadata": {
        "id": "IknXGI4sx_5G"
      },
      "source": [
        "Hubspot's Data from Jan 2021 on, filtered by Last Activity date"
      ]
    },
    {
      "cell_type": "code",
      "metadata": {
        "colab": {
          "base_uri": "https://localhost:8080/",
          "height": 87
        },
        "id": "S0mBKW40pBkN",
        "outputId": "bc2ee72b-063d-472d-de06-232fc7c9a651"
      },
      "source": [
        "hubspot_data = ss.worksheet('py_hub')\n",
        "hubsrows = hubspot_data.get_all_values()\n",
        "df_hubs = pd.DataFrame.from_records(hubsrows[1:],columns=hubsrows[0])\n",
        "display(df_hubs.columns)"
      ],
      "execution_count": null,
      "outputs": [
        {
          "output_type": "display_data",
          "data": {
            "text/plain": [
              "Index(['Deal ID', 'Deal Name HB', 'Company Name', 'Create Date', 'Country',\n",
              "       'Industry', 'LGA HB', 'BDR HB', 'Deal Type', 'Sales Strategy', 'SQL',\n",
              "       'SQL Date', 'SQL Value', 'Last Activity Date', 'BDR First Name'],\n",
              "      dtype='object')"
            ]
          },
          "metadata": {}
        }
      ]
    },
    {
      "cell_type": "markdown",
      "metadata": {
        "id": "_tt7jTBiyHcd"
      },
      "source": [
        "KPI SQLs Data from Jan 2021 on, filtered by meeting date (sql date)"
      ]
    },
    {
      "cell_type": "code",
      "metadata": {
        "colab": {
          "base_uri": "https://localhost:8080/",
          "height": 123
        },
        "id": "MqUaCdkJqfqf",
        "outputId": "3c6c642b-d549-4aee-87f3-856c10de39cd"
      },
      "source": [
        "kpis_data = ss.worksheet('py_kpis')\n",
        "kpisrows = kpis_data.get_all_values()\n",
        "df_kpis = pd.DataFrame.from_records(kpisrows[1:],columns=kpisrows[0])\n",
        "display(df_kpis.columns)"
      ],
      "execution_count": null,
      "outputs": [
        {
          "output_type": "display_data",
          "data": {
            "text/plain": [
              "Index(['#', 'Deal Name KPI', 'Names', 'Industry', 'LGA KPI', 'Proactive?',\n",
              "       'Call Date', 'Call Time', 'BDR KPI', 'Meeting Day', 'Category', 'Owner',\n",
              "       'Time Meeting', 'CE or CC', 'Market ', 'Campaign', 'List', 'List Owner',\n",
              "       'Campaign Date', 'Deal Value', 'SQL', 'Opp. Date', 'Opportunity',\n",
              "       'SQL Date'],\n",
              "      dtype='object')"
            ]
          },
          "metadata": {}
        }
      ]
    },
    {
      "cell_type": "markdown",
      "metadata": {
        "id": "hUWzgrkJyO_E"
      },
      "source": [
        "Function with string clean-up processes to make it easier to match columns later"
      ]
    },
    {
      "cell_type": "code",
      "metadata": {
        "id": "OILkMf-rxfz2"
      },
      "source": [
        "def cleanCompanies(series):\n",
        "  return series.str.lower().str.replace(\"[^a-z]\\s\",\" \").str.replace(r\"\\b(company|corp|inc|a.c.|s.c.|mx|uy|br|co|)\\b\",\"\").str.strip()"
      ],
      "execution_count": null,
      "outputs": []
    },
    {
      "cell_type": "markdown",
      "metadata": {
        "id": "p6dkGAyCyvuh"
      },
      "source": [
        "Using Column to add clean columns inside the Dataframes"
      ]
    },
    {
      "cell_type": "code",
      "metadata": {
        "id": "PZdMLiQwxc82"
      },
      "source": [
        "df_kpis[\"cnCleanKPIS\"] = cleanCompanies(df_kpis[\"Names\"])"
      ],
      "execution_count": null,
      "outputs": []
    },
    {
      "cell_type": "code",
      "metadata": {
        "id": "IsK3mc7DybM1"
      },
      "source": [
        "df_hubs[\"cnCleanHB\"] = cleanCompanies(df_hubs[\"Company Name\"])"
      ],
      "execution_count": null,
      "outputs": []
    },
    {
      "cell_type": "markdown",
      "metadata": {
        "id": "lKCbmJRVyz0-"
      },
      "source": [
        ""
      ]
    },
    {
      "cell_type": "code",
      "metadata": {
        "id": "ocGoovzeqwUe"
      },
      "source": [
        "matches = fpd.fuzzy_merge(df_hubs,df_kpis,\n",
        "                          left_on=['cnCleanHB'],\n",
        "                          right_on=['cnCleanKPIS'],\n",
        "                          ignore_case=True,\n",
        "                          #keep='match',  #stop this part to see the full table\n",
        "                          method=\"levenshtein\",\n",
        "                          threshold=0.9)\n",
        "display(matches)"
      ],
      "execution_count": null,
      "outputs": []
    },
    {
      "cell_type": "markdown",
      "metadata": {
        "id": "eG2C-rj1y929"
      },
      "source": [
        "levenshtein:\n",
        "\n",
        "1. Result before cleaning -> 1776 matches but a lot of them were wrong (threshold 0.7)\n",
        "2. Result after 1st cleaning -> 1553 matches but apparently less wrong ones (threshold=0.7)\n",
        "3. Increasing treshold to 0.8 -> 1108 matches but errors in the last two were fixed\n",
        "4. Winner was treshold to 0.9\n",
        "\n",
        "jaro:\n",
        "1. 12634 matches, completely shit (0.7 threshold)\n",
        "2. increased threshold to 0.8 and it came with 1785, but better. Some duplicates though..\n"
      ]
    },
    {
      "cell_type": "markdown",
      "metadata": {
        "id": "kMTmEh9A2HUt"
      },
      "source": [
        "Taking a Look at the results"
      ]
    },
    {
      "cell_type": "code",
      "metadata": {
        "id": "G0kXYDOl1VgC",
        "colab": {
          "base_uri": "https://localhost:8080/",
          "height": 431
        },
        "outputId": "23fa42fa-ac10-418f-c171-ebbf2852363c"
      },
      "source": [
        "matches[[\"Deal Name HB\",\"Company Name\",\"cnCleanHB\",\"Deal Name KPI\",\"Names\",\"cnCleanKPIS\"]]"
      ],
      "execution_count": null,
      "outputs": [
        {
          "output_type": "execute_result",
          "data": {
            "text/html": [
              "<div>\n",
              "<style scoped>\n",
              "    .dataframe tbody tr th:only-of-type {\n",
              "        vertical-align: middle;\n",
              "    }\n",
              "\n",
              "    .dataframe tbody tr th {\n",
              "        vertical-align: top;\n",
              "    }\n",
              "\n",
              "    .dataframe thead th {\n",
              "        text-align: right;\n",
              "    }\n",
              "</style>\n",
              "<table border=\"1\" class=\"dataframe\">\n",
              "  <thead>\n",
              "    <tr style=\"text-align: right;\">\n",
              "      <th></th>\n",
              "      <th>Deal Name HB</th>\n",
              "      <th>Company Name</th>\n",
              "      <th>cnCleanHB</th>\n",
              "      <th>Deal Name KPI</th>\n",
              "      <th>Names</th>\n",
              "      <th>cnCleanKPIS</th>\n",
              "    </tr>\n",
              "  </thead>\n",
              "  <tbody>\n",
              "    <tr>\n",
              "      <th>0</th>\n",
              "      <td>EM: MX: G-Global</td>\n",
              "      <td>G-Global</td>\n",
              "      <td>g-global</td>\n",
              "      <td>EM: MX: G-Global</td>\n",
              "      <td>MX: G-Global</td>\n",
              "      <td>g-global</td>\n",
              "    </tr>\n",
              "    <tr>\n",
              "      <th>1</th>\n",
              "      <td>WS: CO: Quality Tech Institute</td>\n",
              "      <td>Quality Tech Institute</td>\n",
              "      <td>quality tech institute</td>\n",
              "      <td>WS: CO: Quality Tech Institute</td>\n",
              "      <td>CO: Quality Tech Institute</td>\n",
              "      <td>quality tech institute</td>\n",
              "    </tr>\n",
              "    <tr>\n",
              "      <th>2</th>\n",
              "      <td>BR: Remessa Online</td>\n",
              "      <td>Remessa Online</td>\n",
              "      <td>remessa online</td>\n",
              "      <td>BR: Remessa Online</td>\n",
              "      <td>Remessa Online</td>\n",
              "      <td>remessa online</td>\n",
              "    </tr>\n",
              "    <tr>\n",
              "      <th>3</th>\n",
              "      <td>BR: Aperam</td>\n",
              "      <td>Aperam</td>\n",
              "      <td>aperam</td>\n",
              "      <td>BR: Aperam</td>\n",
              "      <td>Aperam</td>\n",
              "      <td>aperam</td>\n",
              "    </tr>\n",
              "    <tr>\n",
              "      <th>4</th>\n",
              "      <td>MX: Consejo Potosino de Ciencia y Tecnología</td>\n",
              "      <td>Consejo Potosino de Ciencia y Tecnología</td>\n",
              "      <td>consejo potosino de ciencia y tecnología</td>\n",
              "      <td>MX: Consejo Potosino de Ciencia y Tecnología</td>\n",
              "      <td>Consejo Potosino de Ciencia y Tecnología</td>\n",
              "      <td>consejo potosino de ciencia y tecnología</td>\n",
              "    </tr>\n",
              "    <tr>\n",
              "      <th>...</th>\n",
              "      <td>...</td>\n",
              "      <td>...</td>\n",
              "      <td>...</td>\n",
              "      <td>...</td>\n",
              "      <td>...</td>\n",
              "      <td>...</td>\n",
              "    </tr>\n",
              "    <tr>\n",
              "      <th>982</th>\n",
              "      <td>PE: Niubiz</td>\n",
              "      <td>Niubiz</td>\n",
              "      <td>niubiz</td>\n",
              "      <td>PE: Niubiz</td>\n",
              "      <td>Niubiz</td>\n",
              "      <td>niubiz</td>\n",
              "    </tr>\n",
              "    <tr>\n",
              "      <th>983</th>\n",
              "      <td>CL: I2B Technologies</td>\n",
              "      <td>I2B Technologies</td>\n",
              "      <td>i2b technologies</td>\n",
              "      <td>CL: I2B Technologies</td>\n",
              "      <td>I2B Technologies</td>\n",
              "      <td>i2b technologies</td>\n",
              "    </tr>\n",
              "    <tr>\n",
              "      <th>984</th>\n",
              "      <td>CL: I2B Technologies</td>\n",
              "      <td>I2B Technologies</td>\n",
              "      <td>i2b technologies</td>\n",
              "      <td>CL: I2B Technologies</td>\n",
              "      <td>I2B Technologies</td>\n",
              "      <td>i2b technologies</td>\n",
              "    </tr>\n",
              "    <tr>\n",
              "      <th>985</th>\n",
              "      <td>CO: Coltanques</td>\n",
              "      <td>Coltanques</td>\n",
              "      <td>coltanques</td>\n",
              "      <td>CO: Coltanques</td>\n",
              "      <td>Coltanques</td>\n",
              "      <td>coltanques</td>\n",
              "    </tr>\n",
              "    <tr>\n",
              "      <th>986</th>\n",
              "      <td>MX: Butchershop</td>\n",
              "      <td>Butchershop</td>\n",
              "      <td>butchershop</td>\n",
              "      <td>MX: Butchershop</td>\n",
              "      <td>Butchershop</td>\n",
              "      <td>butchershop</td>\n",
              "    </tr>\n",
              "  </tbody>\n",
              "</table>\n",
              "<p>987 rows × 6 columns</p>\n",
              "</div>"
            ],
            "text/plain": [
              "                                     Deal Name HB  ...                               cnCleanKPIS\n",
              "0                                EM: MX: G-Global  ...                                  g-global\n",
              "1                  WS: CO: Quality Tech Institute  ...                    quality tech institute\n",
              "2                              BR: Remessa Online  ...                            remessa online\n",
              "3                                      BR: Aperam  ...                                    aperam\n",
              "4    MX: Consejo Potosino de Ciencia y Tecnología  ...  consejo potosino de ciencia y tecnología\n",
              "..                                            ...  ...                                       ...\n",
              "982                                    PE: Niubiz  ...                                    niubiz\n",
              "983                          CL: I2B Technologies  ...                          i2b technologies\n",
              "984                          CL: I2B Technologies  ...                          i2b technologies\n",
              "985                                CO: Coltanques  ...                                coltanques\n",
              "986                               MX: Butchershop  ...                               butchershop\n",
              "\n",
              "[987 rows x 6 columns]"
            ]
          },
          "metadata": {},
          "execution_count": 55
        }
      ]
    },
    {
      "cell_type": "markdown",
      "metadata": {
        "id": "D9gc7j0o23Ov"
      },
      "source": [
        "Cleaning Countries to a standard\n"
      ]
    },
    {
      "cell_type": "code",
      "metadata": {
        "id": "G3ctxaCN2Lrn"
      },
      "source": [
        "#Dic that some loving soul shared online <3 \n",
        "short2long_Countries = {\"AF\":\"Afghanistan\",\n",
        "\"AX\":\"Aland Islands\",\n",
        "\"AL\":\"Albania\",\n",
        "\"DZ\":\"Algeria\",\n",
        "\"AS\":\"American Samoa\",\n",
        "\"AD\":\"Andorra\",\n",
        "\"AO\":\"Angola\",\n",
        "\"AI\":\"Anguilla\",\n",
        "\"AQ\":\"Antarctica\",\n",
        "\"AG\":\"Antigua and Barbuda\",\n",
        "\"AR\":\"Argentina\",\n",
        "\"AM\":\"Armenia\",\n",
        "\"AW\":\"Aruba\",\n",
        "\"AU\":\"Australia\",\n",
        "\"AT\":\"Austria\",\n",
        "\"AZ\":\"Azerbaijan\",\n",
        "\"BS\":\"Bahamas\",\n",
        "\"BH\":\"Bahrain\",\n",
        "\"BD\":\"Bangladesh\",\n",
        "\"BB\":\"Barbados\",\n",
        "\"BY\":\"Belarus\",\n",
        "\"BE\":\"Belgium\",\n",
        "\"BZ\":\"Belize\",\n",
        "\"BJ\":\"Benin\",\n",
        "\"BM\":\"Bermuda\",\n",
        "\"BT\":\"Bhutan\",\n",
        "\"BO\":\"Bolivia, Plurinational State of\",\n",
        "\"BQ\":\"Bonaire, Sint Eustatius and Saba\",\n",
        "\"BA\":\"Bosnia and Herzegovina\",\n",
        "\"BW\":\"Botswana\",\n",
        "\"BV\":\"Bouvet Island\",\n",
        "\"BR\":\"Brazil\",\n",
        "\"IO\":\"British Indian Ocean Territory\",\n",
        "\"BN\":\"Brunei Darussalam\",\n",
        "\"BG\":\"Bulgaria\",\n",
        "\"BF\":\"Burkina Faso\",\n",
        "\"BI\":\"Burundi\",\n",
        "\"KH\":\"Cambodia\",\n",
        "\"CM\":\"Cameroon\",\n",
        "\"CA\":\"Canada\",\n",
        "\"CV\":\"Cape Verde\",\n",
        "\"KY\":\"Cayman Islands\",\n",
        "\"CF\":\"Central African Republic\",\n",
        "\"TD\":\"Chad\",\n",
        "\"CL\":\"Chile\",\n",
        "\"CN\":\"China\",\n",
        "\"CX\":\"Christmas Island\",\n",
        "\"CC\":\"Cocos (Keeling) Islands\",\n",
        "\"CO\":\"Colombia\",\n",
        "\"KM\":\"Comoros\",\n",
        "\"CG\":\"Congo\",\n",
        "\"CD\":\"Congo, The Democratic Republic of the\",\n",
        "\"CK\":\"Cook Islands\",\n",
        "\"CR\":\"Costa Rica\",\n",
        "\"CI\":\"Côte d'Ivoire\",\n",
        "\"HR\":\"Croatia\",\n",
        "\"CU\":\"Cuba\",\n",
        "\"CW\":\"Curaçao\",\n",
        "\"CY\":\"Cyprus\",\n",
        "\"CZ\":\"Czech Republic\",\n",
        "\"DK\":\"Denmark\",\n",
        "\"DJ\":\"Djibouti\",\n",
        "\"DM\":\"Dominica\",\n",
        "\"DO\":\"Dominican Republic\",\n",
        "\"EC\":\"Ecuador\",\n",
        "\"EG\":\"Egypt\",\n",
        "\"SV\":\"El Salvador\",\n",
        "\"GQ\":\"Equatorial Guinea\",\n",
        "\"ER\":\"Eritrea\",\n",
        "\"EE\":\"Estonia\",\n",
        "\"ET\":\"Ethiopia\",\n",
        "\"FK\":\"Falkland Islands (Malvinas)\",\n",
        "\"FO\":\"Faroe Islands\",\n",
        "\"FJ\":\"Fiji\",\n",
        "\"FI\":\"Finland\",\n",
        "\"FR\":\"France\",\n",
        "\"GF\":\"French Guiana\",\n",
        "\"PF\":\"French Polynesia\",\n",
        "\"TF\":\"French Southern Territories\",\n",
        "\"GA\":\"Gabon\",\n",
        "\"GM\":\"Gambia\",\n",
        "\"GE\":\"Georgia\",\n",
        "\"DE\":\"Germany\",\n",
        "\"GH\":\"Ghana\",\n",
        "\"GI\":\"Gibraltar\",\n",
        "\"GR\":\"Greece\",\n",
        "\"GL\":\"Greenland\",\n",
        "\"GD\":\"Grenada\",\n",
        "\"GP\":\"Guadeloupe\",\n",
        "\"GU\":\"Guam\",\n",
        "\"GT\":\"Guatemala\",\n",
        "\"GG\":\"Guernsey\",\n",
        "\"GN\":\"Guinea\",\n",
        "\"GW\":\"Guinea-Bissau\",\n",
        "\"GY\":\"Guyana\",\n",
        "\"HT\":\"Haiti\",\n",
        "\"HM\":\"Heard Island and McDonald Islands\",\n",
        "\"VA\":\"Holy See (Vatican City State)\",\n",
        "\"HN\":\"Honduras\",\n",
        "\"HK\":\"Hong Kong\",\n",
        "\"HU\":\"Hungary\",\n",
        "\"IS\":\"Iceland\",\n",
        "\"IN\":\"India\",\n",
        "\"ID\":\"Indonesia\",\n",
        "\"IR\":\"Iran, Islamic Republic of\",\n",
        "\"IQ\":\"Iraq\",\n",
        "\"IE\":\"Ireland\",\n",
        "\"IM\":\"Isle of Man\",\n",
        "\"IL\":\"Israel\",\n",
        "\"IT\":\"Italy\",\n",
        "\"JM\":\"Jamaica\",\n",
        "\"JP\":\"Japan\",\n",
        "\"JE\":\"Jersey\",\n",
        "\"JO\":\"Jordan\",\n",
        "\"KZ\":\"Kazakhstan\",\n",
        "\"KE\":\"Kenya\",\n",
        "\"KI\":\"Kiribati\",\n",
        "\"KP\":\"Korea, Democratic People's Republic of\",\n",
        "\"KR\":\"Korea, Republic of\",\n",
        "\"KW\":\"Kuwait\",\n",
        "\"KG\":\"Kyrgyzstan\",\n",
        "\"LA\":\"Lao People's Democratic Republic\",\n",
        "\"LV\":\"Latvia\",\n",
        "\"LB\":\"Lebanon\",\n",
        "\"LS\":\"Lesotho\",\n",
        "\"LR\":\"Liberia\",\n",
        "\"LY\":\"Libya\",\n",
        "\"LI\":\"Liechtenstein\",\n",
        "\"LT\":\"Lithuania\",\n",
        "\"LU\":\"Luxembourg\",\n",
        "\"MO\":\"Macao\",\n",
        "\"MK\":\"Macedonia, Republic of\",\n",
        "\"MG\":\"Madagascar\",\n",
        "\"MW\":\"Malawi\",\n",
        "\"MY\":\"Malaysia\",\n",
        "\"MV\":\"Maldives\",\n",
        "\"ML\":\"Mali\",\n",
        "\"MT\":\"Malta\",\n",
        "\"MH\":\"Marshall Islands\",\n",
        "\"MQ\":\"Martinique\",\n",
        "\"MR\":\"Mauritania\",\n",
        "\"MU\":\"Mauritius\",\n",
        "\"YT\":\"Mayotte\",\n",
        "\"MX\":\"Mexico\",\n",
        "\"FM\":\"Micronesia, Federated States of\",\n",
        "\"MD\":\"Moldova, Republic of\",\n",
        "\"MC\":\"Monaco\",\n",
        "\"MN\":\"Mongolia\",\n",
        "\"ME\":\"Montenegro\",\n",
        "\"MS\":\"Montserrat\",\n",
        "\"MA\":\"Morocco\",\n",
        "\"MZ\":\"Mozambique\",\n",
        "\"MM\":\"Myanmar\",\n",
        "\"NA\":\"Namibia\",\n",
        "\"NR\":\"Nauru\",\n",
        "\"NP\":\"Nepal\",\n",
        "\"NL\":\"Netherlands\",\n",
        "\"NC\":\"New Caledonia\",\n",
        "\"NZ\":\"New Zealand\",\n",
        "\"NI\":\"Nicaragua\",\n",
        "\"NE\":\"Niger\",\n",
        "\"NG\":\"Nigeria\",\n",
        "\"NU\":\"Niue\",\n",
        "\"NF\":\"Norfolk Island\",\n",
        "\"MP\":\"Northern Mariana Islands\",\n",
        "\"NO\":\"Norway\",\n",
        "\"OM\":\"Oman\",\n",
        "\"PK\":\"Pakistan\",\n",
        "\"PW\":\"Palau\",\n",
        "\"PS\":\"Palestinian Territory, Occupied\",\n",
        "\"PA\":\"Panama\",\n",
        "\"PG\":\"Papua New Guinea\",\n",
        "\"PY\":\"Paraguay\",\n",
        "\"PE\":\"Peru\",\n",
        "\"PH\":\"Philippines\",\n",
        "\"PN\":\"Pitcairn\",\n",
        "\"PL\":\"Poland\",\n",
        "\"PT\":\"Portugal\",\n",
        "\"PR\":\"Puerto Rico\",\n",
        "\"QA\":\"Qatar\",\n",
        "\"RE\":\"Réunion\",\n",
        "\"RO\":\"Romania\",\n",
        "\"RU\":\"Russian Federation\",\n",
        "\"RW\":\"Rwanda\",\n",
        "\"BL\":\"Saint Barthélemy\",\n",
        "\"SH\":\"Saint Helena, Ascension and Tristan da Cunha\",\n",
        "\"KN\":\"Saint Kitts and Nevis\",\n",
        "\"LC\":\"Saint Lucia\",\n",
        "\"MF\":\"Saint Martin (French part)\",\n",
        "\"PM\":\"Saint Pierre and Miquelon\",\n",
        "\"VC\":\"Saint Vincent and the Grenadines\",\n",
        "\"WS\":\"Samoa\",\n",
        "\"SM\":\"San Marino\",\n",
        "\"ST\":\"Sao Tome and Principe\",\n",
        "\"SA\":\"Saudi Arabia\",\n",
        "\"SN\":\"Senegal\",\n",
        "\"RS\":\"Serbia\",\n",
        "\"SC\":\"Seychelles\",\n",
        "\"SL\":\"Sierra Leone\",\n",
        "\"SG\":\"Singapore\",\n",
        "\"SX\":\"Sint Maarten (Dutch part)\",\n",
        "\"SK\":\"Slovakia\",\n",
        "\"SI\":\"Slovenia\",\n",
        "\"SB\":\"Solomon Islands\",\n",
        "\"SO\":\"Somalia\",\n",
        "\"ZA\":\"South Africa\",\n",
        "\"GS\":\"South Georgia and the South Sandwich Islands\",\n",
        "\"ES\":\"Spain\",\n",
        "\"LK\":\"Sri Lanka\",\n",
        "\"SD\":\"Sudan\",\n",
        "\"SR\":\"Suriname\",\n",
        "\"SS\":\"South Sudan\",\n",
        "\"SJ\":\"Svalbard and Jan Mayen\",\n",
        "\"SZ\":\"Swaziland\",\n",
        "\"SE\":\"Sweden\",\n",
        "\"CH\":\"Switzerland\",\n",
        "\"SY\":\"Syrian Arab Republic\",\n",
        "\"TW\":\"Taiwan, Province of China\",\n",
        "\"TJ\":\"Tajikistan\",\n",
        "\"TZ\":\"Tanzania, United Republic of\",\n",
        "\"TH\":\"Thailand\",\n",
        "\"TL\":\"Timor-Leste\",\n",
        "\"TG\":\"Togo\",\n",
        "\"TK\":\"Tokelau\",\n",
        "\"TO\":\"Tonga\",\n",
        "\"TT\":\"Trinidad and Tobago\",\n",
        "\"TN\":\"Tunisia\",\n",
        "\"TR\":\"Turkey\",\n",
        "\"TM\":\"Turkmenistan\",\n",
        "\"TC\":\"Turks and Caicos Islands\",\n",
        "\"TV\":\"Tuvalu\",\n",
        "\"UG\":\"Uganda\",\n",
        "\"UA\":\"Ukraine\",\n",
        "\"AE\":\"United Arab Emirates\",\n",
        "\"GB\":\"United Kingdom\",\n",
        "\"US\":\"United States\",\n",
        "\"UM\":\"United States Minor Outlying Islands\",\n",
        "\"UY\":\"Uruguay\",\n",
        "\"UZ\":\"Uzbekistan\",\n",
        "\"VU\":\"Vanuatu\",\n",
        "\"VE\":\"Venezuela, Bolivarian Republic of\",\n",
        "\"VN\":\"Viet Nam\",\n",
        "\"VG\":\"Virgin Islands, British\",\n",
        "\"VI\":\"Virgin Islands, U.S.\",\n",
        "\"WF\":\"Wallis and Futuna\",\n",
        "\"EH\":\"Western Sahara\",\n",
        "\"YE\":\"Yemen\",\n",
        "\"ZM\":\"Zambia\",\n",
        "\"ZW\":\"Zimbabwe\"}"
      ],
      "execution_count": null,
      "outputs": []
    },
    {
      "cell_type": "code",
      "metadata": {
        "id": "B4AtXu5N2_e0"
      },
      "source": [
        "matches[\"Countries\"] = matches[\"Market \"].map(short2long_Countries)\n",
        "matches.head()"
      ],
      "execution_count": null,
      "outputs": []
    },
    {
      "cell_type": "code",
      "metadata": {
        "colab": {
          "base_uri": "https://localhost:8080/"
        },
        "id": "w5j2K7uN4TbN",
        "outputId": "42169264-61e0-487a-d821-1770f4581959"
      },
      "source": [
        "matches.columns"
      ],
      "execution_count": null,
      "outputs": [
        {
          "output_type": "execute_result",
          "data": {
            "text/plain": [
              "Index(['Deal ID', 'Deal Name HB', 'Company Name', 'Create Date', 'Country',\n",
              "       'Industry', 'LGA HB', 'BDR HB', 'Deal Type', 'Sales Strategy', 'SQL',\n",
              "       'SQL Date', 'SQL Value', 'Last Activity Date', 'BDR First Name',\n",
              "       'cnCleanHB', '#', 'Deal Name KPI', 'Names', 'Industry', 'LGA KPI',\n",
              "       'Proactive?', 'Call Date', 'Call Time', 'BDR KPI', 'Meeting Day',\n",
              "       'Category', 'Owner', 'Time Meeting', 'CE or CC', 'Market ', 'Campaign',\n",
              "       'List', 'List Owner', 'Campaign Date', 'Deal Value', 'SQL', 'Opp. Date',\n",
              "       'Opportunity', 'SQL Date', 'cnCleanKPIS', 'Countries'],\n",
              "      dtype='object')"
            ]
          },
          "metadata": {},
          "execution_count": 58
        }
      ]
    },
    {
      "cell_type": "markdown",
      "metadata": {
        "id": "S4YgXMZ5c9xZ"
      },
      "source": [
        "Cleaning BDRs\n"
      ]
    },
    {
      "cell_type": "code",
      "metadata": {
        "colab": {
          "base_uri": "https://localhost:8080/"
        },
        "id": "xSEGz1Otc9Mo",
        "outputId": "d76cbd23-3eee-4687-c38c-0a8b6ce194e9"
      },
      "source": [
        "#hubspot unique BDRs\n",
        "print(df_hubs['BDR HB'].unique())"
      ],
      "execution_count": null,
      "outputs": [
        {
          "output_type": "stream",
          "name": "stdout",
          "text": [
            "['Pablo Gomez Leyva' 'Juliana Padilla Torres (Deactivated User)'\n",
            " 'Débora Boschini' 'David Santiago Garcia Rojas' 'Luisa Ramírez'\n",
            " 'Luis Papagayo (Deactivated User)' 'Jaime Andrés Rincón Montero' ''\n",
            " 'John Guzmán' 'María Paula Cruz' 'Natalia De Vivero'\n",
            " 'Laura Daniela Arias Ramirez (Deactivated User)'\n",
            " 'Juan Felipe Van Strahlen Olave' 'Jimena Martínez'\n",
            " 'Ignacio Gomez Rubiano' 'Juan Sebastian Rebolledo'\n",
            " 'Marion Isabela Aviña Orendain' 'Gabriela Iglesias' 'Lara Almeida'\n",
            " 'Santiago Rodriguez' 'Carlos Yáñez' 'Manuela Alonso (Deactivated User)'\n",
            " 'Aris Povoa (Deactivated User)' 'Sergio Nieto' 'Federico Suárez Namén'\n",
            " 'Cristian Camilo Garzon Amortegui' 'Mónica Rivera']\n"
          ]
        }
      ]
    },
    {
      "cell_type": "code",
      "metadata": {
        "colab": {
          "base_uri": "https://localhost:8080/"
        },
        "id": "rsIs8Pj2eAxk",
        "outputId": "54bafb18-64dd-43ef-9c2e-3eeb32a515ad"
      },
      "source": [
        "#Kpis unique BDRs\n",
        "print(df_kpis['BDR KPI'].unique())"
      ],
      "execution_count": null,
      "outputs": [
        {
          "output_type": "stream",
          "name": "stdout",
          "text": [
            "['Debora' 'Pablo' 'Jaime' 'Luisa' 'Padilla' 'David' 'Renato' 'Own'\n",
            " 'Daniela' 'Maria Paula' 'Natalia' 'Juan Felipe' 'Marion' 'Lara'\n",
            " 'Referral' 'Aris' 'Cristian' 'OWN' 'Federico' 'Monica' 'Paola' 'Jaime ']\n"
          ]
        }
      ]
    },
    {
      "cell_type": "code",
      "metadata": {
        "id": "VHIKswakeIu3"
      },
      "source": [
        "BDR_Dic = {\"Debora\":\"Débora Boschini\",\n",
        "           \"Pablo\":\"Pablo Gomez Leyva\",\n",
        "           \"Jaime\":\"Jaime Andrés Rincón Montero\",\n",
        "           \"Jaime \":\"Jaime Andrés Rincón Montero\",\n",
        "           \"Luisa\":\"Luisa Ramírez\",\n",
        "           \"Padilla\":\"Juliana Padilla Torres (Deactivated User)\",\n",
        "           \"David\":\"David Santiago Garcia Rojas\",\n",
        "           \"Renato\":\"Renato CHECK\",\n",
        "           \"Own\":\"Own CHECK\",\n",
        "           \"Daniela\":\"Laura Daniela Arias Ramirez (Deactivated User)\",\n",
        "           \"Maria Paula\":\"María Paula Cruz\",\n",
        "           \"Natalia\":\"Natalia De Vivero\",\n",
        "           \"Juan Felipe\":\"Juan Felipe Van Strahlen Olave\",\n",
        "           \"Marion\":\"Marion Isabela Aviña Orendain\",\n",
        "           \"Lara\":\"Lara Almeida\",\n",
        "           \"Referral\":\"Referral CHECK\",\n",
        "           \"Aris\":\"Aris Povoa (Deactivated User)\",\n",
        "           \"Cristian\":\"Cristian Camilo Garzon Amortegui\",\n",
        "           \"OWN\":\"Own CHECK\",\n",
        "           \"Federico\":\"Federico Suárez Namén\",\n",
        "           \"Monica\":\"Mónica Rivera\",\n",
        "           \"Paola\":\"Paola CHECK\"\n",
        "           }"
      ],
      "execution_count": null,
      "outputs": []
    },
    {
      "cell_type": "markdown",
      "metadata": {
        "id": "wL7HmGUUvWLl"
      },
      "source": [
        "BDR Match Column"
      ]
    },
    {
      "cell_type": "code",
      "metadata": {
        "id": "m3u153L9hLGs"
      },
      "source": [
        "matches['BDR Cor'] = matches['BDR KPI'].map(BDR_Dic)\n",
        "matches.head()"
      ],
      "execution_count": null,
      "outputs": []
    },
    {
      "cell_type": "markdown",
      "metadata": {
        "id": "M-PkB8cByVtd"
      },
      "source": [
        "Cleaning LGAs"
      ]
    },
    {
      "cell_type": "code",
      "metadata": {
        "colab": {
          "base_uri": "https://localhost:8080/"
        },
        "id": "NqNRNdtuveDn",
        "outputId": "598ef58e-b33b-482a-c036-00309edd3d60"
      },
      "source": [
        "#hubspot unique LGAs\n",
        "print(df_hubs['LGA HB'].unique())"
      ],
      "execution_count": null,
      "outputs": [
        {
          "output_type": "stream",
          "name": "stdout",
          "text": [
            "['Inbound' 'Divermedios' 'Camila Acosta' 'Natalia de Vivero'\n",
            " 'Maria Lucia Pardo' 'Diana Dávila' 'Brenda Merino' 'Alfredo Loredo' 'Own'\n",
            " 'Paula Jaramillo' 'Diego Trujillo' 'Aline Omote' 'Daniela Ojeda'\n",
            " 'Valeria Silvera' 'Harbey Morato' 'Paola Adrianofabre'\n",
            " 'Juan Manuel Jauregui' 'Isabella Rivera' 'Renata Texeira'\n",
            " 'Laura Restrepo' 'Juliana Padilla' 'Juan Pablo Peñuela' 'Ginna Acuña'\n",
            " 'Tatiana Shayo' 'Arturo Salazar' 'Melanie Quintero' 'Vinicius Ramos' ''\n",
            " 'Referral' 'Angela Martinez']\n"
          ]
        }
      ]
    },
    {
      "cell_type": "code",
      "metadata": {
        "colab": {
          "base_uri": "https://localhost:8080/"
        },
        "id": "6gwHdPODveDp",
        "outputId": "a2d91f5b-e2d3-4d07-e230-8cf68fb3b394"
      },
      "source": [
        "#Kpis unique LGAs\n",
        "print(df_kpis['LGA KPI'].unique())"
      ],
      "execution_count": null,
      "outputs": [
        {
          "output_type": "stream",
          "name": "stdout",
          "text": [
            "['Diana' 'Inbound' 'Alfredo' 'Camila' 'Natalia' 'Brenda' 'Divermedios'\n",
            " 'Padilla' 'Diego' 'Own' 'Juan' 'Referral' 'Aline' 'Valeria' 'Daniela'\n",
            " 'Paula' 'Harbey' 'Angela' 'Paola' 'Maria Lucia' 'Isabella' 'Renata'\n",
            " 'Laura' 'Juan Pablo' 'Ginna' 'Tatiana' 'Arturo' 'Melanie' 'Vinicius'\n",
            " 'Juliana' 'OWN' 'Sophie']\n"
          ]
        }
      ]
    },
    {
      "cell_type": "code",
      "metadata": {
        "id": "lqtoq9hBvj05"
      },
      "source": [
        "LGA_Dic = {\"Diana\":\"Diana Dávila\",\n",
        "           \"Inbound\":\"Inbound\",\n",
        "           \"Alfredo\":\"Alfredo Loredo\",\n",
        "           \"Camila\":\"Camila Acosta\",\n",
        "           \"Natalia\":\"Natalia de Vivero\",\n",
        "           \"Brenda\":\"Brenda Merino\",\n",
        "           \"Divermedios\":\"Divermedios\",\n",
        "           \"Padilla\":\"Juliana Padilla\",\n",
        "           \"Diego\":\"Diego Trujillo\",\n",
        "           \"Own\":\"Own\",\n",
        "           \"OWN\":\"Own\",\n",
        "           \"Juan\":\"Juan Manuel Jauregui\",\n",
        "           \"Referral\":\"Referral\",\n",
        "           \"Aline\":\"Aline Omote\",\n",
        "           \"Valeria\":\"Valeria Silvera\",\n",
        "           \"Daniela\":\"Daniela Ojeda\",\n",
        "           \"Paula\":\"Paula Jaramillo\",\n",
        "           \"Harbey\":\"Harbey Morato\",\n",
        "           \"Angela\":\"Angela Martinez\",\n",
        "           \"Paola\":\"Paola Adrianofabre\",\n",
        "           \"Maria Lucia\":\"Maria Lucia Pardo\",\n",
        "           \"Isabella\":\"Isabella Rivera\",\n",
        "           \"Renata\":\"Renata Texeira\",\n",
        "           \"Laura\":\"Laura Restrepo\",\n",
        "           \"Juan Pablo\":\"Juan Pablo Peñuela\",\n",
        "           \"Ginna\":\"Ginna Acuña\",\n",
        "           \"Tatiana\":\"Tatiana Shayo\",\n",
        "           \"Arturo\":\"Arturo Salazar\",\n",
        "           \"Melanie\":\"Melanie Quintero\",\n",
        "           \"Vinicius\":\"Vinicius Ramos\",\n",
        "           \"Juliana\":\"Juliana Padilla\",\n",
        "           \"Sophie\":\"CHECK\"\n",
        "           }"
      ],
      "execution_count": null,
      "outputs": []
    },
    {
      "cell_type": "markdown",
      "metadata": {
        "id": "8R2TiA7nvT9z"
      },
      "source": [
        "LGA Match Column\n"
      ]
    },
    {
      "cell_type": "code",
      "metadata": {
        "id": "oYK04u4wycgl"
      },
      "source": [
        "matches['LGA Cor'] = matches['LGA KPI'].map(LGA_Dic)\n",
        "matches.head()"
      ],
      "execution_count": null,
      "outputs": []
    },
    {
      "cell_type": "markdown",
      "metadata": {
        "id": "YUOYl7Xc2JPz"
      },
      "source": [
        "Upload it to the Spreadsheets\n"
      ]
    },
    {
      "cell_type": "code",
      "metadata": {
        "id": "GOeVIIYY4BLY"
      },
      "source": [
        "dfMatches = matches[[\"Deal ID\",\"Deal Name HB\",\"cnCleanHB\",\"Create Date\",\"Country\",\"Industry\",\"LGA HB\",\"BDR HB\",\n",
        "                     \"Sales Strategy\",\"SQL Date\",\"SQL Value\",\"Deal Name KPI\",\"cnCleanKPIS\",\"Industry\",\"Proactive?\",\"Market \",\"BDR KPI\",\"Owner\",\n",
        "                     \"SQL Date\",\"Countries\",\"LGA KPI\",\"LGA Cor\",\"BDR Cor\"]]"
      ],
      "execution_count": null,
      "outputs": []
    },
    {
      "cell_type": "code",
      "metadata": {
        "id": "Hav7XS_n5Wqz"
      },
      "source": [
        "wsMatches = ss.worksheet(\"Fuzzy Results\")"
      ],
      "execution_count": null,
      "outputs": []
    },
    {
      "cell_type": "code",
      "metadata": {
        "colab": {
          "base_uri": "https://localhost:8080/"
        },
        "id": "fLon1IUf6rEj",
        "outputId": "ad4a68cc-c329-41aa-f327-11d765db7a53"
      },
      "source": [
        "dfMatches.fillna('', inplace=True)"
      ],
      "execution_count": null,
      "outputs": [
        {
          "output_type": "stream",
          "name": "stderr",
          "text": [
            "/usr/local/lib/python3.7/dist-packages/pandas/core/frame.py:4327: SettingWithCopyWarning: \n",
            "A value is trying to be set on a copy of a slice from a DataFrame\n",
            "\n",
            "See the caveats in the documentation: https://pandas.pydata.org/pandas-docs/stable/user_guide/indexing.html#returning-a-view-versus-a-copy\n",
            "  downcast=downcast,\n"
          ]
        }
      ]
    },
    {
      "cell_type": "code",
      "metadata": {
        "id": "hLiJk3o05gX9"
      },
      "source": [
        "aoa = [dfMatches.columns.tolist()] + dfMatches.to_numpy().tolist()"
      ],
      "execution_count": null,
      "outputs": []
    },
    {
      "cell_type": "code",
      "metadata": {
        "id": "lAr0u1DK58l_"
      },
      "source": [
        "wsMatches.update(\"A1\",aoa)"
      ],
      "execution_count": null,
      "outputs": []
    }
  ]
}