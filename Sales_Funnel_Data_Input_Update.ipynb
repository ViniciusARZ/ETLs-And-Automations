{
  "nbformat": 4,
  "nbformat_minor": 0,
  "metadata": {
    "colab": {
      "name": "Cluster Review_Sales Funnel Data_Input Update",
      "provenance": [],
      "collapsed_sections": [],
      "authorship_tag": "ABX9TyNAhryL2UZJAJFtw5KW2gXp"
    },
    "kernelspec": {
      "name": "python3",
      "display_name": "Python 3"
    },
    "language_info": {
      "name": "python"
    }
  },
  "cells": [
    {
      "cell_type": "markdown",
      "metadata": {
        "id": "ve-xDcUTTGQg"
      },
      "source": [
        "Author: Vinícius Antoino Ramos Zecca\n",
        "\n",
        "*LinkedIn: /viniciusarz*\n",
        "\n",
        "*Github: /ViniciusARZ*\n"
      ]
    },
    {
      "cell_type": "markdown",
      "metadata": {
        "id": "NAHb3wFC3rh0"
      },
      "source": [
        "#Lead Generation Analysts Cluster 1 - Input Update"
      ]
    },
    {
      "cell_type": "code",
      "metadata": {
        "id": "HCuqOhxMRvkZ",
        "colab": {
          "base_uri": "https://localhost:8080/"
        },
        "outputId": "0401ee6a-6801-4c06-966d-2c6968d95626"
      },
      "source": [
        "!pip install --upgrade gspread\n",
        "!pip install schedule\n"
      ],
      "execution_count": null,
      "outputs": [
        {
          "output_type": "stream",
          "name": "stdout",
          "text": [
            "Requirement already satisfied: gspread in /usr/local/lib/python3.7/dist-packages (4.0.1)\n",
            "Requirement already satisfied: google-auth>=1.12.0 in /usr/local/lib/python3.7/dist-packages (from gspread) (1.35.0)\n",
            "Requirement already satisfied: google-auth-oauthlib>=0.4.1 in /usr/local/lib/python3.7/dist-packages (from gspread) (0.4.6)\n",
            "Requirement already satisfied: pyasn1-modules>=0.2.1 in /usr/local/lib/python3.7/dist-packages (from google-auth>=1.12.0->gspread) (0.2.8)\n",
            "Requirement already satisfied: cachetools<5.0,>=2.0.0 in /usr/local/lib/python3.7/dist-packages (from google-auth>=1.12.0->gspread) (4.2.2)\n",
            "Requirement already satisfied: six>=1.9.0 in /usr/local/lib/python3.7/dist-packages (from google-auth>=1.12.0->gspread) (1.15.0)\n",
            "Requirement already satisfied: setuptools>=40.3.0 in /usr/local/lib/python3.7/dist-packages (from google-auth>=1.12.0->gspread) (57.4.0)\n",
            "Requirement already satisfied: rsa<5,>=3.1.4 in /usr/local/lib/python3.7/dist-packages (from google-auth>=1.12.0->gspread) (4.7.2)\n",
            "Requirement already satisfied: requests-oauthlib>=0.7.0 in /usr/local/lib/python3.7/dist-packages (from google-auth-oauthlib>=0.4.1->gspread) (1.3.0)\n",
            "Requirement already satisfied: pyasn1<0.5.0,>=0.4.6 in /usr/local/lib/python3.7/dist-packages (from pyasn1-modules>=0.2.1->google-auth>=1.12.0->gspread) (0.4.8)\n",
            "Requirement already satisfied: requests>=2.0.0 in /usr/local/lib/python3.7/dist-packages (from requests-oauthlib>=0.7.0->google-auth-oauthlib>=0.4.1->gspread) (2.23.0)\n",
            "Requirement already satisfied: oauthlib>=3.0.0 in /usr/local/lib/python3.7/dist-packages (from requests-oauthlib>=0.7.0->google-auth-oauthlib>=0.4.1->gspread) (3.1.1)\n",
            "Requirement already satisfied: chardet<4,>=3.0.2 in /usr/local/lib/python3.7/dist-packages (from requests>=2.0.0->requests-oauthlib>=0.7.0->google-auth-oauthlib>=0.4.1->gspread) (3.0.4)\n",
            "Requirement already satisfied: idna<3,>=2.5 in /usr/local/lib/python3.7/dist-packages (from requests>=2.0.0->requests-oauthlib>=0.7.0->google-auth-oauthlib>=0.4.1->gspread) (2.10)\n",
            "Requirement already satisfied: urllib3!=1.25.0,!=1.25.1,<1.26,>=1.21.1 in /usr/local/lib/python3.7/dist-packages (from requests>=2.0.0->requests-oauthlib>=0.7.0->google-auth-oauthlib>=0.4.1->gspread) (1.24.3)\n",
            "Requirement already satisfied: certifi>=2017.4.17 in /usr/local/lib/python3.7/dist-packages (from requests>=2.0.0->requests-oauthlib>=0.7.0->google-auth-oauthlib>=0.4.1->gspread) (2021.5.30)\n",
            "Requirement already satisfied: schedule in /usr/local/lib/python3.7/dist-packages (1.1.0)\n"
          ]
        }
      ]
    },
    {
      "cell_type": "markdown",
      "metadata": {
        "id": "lMYygVnISS7i"
      },
      "source": [
        "## Google Authorization\n",
        "---"
      ]
    },
    {
      "cell_type": "code",
      "metadata": {
        "id": "Hofa2Y93R7Ei"
      },
      "source": [
        "from google.colab import auth\n",
        "auth.authenticate_user()\n",
        "\n",
        "import pandas as pd\n",
        "import gspread\n",
        "from oauth2client.client import GoogleCredentials\n",
        "\n",
        "gc = gspread.authorize(GoogleCredentials.get_application_default())"
      ],
      "execution_count": null,
      "outputs": []
    },
    {
      "cell_type": "markdown",
      "metadata": {
        "id": "PKsdfBeHUHIY"
      },
      "source": [
        "## Workbook Access & Filtering"
      ]
    },
    {
      "cell_type": "markdown",
      "metadata": {
        "id": "2x1Him5yYEa2"
      },
      "source": [
        "Accessing the Individual KPIs file"
      ]
    },
    {
      "cell_type": "code",
      "metadata": {
        "id": "CquQFMOXXtMI"
      },
      "source": [
        "#Personal KPI File\n",
        "kpi = gc.open_by_key('key')\n",
        "# Sales Data - Sheet\n",
        "prosparchives = kpi.worksheet('ClusterTeste')"
      ],
      "execution_count": null,
      "outputs": []
    },
    {
      "cell_type": "code",
      "metadata": {
        "id": "l76f7rkS3-GO"
      },
      "source": [
        "#Cluster Review file \n",
        "cluster = gc.open_by_key('key')\n",
        "# LGA Input - Sheet\n",
        "lga_input = cluster.worksheet('Teste LGA Input')"
      ],
      "execution_count": null,
      "outputs": []
    },
    {
      "cell_type": "markdown",
      "metadata": {
        "id": "h5ziDuo7bPSN"
      },
      "source": [
        "Accessing Sales Data 6.0"
      ]
    },
    {
      "cell_type": "code",
      "metadata": {
        "id": "Zpq_SgpGSShp"
      },
      "source": [
        "#General Sales - Coorp 6.0 Workbook\n",
        "wb = gc.open_by_url('url')\n",
        "# Sales Data - Sheet\n",
        "ws = wb.worksheet(\"Sales Data\")"
      ],
      "execution_count": null,
      "outputs": []
    },
    {
      "cell_type": "code",
      "metadata": {
        "id": "DCcBhE37T2ga",
        "colab": {
          "base_uri": "https://localhost:8080/"
        },
        "outputId": "2ef6b06a-86dd-4a63-8e7a-a48f203b983b"
      },
      "source": [
        "# get all values from rows from Sales Data\n",
        "rows = ws.get_all_values()\n",
        "df = pd.DataFrame.from_records(rows[3:],columns=rows[1])\n",
        "#Apply filters in the df from Sales Data\n",
        "#personaldf = df[(df[\"LGA\"]==\"Vinicius\") | (df[\"LGA\"]==\"Tatiana\") | (df[\"LGA\"]==\"Aline\")]\n",
        "personaldf = df[(df[\"LGA\"].isin(['Aline', 'Vinicius', 'Tatiana']))]\n",
        "cluster1_lgainput_vita = personaldf[[\"Date (M-D-Y)\",\"Company Name\",\"LGA\",\"Country\",\"Industry\",\"Score\"]]\n",
        "print(cluster1_lgainput_vita)"
      ],
      "execution_count": null,
      "outputs": [
        {
          "output_type": "stream",
          "name": "stdout",
          "text": [
            "      Date (M-D-Y) Company Name  ...                         Industry Score\n",
            "22458     07/14/21       Amoedo  ...                           Retail     1\n",
            "22459     07/14/21       Amoedo  ...                           Retail     2\n",
            "22460     07/14/21       Amoedo  ...                           Retail     4\n",
            "22461     07/14/21   A Geradora  ...  Business Supplies and Equipment     1\n",
            "22462     07/14/21   A Geradora  ...  Business Supplies and Equipment     2\n",
            "...            ...          ...  ...                              ...   ...\n",
            "25170                            ...                                       \n",
            "25171                            ...                                       \n",
            "25172                            ...                                       \n",
            "25173                            ...                                       \n",
            "25174                            ...                                       \n",
            "\n",
            "[2715 rows x 6 columns]\n"
          ]
        }
      ]
    },
    {
      "cell_type": "markdown",
      "metadata": {
        "id": "8GJJRtnbbV_m"
      },
      "source": [
        "Accessing Sales Data 5.0 (Ali's)"
      ]
    },
    {
      "cell_type": "code",
      "metadata": {
        "id": "aTq4HCPTbKFN"
      },
      "source": [
        "#General Sales - Coorp 5.0 Workbook\n",
        "wb2 = gc.open_by_url('url')\n",
        "# Sales Data - Sheet\n",
        "ws2 = wb2.worksheet(\"Sales Data\")"
      ],
      "execution_count": null,
      "outputs": []
    },
    {
      "cell_type": "code",
      "metadata": {
        "id": "3IAwfEzrbo0z",
        "colab": {
          "base_uri": "https://localhost:8080/"
        },
        "outputId": "37c365a7-af5d-400d-dd9c-674ebefb7ffd"
      },
      "source": [
        "# get all values from rows from Sales Data\n",
        "rows = ws2.get_all_values()\n",
        "df2 = pd.DataFrame.from_records(rows[3:],columns=rows[1])\n",
        "#Apply filters in the df from Sales Data\n",
        "#personaldf = df[(df[\"LGA\"]==\"Vinicius\") | (df[\"LGA\"]==\"Tatiana\") | (df[\"LGA\"]==\"Aline\")]\n",
        "personaldf2 = df2[(df2[\"LGA\"].isin(['Aline']))]\n",
        "cluster1_lgainput_ali = personaldf2[[\"Date (M-D-Y)\",\"Company Name\",\"LGA\",\"Country\",\"Industry\",\"Score\"]]\n",
        "print(cluster1_lgainput_ali)"
      ],
      "execution_count": null,
      "outputs": [
        {
          "output_type": "stream",
          "name": "stdout",
          "text": [
            "      Date (M-D-Y)     Company Name    LGA Country        Industry Score\n",
            "31648     01/05/21  Banco BOCOM BBM  Aline  Brasil         Banking     1\n",
            "31649     01/05/21  Banco BOCOM BBM  Aline  Brasil         Banking     4\n",
            "31650     01/05/21  Banco BOCOM BBM  Aline  Brasil         Banking     3\n",
            "31651     01/06/21      Grupo Moura  Aline  Brasil      Automotive     2\n",
            "31652     01/06/21      Grupo Moura  Aline  Brasil      Automotive     2\n",
            "...            ...              ...    ...     ...             ...   ...\n",
            "38439     09/03/21           Sansuy  Aline  Brasil        Plastics     4\n",
            "38440     09/03/21       HT Micron   Aline  Brasil  Semiconductors     1\n",
            "38441     09/03/21       HT Micron   Aline  Brasil  Semiconductors     4\n",
            "38442     09/03/21           CEITEC  Aline  Brasil  Semiconductors     1\n",
            "38443     09/03/21           CEITEC  Aline  Brasil  Semiconductors     1\n",
            "\n",
            "[6761 rows x 6 columns]\n"
          ]
        }
      ]
    },
    {
      "cell_type": "markdown",
      "metadata": {
        "id": "tNfYS_D2csim"
      },
      "source": [
        "Joining the two Dataframes in one for Cluster 1"
      ]
    },
    {
      "cell_type": "code",
      "metadata": {
        "colab": {
          "base_uri": "https://localhost:8080/"
        },
        "id": "EoDag-MlcvTA",
        "outputId": "f7c060eb-1bbb-4dbb-8da2-2dd4f0285866"
      },
      "source": [
        "Cluster1_LGA_DF = pd.concat([cluster1_lgainput_ali,cluster1_lgainput_vita])\n",
        "print(Cluster1_LGA_DF)"
      ],
      "execution_count": null,
      "outputs": [
        {
          "output_type": "stream",
          "name": "stdout",
          "text": [
            "      Date (M-D-Y)     Company Name      LGA Country    Industry Score\n",
            "31648     01/05/21  Banco BOCOM BBM    Aline  Brasil     Banking     1\n",
            "31649     01/05/21  Banco BOCOM BBM    Aline  Brasil     Banking     4\n",
            "31650     01/05/21  Banco BOCOM BBM    Aline  Brasil     Banking     3\n",
            "31651     01/06/21      Grupo Moura    Aline  Brasil  Automotive     2\n",
            "31652     01/06/21      Grupo Moura    Aline  Brasil  Automotive     2\n",
            "...            ...              ...      ...     ...         ...   ...\n",
            "25170                                Tatiana  Brasil                  \n",
            "25171                                Tatiana  Brasil                  \n",
            "25172                                Tatiana  Brasil                  \n",
            "25173                                Tatiana  Brasil                  \n",
            "25174                                Tatiana  Brasil                  \n",
            "\n",
            "[9476 rows x 6 columns]\n"
          ]
        }
      ]
    },
    {
      "cell_type": "code",
      "metadata": {
        "id": "ZPHx_i2QVNMZ"
      },
      "source": [
        "#Picking up the LGAs unique values to transform into a Python list and filter\n",
        "LGAs = df[\"LGA\"]\n",
        "uniqueLGAs = LGAs.drop_duplicates().tolist()"
      ],
      "execution_count": null,
      "outputs": []
    },
    {
      "cell_type": "code",
      "metadata": {
        "id": "xTGvdIj7W56Q",
        "colab": {
          "base_uri": "https://localhost:8080/"
        },
        "outputId": "c653962c-bdfb-43c6-cd12-1c29133ef9af"
      },
      "source": [
        "#\n",
        "for LGA in uniqueLGAs:\n",
        "  print(LGA)"
      ],
      "execution_count": null,
      "outputs": [
        {
          "output_type": "stream",
          "name": "stdout",
          "text": [
            "Natalia\n",
            "Daniela\n",
            "\n",
            "Paola \n",
            "Paola\n",
            "Isabella\n",
            "Harvey\n",
            "Renata\n",
            "Vinicius\n",
            "Tatiana\n",
            "Juan Pablo\n",
            "Ginna\n"
          ]
        }
      ]
    },
    {
      "cell_type": "markdown",
      "metadata": {
        "id": "TtYy3ZTS32PD"
      },
      "source": [
        "Update Command"
      ]
    },
    {
      "cell_type": "code",
      "metadata": {
        "id": "hYwiX7jDXIOA",
        "colab": {
          "base_uri": "https://localhost:8080/"
        },
        "outputId": "c603301e-962b-4729-d91a-00a9b16aedcc"
      },
      "source": [
        "# Convert the Dataframe to a List, sum with the personal Dataframe and then turns into a Python List with Numpy\n",
        "# That's because the cells won't be updated with a dataframe value or a spreadsheets value that is read as json or csv.\n",
        "#def updateSpreadsheet()\n",
        "listconvertpersonaldf = [Cluster1_LGA_DF.columns.tolist()] + Cluster1_LGA_DF.to_numpy().tolist()\n",
        "lga_input.update('A1',listconvertpersonaldf)"
      ],
      "execution_count": null,
      "outputs": [
        {
          "output_type": "execute_result",
          "data": {
            "text/plain": [
              "{'spreadsheetId': '1NAO-qdoYmtvNNT3myPFzS1lhqakHTew2AzprZbh5Mi0',\n",
              " 'updatedCells': 56862,\n",
              " 'updatedColumns': 6,\n",
              " 'updatedRange': \"'Teste LGA Input'!A1:F9477\",\n",
              " 'updatedRows': 9477}"
            ]
          },
          "metadata": {},
          "execution_count": 17
        }
      ]
    },
    {
      "cell_type": "markdown",
      "metadata": {
        "id": "Zc1fdW_m341y"
      },
      "source": [
        "# Business Development Representative Cluster 1 - Update Input"
      ]
    },
    {
      "cell_type": "code",
      "metadata": {
        "colab": {
          "base_uri": "https://localhost:8080/"
        },
        "id": "YTAVpZL23-Bd",
        "outputId": "1c75dbbf-a780-4dce-bdc5-509a21bc16b3"
      },
      "source": [
        "!pip install --upgrade gspread\n",
        "!pip install schedule\n",
        "!pip install -U -q PyDrive\n"
      ],
      "execution_count": null,
      "outputs": [
        {
          "output_type": "stream",
          "name": "stdout",
          "text": [
            "Requirement already satisfied: gspread in /usr/local/lib/python3.7/dist-packages (4.0.1)\n",
            "Requirement already satisfied: google-auth>=1.12.0 in /usr/local/lib/python3.7/dist-packages (from gspread) (1.35.0)\n",
            "Requirement already satisfied: google-auth-oauthlib>=0.4.1 in /usr/local/lib/python3.7/dist-packages (from gspread) (0.4.6)\n",
            "Requirement already satisfied: rsa<5,>=3.1.4 in /usr/local/lib/python3.7/dist-packages (from google-auth>=1.12.0->gspread) (4.7.2)\n",
            "Requirement already satisfied: six>=1.9.0 in /usr/local/lib/python3.7/dist-packages (from google-auth>=1.12.0->gspread) (1.15.0)\n",
            "Requirement already satisfied: cachetools<5.0,>=2.0.0 in /usr/local/lib/python3.7/dist-packages (from google-auth>=1.12.0->gspread) (4.2.2)\n",
            "Requirement already satisfied: pyasn1-modules>=0.2.1 in /usr/local/lib/python3.7/dist-packages (from google-auth>=1.12.0->gspread) (0.2.8)\n",
            "Requirement already satisfied: setuptools>=40.3.0 in /usr/local/lib/python3.7/dist-packages (from google-auth>=1.12.0->gspread) (57.4.0)\n",
            "Requirement already satisfied: requests-oauthlib>=0.7.0 in /usr/local/lib/python3.7/dist-packages (from google-auth-oauthlib>=0.4.1->gspread) (1.3.0)\n",
            "Requirement already satisfied: pyasn1<0.5.0,>=0.4.6 in /usr/local/lib/python3.7/dist-packages (from pyasn1-modules>=0.2.1->google-auth>=1.12.0->gspread) (0.4.8)\n",
            "Requirement already satisfied: requests>=2.0.0 in /usr/local/lib/python3.7/dist-packages (from requests-oauthlib>=0.7.0->google-auth-oauthlib>=0.4.1->gspread) (2.23.0)\n",
            "Requirement already satisfied: oauthlib>=3.0.0 in /usr/local/lib/python3.7/dist-packages (from requests-oauthlib>=0.7.0->google-auth-oauthlib>=0.4.1->gspread) (3.1.1)\n",
            "Requirement already satisfied: urllib3!=1.25.0,!=1.25.1,<1.26,>=1.21.1 in /usr/local/lib/python3.7/dist-packages (from requests>=2.0.0->requests-oauthlib>=0.7.0->google-auth-oauthlib>=0.4.1->gspread) (1.24.3)\n",
            "Requirement already satisfied: certifi>=2017.4.17 in /usr/local/lib/python3.7/dist-packages (from requests>=2.0.0->requests-oauthlib>=0.7.0->google-auth-oauthlib>=0.4.1->gspread) (2021.5.30)\n",
            "Requirement already satisfied: idna<3,>=2.5 in /usr/local/lib/python3.7/dist-packages (from requests>=2.0.0->requests-oauthlib>=0.7.0->google-auth-oauthlib>=0.4.1->gspread) (2.10)\n",
            "Requirement already satisfied: chardet<4,>=3.0.2 in /usr/local/lib/python3.7/dist-packages (from requests>=2.0.0->requests-oauthlib>=0.7.0->google-auth-oauthlib>=0.4.1->gspread) (3.0.4)\n",
            "Requirement already satisfied: schedule in /usr/local/lib/python3.7/dist-packages (1.1.0)\n"
          ]
        }
      ]
    },
    {
      "cell_type": "markdown",
      "metadata": {
        "id": "PgisxrJn4PVy"
      },
      "source": [
        "## Google Authorization"
      ]
    },
    {
      "cell_type": "code",
      "metadata": {
        "id": "2ZnTtVBS4SPb"
      },
      "source": [
        "from pydrive.auth import GoogleAuth\n",
        "from pydrive.drive import GoogleDrive\n",
        "from google.colab import auth\n",
        "from oauth2client.client import GoogleCredentials\n",
        "auth.authenticate_user()\n",
        "gauth = GoogleAuth()\n",
        "gauth.credentials = GoogleCredentials.get_application_default()\n",
        "drive = GoogleDrive(gauth)\n",
        "import pandas as pd\n"
      ],
      "execution_count": null,
      "outputs": []
    },
    {
      "cell_type": "markdown",
      "metadata": {
        "id": "30Wf1IRM4a_6"
      },
      "source": [
        "## Workbook Access & Filtering"
      ]
    },
    {
      "cell_type": "code",
      "metadata": {
        "id": "8UoDz41T6E45"
      },
      "source": [
        "# BDR Input - Sheet\n",
        "bdr_input = cluster.worksheet('Teste BDR input')"
      ],
      "execution_count": null,
      "outputs": []
    },
    {
      "cell_type": "code",
      "metadata": {
        "colab": {
          "base_uri": "https://localhost:8080/"
        },
        "id": "kGm_7dYv4b42",
        "outputId": "3b47f441-63cf-412f-a9ce-09a4b0464f24"
      },
      "source": [
        "#Hubspot - DealsReport (Conected to API)\n",
        "deals_download = drive.CreateFile({'id':'id'})\n",
        "deals_download.GetContentFile('DealsReport.xlsx')\n",
        "deals_df = pd.read_excel('DealsReport.xlsx')\n",
        "print(deals_df.columns)"
      ],
      "execution_count": null,
      "outputs": [
        {
          "output_type": "stream",
          "name": "stdout",
          "text": [
            "Index(['Deal ID', 'CI', 'Deal Name', 'Pipeline', 'Deal Stage', 'Create Date',\n",
            "       'First task completed date', 'Last Activity Date', 'Last Contacted',\n",
            "       'MQL Date', 'SQL Date', 'Opportunity Date', 'Source',\n",
            "       'Source Marketing', 'Inbound Type', 'Last Modified Date', 'Close Date',\n",
            "       'Amount in company currency', 'Strategy', 'BDR', 'LGA', 'Deal owner',\n",
            "       'Channel', 'Country', 'Segment', 'Industry',\n",
            "       'Lead Response Time (Hours)', 'Demo Date', 'Deal Type'],\n",
            "      dtype='object')\n"
          ]
        }
      ]
    },
    {
      "cell_type": "code",
      "metadata": {
        "id": "EN5L8XHJ7dFq"
      },
      "source": [
        "Opps_Dates = debs_df[\"Opportunity Date\"] = debs_df[\"Opportunity Date\"].dt.strftime('%Y-%m-%d %H:%M:%S')"
      ],
      "execution_count": null,
      "outputs": []
    },
    {
      "cell_type": "code",
      "metadata": {
        "id": "6dOAE15J8xMQ"
      },
      "source": [
        "MQL_Dates = debs_df[\"MQL Date\"] = debs_df[\"MQL Date\"].dt.strftime('%Y-%m-%d %H:%M:%S')\n"
      ],
      "execution_count": null,
      "outputs": []
    },
    {
      "cell_type": "code",
      "metadata": {
        "id": "oRJRdYJ_8UeH"
      },
      "source": [
        "SQL_Dates = debs_df[\"SQL Date\"] = debs_df[\"SQL Date\"].dt.strftime('%Y-%m-%d %H:%M:%S')\n"
      ],
      "execution_count": null,
      "outputs": []
    },
    {
      "cell_type": "code",
      "metadata": {
        "id": "5YA4BGp19MTW"
      },
      "source": [
        "bdr_dates_df = pd.concat([Opps_Dates,MQL_Dates,SQL_Dates], axis=1)"
      ],
      "execution_count": null,
      "outputs": []
    },
    {
      "cell_type": "code",
      "metadata": {
        "id": "z-dmtLVj4jtD"
      },
      "source": [
        "debs_df = deals_df[(deals_df[\"BDR\"].isin(['Débora Boschini']))]\n",
        "debs_df[\"MQL Dates\"] = MQL_Dates\n",
        "debs_df[\"SQL Dates\"] = SQL_Dates\n",
        "debs_df[\"OPPs Dates\"] = Opps_Dates\n",
        "print(debs_df.columns)"
      ],
      "execution_count": null,
      "outputs": []
    },
    {
      "cell_type": "code",
      "metadata": {
        "colab": {
          "base_uri": "https://localhost:8080/"
        },
        "id": "5FQgW2fPdluF",
        "outputId": "c350f8d5-3383-449d-adac-1652fe4032e3"
      },
      "source": [
        "debs_df.fillna('', inplace=True)"
      ],
      "execution_count": null,
      "outputs": [
        {
          "output_type": "stream",
          "name": "stderr",
          "text": [
            "/usr/local/lib/python3.7/dist-packages/pandas/core/frame.py:4327: SettingWithCopyWarning: \n",
            "A value is trying to be set on a copy of a slice from a DataFrame\n",
            "\n",
            "See the caveats in the documentation: https://pandas.pydata.org/pandas-docs/stable/user_guide/indexing.html#returning-a-view-versus-a-copy\n",
            "  downcast=downcast,\n"
          ]
        }
      ]
    },
    {
      "cell_type": "code",
      "metadata": {
        "id": "AKqDUryXaJDe"
      },
      "source": [
        "cluster1_bdrinput = debs_df[[\"Deal Name\",\"BDR\",\"LGA\",\"Country\",\"Industry\",\"MQL Dates\",\"SQL Dates\",\"OPPs Dates\",\"Amount in company currency\"]]\n"
      ],
      "execution_count": null,
      "outputs": []
    },
    {
      "cell_type": "code",
      "metadata": {
        "colab": {
          "base_uri": "https://localhost:8080/"
        },
        "id": "7gC0HoA66jCr",
        "outputId": "e411d3de-3805-4984-f33f-37e4a29005f1"
      },
      "source": [
        "# Convert the Dataframe to a List, sum with the personal Dataframe and then turns into a Python List with Numpy\n",
        "# That's because the cells won't be updated with a dataframe value or a spreadsheets value that is read as json or csv.\n",
        "#def updateSpreadsheet()\n",
        "listconvertbdrdf = [cluster1_bdrinput.columns.tolist()] + cluster1_bdrinput.to_numpy().tolist()\n",
        "bdr_input.update(\"A1\",listconvertbdrdf)"
      ],
      "execution_count": null,
      "outputs": [
        {
          "output_type": "execute_result",
          "data": {
            "text/plain": [
              "{'spreadsheetId': '1NAO-qdoYmtvNNT3myPFzS1lhqakHTew2AzprZbh5Mi0',\n",
              " 'updatedCells': 2412,\n",
              " 'updatedColumns': 9,\n",
              " 'updatedRange': \"'Teste BDR input'!A1:I268\",\n",
              " 'updatedRows': 268}"
            ]
          },
          "metadata": {},
          "execution_count": 115
        }
      ]
    }
  ]
}