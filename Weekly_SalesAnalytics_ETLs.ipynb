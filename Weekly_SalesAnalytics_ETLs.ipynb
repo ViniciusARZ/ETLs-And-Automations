{
  "nbformat": 4,
  "nbformat_minor": 0,
  "metadata": {
    "colab": {
      "name": "Weekly_SalesAnalytics_ETLs.ipynb",
      "provenance": []
    },
    "kernelspec": {
      "display_name": "Python 3",
      "name": "python3"
    },
    "language_info": {
      "name": "python"
    }
  },
  "cells": [
    {
      "cell_type": "markdown",
      "source": [
        "Notebook with weekly ETLs for multiple purposes. Being **KPIs** keeping an archive of prospection and Lead Generation KPIs such as Marketing Qualified Lead, Revenue etc. Also, **Cluster Brazil Total** being delivering the desired information for Brazil's Sales Team to analyse and **Weekly Stats** being prospection numbers and Go-to-Markets from the Prospection Team."
      ],
      "metadata": {
        "id": "S49Q3kqLBb3A"
      }
    },
    {
      "cell_type": "code",
      "metadata": {
        "id": "HCuqOhxMRvkZ"
      },
      "source": [
        "!pip install -q --upgrade gspread\n",
        "!pip install -q pydrive"
      ],
      "execution_count": null,
      "outputs": []
    },
    {
      "cell_type": "markdown",
      "metadata": {
        "id": "lMYygVnISS7i"
      },
      "source": [
        "# Google Authorization\n",
        "---"
      ]
    },
    {
      "cell_type": "code",
      "metadata": {
        "id": "Hofa2Y93R7Ei"
      },
      "source": [
        "from google.colab import auth\n",
        "auth.authenticate_user()\n",
        "import pandas as pd\n",
        "import gspread\n",
        "from oauth2client.client import GoogleCredentials\n",
        "gc = gspread.authorize(GoogleCredentials.get_application_default())\n",
        "from pydrive.auth import GoogleAuth\n",
        "from pydrive.drive import GoogleDrive\n",
        "gauth = GoogleAuth()\n",
        "gauth.credentials = GoogleCredentials.get_application_default()\n",
        "drive = GoogleDrive(gauth)"
      ],
      "execution_count": null,
      "outputs": []
    },
    {
      "cell_type": "markdown",
      "metadata": {
        "id": "FLxGzfrfzIW2"
      },
      "source": [
        "# KPIs\n",
        "----"
      ]
    },
    {
      "cell_type": "code",
      "metadata": {
        "id": "CquQFMOXXtMI"
      },
      "source": [
        "#Personal KPI File\n",
        "kpi = gc.open_by_key('KEY')\n",
        "# Sales Data - Sheet\n",
        "prosparchives = kpi.worksheet('Prospection Archives')"
      ],
      "execution_count": null,
      "outputs": []
    },
    {
      "cell_type": "markdown",
      "metadata": {
        "id": "PopEW8DtYIK_"
      },
      "source": [
        "Acessing and working with Sales Data 6.0"
      ]
    },
    {
      "cell_type": "code",
      "metadata": {
        "id": "Zpq_SgpGSShp"
      },
      "source": [
        "#General Sales - Coorp 6.0 Workbook\n",
        "wb = gc.open_by_url('KEY')\n",
        "# Sales Data - Sheet\n",
        "ws = wb.worksheet(\"Sales Data\")"
      ],
      "execution_count": null,
      "outputs": []
    },
    {
      "cell_type": "markdown",
      "metadata": {
        "id": "Ios5Zu9TYzf7"
      },
      "source": [
        "Accessing Hubspot's Deals Report"
      ]
    },
    {
      "cell_type": "code",
      "metadata": {
        "colab": {
          "base_uri": "https://localhost:8080/"
        },
        "id": "JliQI_74Y2Ah",
        "outputId": "b7859477-f135-4c72-96cd-48148d453ce3"
      },
      "source": [
        "#Hubspot - DealsReport\n",
        "deals_download = drive.CreateFile({'id':'KEY'})\n",
        "deals_download.GetContentFile('DealsReport.xlsx')\n",
        "deals_df = pd.read_excel('DealsReport.xlsx')\n",
        "print(deals_df.columns)"
      ],
      "execution_count": null,
      "outputs": [
        {
          "output_type": "stream",
          "name": "stdout",
          "text": [
            "Index(['Deal ID', 'CI', 'Deal Name', 'Pipeline', 'Deal Stage', 'Create Date',\n",
            "       'First task completed date', 'Last Activity Date', 'Last Contacted',\n",
            "       'MQL Date', 'SQL Date', 'Opportunity Date', 'Source',\n",
            "       'Source Marketing', 'Inbound Type', 'Last Modified Date', 'Close Date',\n",
            "       'Amount in company currency', 'Strategy', 'BDR', 'LGA', 'Deal owner',\n",
            "       'Channel', 'Country', 'Segment', 'Industry',\n",
            "       'Lead Response Time (Hours)', 'Demo Date', 'Deal Type'],\n",
            "      dtype='object')\n"
          ]
        }
      ]
    },
    {
      "cell_type": "markdown",
      "metadata": {
        "id": "oOJoCrK3ZfDz"
      },
      "source": [
        "Filtering and Updating **Prospection Archives**"
      ]
    },
    {
      "cell_type": "code",
      "metadata": {
        "colab": {
          "base_uri": "https://localhost:8080/"
        },
        "id": "DCcBhE37T2ga",
        "outputId": "03eb4b29-e170-4965-9881-5e3f1a829499"
      },
      "source": [
        "# get all values from rows from Sales Data\n",
        "rows = ws.get_all_values()\n",
        "df = pd.DataFrame.from_records(rows[3:],columns=rows[1])\n",
        "print(df.columns)\n",
        "#Apply filters in the df from Sales Data\n",
        "personaldf = df[df['LGA']=='Vinicius']\n",
        "print(personaldf)"
      ],
      "execution_count": null,
      "outputs": [
        {
          "output_type": "stream",
          "name": "stdout",
          "text": [
            "Index(['', '# employees ( >100)', 'Website in English', 'HQ Non Spanish',\n",
            "       'Best Place2Work or Ranking Merco', 'HR Department', 'Date (M-D-Y)',\n",
            "       'Company Name', 'ID', 'LGA', 'Country', 'City', 'Score Corp',\n",
            "       'Course 1', 'Course 2', 'Course 3\\nSoft skills', 'Industry', 'Web Page',\n",
            "       'Contact Name', 'Score', 'Title', 'Área', 'Email', 'Linkedin', 'Phone',\n",
            "       'NeverBounce', 'Status', 'Campaign Number \\nCampaing \\n(día/mes/año)',\n",
            "       '', 'OUT OF CRITERIA', '', '', '', '', '', '', '', '', '', '', '', ''],\n",
            "      dtype='object')\n",
            "         # employees ( >100) Website in English HQ Non Spanish  ...            \n",
            "25411                201-500                Yes             No  ...            \n",
            "25412                201-500                Yes             No  ...            \n",
            "25413                201-500                Yes             No  ...            \n",
            "25414               501-1000                Yes             No  ...            \n",
            "25415               501-1000                Yes             No  ...            \n",
            "...   ..                 ...                ...            ...  ... .. .. .. ..\n",
            "27814               501-1000                Yes             No  ...            \n",
            "27815               501-1000                Yes             No  ...            \n",
            "27816                 51-200                Yes             No  ...            \n",
            "27817                 51-200                Yes             No  ...            \n",
            "27818                 51-200                Yes             No  ...            \n",
            "\n",
            "[2406 rows x 42 columns]\n"
          ]
        }
      ]
    },
    {
      "cell_type": "code",
      "metadata": {
        "id": "hYwiX7jDXIOA"
      },
      "source": [
        "# Convert the Dataframe to a List, sum with the personal Dataframe and then turns into a Python List with Numpy\n",
        "# That's because the cells won't be updated with a dataframe value or a spreadsheets value that is read as json or csv.\n",
        "#def updateSpreadsheet()\n",
        "listconvertpersonaldf = [personaldf.columns.tolist()] + personaldf.to_numpy().tolist()\n",
        "prosparchives.update(\"A1\",listconvertpersonaldf)"
      ],
      "execution_count": null,
      "outputs": []
    },
    {
      "cell_type": "markdown",
      "metadata": {
        "id": "VJHpXa-1Zu6M"
      },
      "source": [
        "##Filtering and Updating **KPIs Metrics**"
      ]
    },
    {
      "cell_type": "code",
      "metadata": {
        "id": "wwbXEY4KeLPM"
      },
      "source": [
        "kpiupdate = kpi.worksheet('Input Hubspot')"
      ],
      "execution_count": null,
      "outputs": []
    },
    {
      "cell_type": "code",
      "metadata": {
        "id": "bFENshg8a6Z_"
      },
      "source": [
        "LGAsHubs = deals_df[\"LGA\"]\n",
        "uniqueLGAsHubs = LGAsHubs.drop_duplicates().tolist()"
      ],
      "execution_count": null,
      "outputs": []
    },
    {
      "cell_type": "code",
      "metadata": {
        "colab": {
          "base_uri": "https://localhost:8080/"
        },
        "id": "gcckvEQXbeg-",
        "outputId": "85906c05-0ac7-499b-e77a-f1b8673fef81"
      },
      "source": [
        "#\n",
        "for LGAsHubs in uniqueLGAsHubs:\n",
        "  print(LGAsHubs)"
      ],
      "execution_count": null,
      "outputs": [
        {
          "output_type": "stream",
          "name": "stdout",
          "text": [
            "Isabella Rivera\n",
            "nan\n",
            "Ginna Acuña\n",
            "Aline Omote\n",
            "Harbey Morato\n",
            "Divermedios\n",
            "Camila Acosta\n",
            "Own\n",
            "Juan Manuel Jauregui\n",
            "Renata Texeira\n",
            "Daniela Ojeda\n",
            "Inbound\n",
            "Juan Pablo Peñuela\n",
            "Valeria Silvera\n",
            "Paola Adrianofabre\n",
            "Melanie Quintero\n",
            "Diana Dávila\n",
            "Natalia de Vivero\n",
            "Laura Restrepo\n",
            "Angela Martinez\n",
            "Paula Jaramillo\n",
            "Tatiana Shayo\n",
            "Brenda Merino\n",
            "Vinicius Ramos\n",
            "Arturo Salazar\n",
            "Juliana Padilla\n",
            "Alfredo Loredo\n",
            "Maria Lucia Pardo\n",
            "Diego Trujillo\n",
            "Andrea Moncada\n",
            "Referral\n"
          ]
        }
      ]
    },
    {
      "cell_type": "code",
      "metadata": {
        "id": "H1NMmNxYa2hZ"
      },
      "source": [
        "deals_personal = deals_df[(deals_df[\"LGA\"].isin(['Vinicius Ramos']))]\n",
        "deals_personal"
      ],
      "execution_count": null,
      "outputs": []
    },
    {
      "cell_type": "code",
      "metadata": {
        "id": "MBGBlyvLm0R3"
      },
      "source": [
        "deals_per2 = deals_personal.copy()"
      ],
      "execution_count": null,
      "outputs": []
    },
    {
      "cell_type": "code",
      "metadata": {
        "colab": {
          "base_uri": "https://localhost:8080/"
        },
        "id": "93pxfpznogkl",
        "outputId": "aedc9dd3-56a2-408d-9d20-9304a055acb1"
      },
      "source": [
        "display(deals_personal.columns)"
      ],
      "execution_count": null,
      "outputs": [
        {
          "output_type": "display_data",
          "data": {
            "text/plain": [
              "Index(['Deal ID', 'CI', 'Deal Name', 'Pipeline', 'Deal Stage', 'Create Date',\n",
              "       'First task completed date', 'Last Activity Date', 'Last Contacted',\n",
              "       'MQL Date', 'SQL Date', 'Opportunity Date', 'Source',\n",
              "       'Source Marketing', 'Inbound Type', 'Last Modified Date', 'Close Date',\n",
              "       'Amount in company currency', 'Strategy', 'BDR', 'LGA', 'Deal owner',\n",
              "       'Channel', 'Country', 'Segment', 'Industry',\n",
              "       'Lead Response Time (Hours)', 'Demo Date', 'Deal Type'],\n",
              "      dtype='object')"
            ]
          },
          "metadata": {}
        }
      ]
    },
    {
      "cell_type": "markdown",
      "metadata": {
        "id": "rOFdHlVDpJnJ"
      },
      "source": [
        "Metrics:"
      ]
    },
    {
      "cell_type": "code",
      "metadata": {
        "colab": {
          "base_uri": "https://localhost:8080/"
        },
        "id": "9FD75OuqFSl5",
        "outputId": "6fbd972c-fc0b-48ea-ce51-b4bc0bbbb2f1"
      },
      "source": [
        "deals_personal.dtypes"
      ],
      "execution_count": null,
      "outputs": [
        {
          "output_type": "execute_result",
          "data": {
            "text/plain": [
              "Deal ID                                int64\n",
              "CI                                   float64\n",
              "Deal Name                             object\n",
              "Pipeline                              object\n",
              "Deal Stage                            object\n",
              "Create Date                   datetime64[ns]\n",
              "First task completed date     datetime64[ns]\n",
              "Last Activity Date            datetime64[ns]\n",
              "Last Contacted                datetime64[ns]\n",
              "MQL Date                      datetime64[ns]\n",
              "SQL Date                      datetime64[ns]\n",
              "Opportunity Date              datetime64[ns]\n",
              "Source                                object\n",
              "Source Marketing                      object\n",
              "Inbound Type                          object\n",
              "Last Modified Date            datetime64[ns]\n",
              "Close Date                    datetime64[ns]\n",
              "Amount in company currency           float64\n",
              "Strategy                              object\n",
              "BDR                                   object\n",
              "LGA                                   object\n",
              "Deal owner                            object\n",
              "Channel                               object\n",
              "Country                               object\n",
              "Segment                               object\n",
              "Industry                              object\n",
              "Lead Response Time (Hours)           float64\n",
              "Demo Date                     datetime64[ns]\n",
              "Deal Type                             object\n",
              "dtype: object"
            ]
          },
          "metadata": {},
          "execution_count": 14
        }
      ]
    },
    {
      "cell_type": "code",
      "metadata": {
        "id": "X7rltGWZGipv"
      },
      "source": [
        "deals_opp = deals_per2[deals_per2['Opportunity Date']> '2021-07-12']"
      ],
      "execution_count": null,
      "outputs": []
    },
    {
      "cell_type": "code",
      "metadata": {
        "id": "Md6bHftrG21q"
      },
      "source": [
        "deals_sqls = deals_per2[deals_per2['SQL Date']> '2021-07-12']"
      ],
      "execution_count": null,
      "outputs": []
    },
    {
      "cell_type": "code",
      "metadata": {
        "colab": {
          "base_uri": "https://localhost:8080/"
        },
        "id": "BFUKwNox9F8W",
        "outputId": "fee1f536-c738-4b10-8f1a-cd6ce36b2af5"
      },
      "source": [
        "kpis_sqlvalue = deals_sqls[['Create Date','SQL Date','Amount in company currency']].groupby(pd.Grouper(key='SQL Date',freq='M')).sum()\n",
        "print(kpis_sqlvalue)"
      ],
      "execution_count": null,
      "outputs": [
        {
          "output_type": "stream",
          "name": "stdout",
          "text": [
            "            Amount in company currency\n",
            "SQL Date                              \n",
            "2021-08-31                      6350.0\n",
            "2021-09-30                     37228.0\n",
            "2021-10-31                     29890.0\n",
            "2021-11-30                    132805.0\n"
          ]
        }
      ]
    },
    {
      "cell_type": "code",
      "metadata": {
        "colab": {
          "base_uri": "https://localhost:8080/"
        },
        "id": "XPo9ypDBE757",
        "outputId": "bcc05950-f232-415b-8fee-c7a1aae6f7d6"
      },
      "source": [
        "kpis_oppvalue = deals_opp[['Create Date','Opportunity Date','Amount in company currency']].groupby(pd.Grouper(key='Opportunity Date',freq='M')).sum()\n",
        "print(kpis_oppvalue)"
      ],
      "execution_count": null,
      "outputs": [
        {
          "output_type": "stream",
          "name": "stdout",
          "text": [
            "                  Amount in company currency\n",
            "Opportunity Date                            \n",
            "2021-09-30                           18793.0\n",
            "2021-10-31                               0.0\n",
            "2021-11-30                          126175.0\n"
          ]
        }
      ]
    },
    {
      "cell_type": "code",
      "metadata": {
        "colab": {
          "base_uri": "https://localhost:8080/"
        },
        "id": "UbvJ5ALz7JLQ",
        "outputId": "5b9da75b-35c8-4be4-84bd-8ce7b822bbc4"
      },
      "source": [
        "kpis_metricsMQL = deals_personal[['Create Date', 'MQL Date']].groupby(pd.Grouper(key='Create Date',freq='M')).count()\n",
        "print(kpis_metricsMQL)"
      ],
      "execution_count": null,
      "outputs": [
        {
          "output_type": "stream",
          "name": "stdout",
          "text": [
            "             MQL Date\n",
            "Create Date          \n",
            "2021-08-31          3\n",
            "2021-09-30          9\n",
            "2021-10-31          6\n",
            "2021-11-30         11\n"
          ]
        }
      ]
    },
    {
      "cell_type": "code",
      "metadata": {
        "colab": {
          "base_uri": "https://localhost:8080/"
        },
        "id": "7Fuyvp5Z_MEK",
        "outputId": "e09b0de6-c0f1-42cd-8da8-6bea53d5296a"
      },
      "source": [
        "kpis_metricsSQL = deals_personal[['SQL Date','Deal Name']].groupby(pd.Grouper(key='SQL Date',freq='M')).count()\n",
        "print(kpis_metricsSQL)"
      ],
      "execution_count": null,
      "outputs": [
        {
          "output_type": "stream",
          "name": "stdout",
          "text": [
            "            Deal Name\n",
            "SQL Date             \n",
            "2021-08-31          1\n",
            "2021-09-30          4\n",
            "2021-10-31          2\n",
            "2021-11-30          4\n"
          ]
        }
      ]
    },
    {
      "cell_type": "code",
      "metadata": {
        "colab": {
          "base_uri": "https://localhost:8080/"
        },
        "id": "WDEyfcmk_lhk",
        "outputId": "5e8322df-4524-42f8-d44d-890281856993"
      },
      "source": [
        "kpis_metricsOPPs = deals_personal[['Opportunity Date','Deal Name']].groupby(pd.Grouper(key='Opportunity Date',freq='M')).count()\n",
        "print(kpis_metricsOPPs)"
      ],
      "execution_count": null,
      "outputs": [
        {
          "output_type": "stream",
          "name": "stdout",
          "text": [
            "                  Deal Name\n",
            "Opportunity Date           \n",
            "2021-09-30                2\n",
            "2021-10-31                0\n",
            "2021-11-30                2\n"
          ]
        }
      ]
    },
    {
      "cell_type": "markdown",
      "metadata": {
        "id": "UfBk4Q-o9qDJ"
      },
      "source": [
        "Merge the two dataframes"
      ]
    },
    {
      "cell_type": "code",
      "metadata": {
        "id": "BT7PbRlB-FGi"
      },
      "source": [
        "dataframes = [kpis_metrics,kpis_sqlvalue,kpis_oppvalue]"
      ],
      "execution_count": null,
      "outputs": []
    },
    {
      "cell_type": "code",
      "metadata": {
        "id": "t1I_kadV8B8x"
      },
      "source": [
        "kpis_final = pd.merge(kpis_metrics,kpis_sqlvalue,on='Create Date')"
      ],
      "execution_count": null,
      "outputs": []
    },
    {
      "cell_type": "code",
      "metadata": {
        "id": "hPGdZ_GgeA9q"
      },
      "source": [
        "kpis_final_opp = pd.merge(kpis_final,kpis_oppvalue,how='outer',on='Create Date')\n",
        "print(kpis_final_opp)"
      ],
      "execution_count": null,
      "outputs": []
    },
    {
      "cell_type": "code",
      "metadata": {
        "id": "UfJD1xWteaLX"
      },
      "source": [
        "kpis_final_opp.fillna('', inplace=True)"
      ],
      "execution_count": null,
      "outputs": []
    },
    {
      "cell_type": "markdown",
      "metadata": {
        "id": "0rWpe_4I9ruq"
      },
      "source": [
        "Update command"
      ]
    },
    {
      "cell_type": "code",
      "metadata": {
        "id": "d4wOHyaR9s1n"
      },
      "source": [
        "listkpisdf = [kpis_final_opp.columns.tolist()] + kpis_final_opp.to_numpy().tolist()\n",
        "kpiupdate.update(\"A1\",listkpisdf)"
      ],
      "execution_count": null,
      "outputs": []
    },
    {
      "cell_type": "markdown",
      "metadata": {
        "id": "ZSV4Vy6bzctD"
      },
      "source": [
        "# Cluster Brazil Total\n",
        "--------\n"
      ]
    },
    {
      "cell_type": "code",
      "metadata": {
        "id": "l76f7rkS3-GO"
      },
      "source": [
        "cluster = gc.open_by_key('KEY')\n",
        "# LGA Input - Sheet\n",
        "lga_input = cluster.worksheet('Teste LGA Input')"
      ],
      "execution_count": null,
      "outputs": []
    },
    {
      "cell_type": "markdown",
      "metadata": {
        "id": "h5ziDuo7bPSN"
      },
      "source": [
        "Accessing Sales Data 6.0"
      ]
    },
    {
      "cell_type": "code",
      "metadata": {
        "id": "ylRMPwVQzrrk"
      },
      "source": [
        "clusterdf = df[(df[\"LGA\"].isin(['Aline', 'Vinicius', 'Tatiana','Renata']))]\n",
        "cluster1_lgainput_vita = clusterdf[[\"Date (M-D-Y)\",\"Company Name\",\"LGA\",\"Country\",\"Industry\",\"Score\"]]"
      ],
      "execution_count": null,
      "outputs": []
    },
    {
      "cell_type": "markdown",
      "metadata": {
        "id": "8GJJRtnbbV_m"
      },
      "source": [
        "Accessing Sales Data 5.0 (Ali's)"
      ]
    },
    {
      "cell_type": "code",
      "metadata": {
        "id": "aTq4HCPTbKFN"
      },
      "source": [
        "#General Sales - Coorp 5.0 Workbook\n",
        "wb2 = gc.open_by_url('KEY')\n",
        "# Sales Data - Sheet\n",
        "ws2 = wb2.worksheet(\"Sales Data\")"
      ],
      "execution_count": null,
      "outputs": []
    },
    {
      "cell_type": "code",
      "metadata": {
        "id": "3IAwfEzrbo0z"
      },
      "source": [
        "# get all values from rows from Sales Data\n",
        "rows = ws2.get_all_values()\n",
        "df2 = pd.DataFrame.from_records(rows[3:],columns=rows[1])\n",
        "#Apply filters in the df from Sales Data\n",
        "#personaldf = df[(df[\"LGA\"]==\"Vinicius\") | (df[\"LGA\"]==\"Tatiana\") | (df[\"LGA\"]==\"Aline\")]\n",
        "personaldf2 = df2[(df2[\"LGA\"].isin(['Aline']))]\n",
        "cluster1_lgainput_ali = personaldf2[[\"Date (M-D-Y)\",\"Company Name\",\"LGA\",\"Country\",\"Industry\",\"Score\"]]\n",
        "print(cluster1_lgainput_ali)"
      ],
      "execution_count": null,
      "outputs": []
    },
    {
      "cell_type": "markdown",
      "metadata": {
        "id": "tNfYS_D2csim"
      },
      "source": [
        "Joining the two Dataframes in one for Cluster Re view"
      ]
    },
    {
      "cell_type": "code",
      "metadata": {
        "id": "EoDag-MlcvTA"
      },
      "source": [
        "Cluster1_LGA_DF = pd.concat([cluster1_lgainput_ali,cluster1_lgainput_vita])\n",
        "print(Cluster1_LGA_DF.head())"
      ],
      "execution_count": null,
      "outputs": []
    },
    {
      "cell_type": "code",
      "metadata": {
        "id": "D1rv8AnlTk3z"
      },
      "source": [
        "Cluster1_LGA_DF[Cluster1_LGA_DF['Company Name'].str.len() > 0]\n",
        "Cluster1_LGA_DF[Cluster1_LGA_DF['Score'].str.len() > 0]"
      ],
      "execution_count": null,
      "outputs": []
    },
    {
      "cell_type": "markdown",
      "metadata": {
        "id": "TtYy3ZTS32PD"
      },
      "source": [
        "Update Command"
      ]
    },
    {
      "cell_type": "code",
      "metadata": {
        "id": "Et8CnEoPzrrt"
      },
      "source": [
        "# Convert the Dataframe to a List, sum with the personal Dataframe and then turns into a Python List with Numpy\n",
        "# That's because the cells won't be updated with a dataframe value or a spreadsheets value that is read as json or csv.\n",
        "#def updateSpreadsheet()\n",
        "listconvertpersonaldf = [Cluster1_LGA_DF.columns.tolist()] + Cluster1_LGA_DF.to_numpy().tolist()\n",
        "lga_input.update('A1',listconvertpersonaldf)"
      ],
      "execution_count": null,
      "outputs": []
    },
    {
      "cell_type": "markdown",
      "metadata": {
        "id": "Zc1fdW_m341y"
      },
      "source": [
        "## BDR Cluster 1 - Update"
      ]
    },
    {
      "cell_type": "markdown",
      "metadata": {
        "id": "30Wf1IRM4a_6"
      },
      "source": [
        "### Workbook Access & Filtering"
      ]
    },
    {
      "cell_type": "code",
      "metadata": {
        "id": "8UoDz41T6E45"
      },
      "source": [
        "# BDR Input - Sheet\n",
        "bdr_input = cluster.worksheet('Teste BDR input')"
      ],
      "execution_count": null,
      "outputs": []
    },
    {
      "cell_type": "code",
      "metadata": {
        "colab": {
          "base_uri": "https://localhost:8080/"
        },
        "id": "kGm_7dYv4b42",
        "outputId": "3bb2513c-ff7e-438e-9a04-c1e3afac6ec5"
      },
      "source": [
        "#Hubspot - DealsReport\n",
        "deals_download = drive.CreateFile({'id':'KEY'})\n",
        "deals_download.GetContentFile('DealsReport.xlsx')\n",
        "deals_df = pd.read_excel('DealsReport.xlsx')\n",
        "print(deals_df.columns)"
      ],
      "execution_count": null,
      "outputs": [
        {
          "output_type": "stream",
          "name": "stdout",
          "text": [
            "Index(['Deal ID', 'CI', 'Deal Name', 'Pipeline', 'Deal Stage', 'Create Date',\n",
            "       'First task completed date', 'Last Activity Date', 'Last Contacted',\n",
            "       'MQL Date', 'SQL Date', 'Opportunity Date', 'Source',\n",
            "       'Source Marketing', 'Inbound Type', 'Last Modified Date', 'Close Date',\n",
            "       'Amount in company currency', 'Strategy', 'BDR', 'LGA', 'Deal owner',\n",
            "       'Channel', 'Country', 'Segment', 'Industry',\n",
            "       'Lead Response Time (Hours)', 'Demo Date', 'Deal Type'],\n",
            "      dtype='object')\n"
          ]
        }
      ]
    },
    {
      "cell_type": "code",
      "metadata": {
        "id": "T2pXo4r5Povm"
      },
      "source": [
        "BDRss = deals_df['BDR']\n",
        "BDRSUNI = BDRss.drop_duplicates().tolist()"
      ],
      "execution_count": null,
      "outputs": []
    },
    {
      "cell_type": "code",
      "metadata": {
        "id": "z-dmtLVj4jtD"
      },
      "source": [
        "debs_df = deals_df[(deals_df[\"BDR\"].isin(['Débora Boschini','Lara Almeida','Gabriela Iglesias']))]"
      ],
      "execution_count": null,
      "outputs": []
    },
    {
      "cell_type": "code",
      "metadata": {
        "colab": {
          "base_uri": "https://localhost:8080/"
        },
        "id": "EN5L8XHJ7dFq",
        "outputId": "209ac99a-3be7-4b61-9f93-968c1e2a1307"
      },
      "source": [
        "Opps_Dates = debs_df[\"Opportunity Date\"] = debs_df[\"Opportunity Date\"].dt.strftime('%Y-%m-%d %H:%M:%S')"
      ],
      "execution_count": null,
      "outputs": [
        {
          "output_type": "stream",
          "name": "stderr",
          "text": [
            "/usr/local/lib/python3.7/dist-packages/ipykernel_launcher.py:1: SettingWithCopyWarning: \n",
            "A value is trying to be set on a copy of a slice from a DataFrame.\n",
            "Try using .loc[row_indexer,col_indexer] = value instead\n",
            "\n",
            "See the caveats in the documentation: https://pandas.pydata.org/pandas-docs/stable/user_guide/indexing.html#returning-a-view-versus-a-copy\n",
            "  \"\"\"Entry point for launching an IPython kernel.\n"
          ]
        }
      ]
    },
    {
      "cell_type": "code",
      "metadata": {
        "colab": {
          "base_uri": "https://localhost:8080/"
        },
        "id": "6dOAE15J8xMQ",
        "outputId": "30c4aabc-3b59-4fc5-e109-058ac9228b00"
      },
      "source": [
        "MQL_Dates = debs_df[\"MQL Date\"] = debs_df[\"MQL Date\"].dt.strftime('%Y-%m-%d %H:%M:%S')\n"
      ],
      "execution_count": null,
      "outputs": [
        {
          "output_type": "stream",
          "name": "stderr",
          "text": [
            "/usr/local/lib/python3.7/dist-packages/ipykernel_launcher.py:1: SettingWithCopyWarning: \n",
            "A value is trying to be set on a copy of a slice from a DataFrame.\n",
            "Try using .loc[row_indexer,col_indexer] = value instead\n",
            "\n",
            "See the caveats in the documentation: https://pandas.pydata.org/pandas-docs/stable/user_guide/indexing.html#returning-a-view-versus-a-copy\n",
            "  \"\"\"Entry point for launching an IPython kernel.\n"
          ]
        }
      ]
    },
    {
      "cell_type": "code",
      "metadata": {
        "colab": {
          "base_uri": "https://localhost:8080/"
        },
        "id": "oRJRdYJ_8UeH",
        "outputId": "c7609319-53cb-4bd2-8d3a-40f2540b617f"
      },
      "source": [
        "SQL_Dates = debs_df[\"SQL Date\"] = debs_df[\"SQL Date\"].dt.strftime('%Y-%m-%d %H:%M:%S')\n"
      ],
      "execution_count": null,
      "outputs": [
        {
          "output_type": "stream",
          "name": "stderr",
          "text": [
            "/usr/local/lib/python3.7/dist-packages/ipykernel_launcher.py:1: SettingWithCopyWarning: \n",
            "A value is trying to be set on a copy of a slice from a DataFrame.\n",
            "Try using .loc[row_indexer,col_indexer] = value instead\n",
            "\n",
            "See the caveats in the documentation: https://pandas.pydata.org/pandas-docs/stable/user_guide/indexing.html#returning-a-view-versus-a-copy\n",
            "  \"\"\"Entry point for launching an IPython kernel.\n"
          ]
        }
      ]
    },
    {
      "cell_type": "code",
      "metadata": {
        "colab": {
          "base_uri": "https://localhost:8080/"
        },
        "id": "FbSaESAr0D1_",
        "outputId": "86c016f1-65c4-4472-f94b-a066a9d88f3c"
      },
      "source": [
        "debs_df[\"MQL Dates\"] = MQL_Dates\n",
        "debs_df[\"SQL Dates\"] = SQL_Dates\n",
        "debs_df[\"OPPs Dates\"] = Opps_Dates\n",
        "print(debs_df.columns)"
      ],
      "execution_count": null,
      "outputs": [
        {
          "output_type": "stream",
          "name": "stdout",
          "text": [
            "Index(['Deal ID', 'CI', 'Deal Name', 'Pipeline', 'Deal Stage', 'Create Date',\n",
            "       'First task completed date', 'Last Activity Date', 'Last Contacted',\n",
            "       'MQL Date', 'SQL Date', 'Opportunity Date', 'Source',\n",
            "       'Source Marketing', 'Inbound Type', 'Last Modified Date', 'Close Date',\n",
            "       'Amount in company currency', 'Strategy', 'BDR', 'LGA', 'Deal owner',\n",
            "       'Channel', 'Country', 'Segment', 'Industry',\n",
            "       'Lead Response Time (Hours)', 'Demo Date', 'Deal Type', 'MQL Dates',\n",
            "       'SQL Dates', 'OPPs Dates'],\n",
            "      dtype='object')\n"
          ]
        },
        {
          "output_type": "stream",
          "name": "stderr",
          "text": [
            "/usr/local/lib/python3.7/dist-packages/ipykernel_launcher.py:1: SettingWithCopyWarning: \n",
            "A value is trying to be set on a copy of a slice from a DataFrame.\n",
            "Try using .loc[row_indexer,col_indexer] = value instead\n",
            "\n",
            "See the caveats in the documentation: https://pandas.pydata.org/pandas-docs/stable/user_guide/indexing.html#returning-a-view-versus-a-copy\n",
            "  \"\"\"Entry point for launching an IPython kernel.\n",
            "/usr/local/lib/python3.7/dist-packages/ipykernel_launcher.py:2: SettingWithCopyWarning: \n",
            "A value is trying to be set on a copy of a slice from a DataFrame.\n",
            "Try using .loc[row_indexer,col_indexer] = value instead\n",
            "\n",
            "See the caveats in the documentation: https://pandas.pydata.org/pandas-docs/stable/user_guide/indexing.html#returning-a-view-versus-a-copy\n",
            "  \n",
            "/usr/local/lib/python3.7/dist-packages/ipykernel_launcher.py:3: SettingWithCopyWarning: \n",
            "A value is trying to be set on a copy of a slice from a DataFrame.\n",
            "Try using .loc[row_indexer,col_indexer] = value instead\n",
            "\n",
            "See the caveats in the documentation: https://pandas.pydata.org/pandas-docs/stable/user_guide/indexing.html#returning-a-view-versus-a-copy\n",
            "  This is separate from the ipykernel package so we can avoid doing imports until\n"
          ]
        }
      ]
    },
    {
      "cell_type": "code",
      "metadata": {
        "id": "5YA4BGp19MTW"
      },
      "source": [
        "bdr_dates_df = pd.concat([Opps_Dates,MQL_Dates,SQL_Dates], axis=1)"
      ],
      "execution_count": null,
      "outputs": []
    },
    {
      "cell_type": "code",
      "metadata": {
        "colab": {
          "base_uri": "https://localhost:8080/"
        },
        "id": "5FQgW2fPdluF",
        "outputId": "efc1a967-5080-40fe-d500-df01339f1228"
      },
      "source": [
        "debs_df.fillna('', inplace=True)"
      ],
      "execution_count": null,
      "outputs": [
        {
          "output_type": "stream",
          "name": "stderr",
          "text": [
            "/usr/local/lib/python3.7/dist-packages/pandas/core/frame.py:4327: SettingWithCopyWarning: \n",
            "A value is trying to be set on a copy of a slice from a DataFrame\n",
            "\n",
            "See the caveats in the documentation: https://pandas.pydata.org/pandas-docs/stable/user_guide/indexing.html#returning-a-view-versus-a-copy\n",
            "  downcast=downcast,\n"
          ]
        }
      ]
    },
    {
      "cell_type": "code",
      "metadata": {
        "id": "AKqDUryXaJDe"
      },
      "source": [
        "cluster1_bdrinput = debs_df[[\"Deal Name\",\"BDR\",\"LGA\",\"Country\",\"Industry\",\"MQL Dates\",\"SQL Dates\",\"OPPs Dates\",\"Amount in company currency\"]]\n"
      ],
      "execution_count": null,
      "outputs": []
    },
    {
      "cell_type": "code",
      "metadata": {
        "id": "7gC0HoA66jCr"
      },
      "source": [
        "# Convert the Dataframe to a List, sum with the personal Dataframe and then turns into a Python List with Numpy\n",
        "# That's because the cells won't be updated with a dataframe value or a spreadsheets value that is read as json or csv.\n",
        "#def updateSpreadsheet()\n",
        "listconvertbdrdf = [cluster1_bdrinput.columns.tolist()] + cluster1_bdrinput.to_numpy().tolist()\n",
        "bdr_input.update(\"A1\",listconvertbdrdf)"
      ],
      "execution_count": null,
      "outputs": []
    },
    {
      "cell_type": "markdown",
      "metadata": {
        "id": "I6yCbkXG0HjF"
      },
      "source": [
        "# Weekly Stats\n",
        "-----\n"
      ]
    },
    {
      "cell_type": "code",
      "metadata": {
        "id": "KvmQmgkIP9V8"
      },
      "source": [
        "# Cami Estatísticas File\n",
        "stats_vini = gc.open_by_key('KEY')\n",
        "#Sheets\n",
        "stats_vini_sheets = stats_vini.worksheet('Input Py')"
      ],
      "execution_count": null,
      "outputs": []
    },
    {
      "cell_type": "code",
      "metadata": {
        "id": "BZY_G17z0GrX"
      },
      "source": [
        "# Cami Estatísticas File\n",
        "stats_rena = gc.open_by_key('KEY')\n",
        "#Sheets\n",
        "stats_rena_sheets = stats_rena.worksheet('Input Py')"
      ],
      "execution_count": null,
      "outputs": []
    },
    {
      "cell_type": "code",
      "metadata": {
        "id": "w7dZszCH0RpU"
      },
      "source": [
        "# Cami Estatísticas File\n",
        "stats_tati = gc.open_by_key('KEY')\n",
        "#Sheets\n",
        "stats_tati_sheets = stats_tati.worksheet('Input Py')"
      ],
      "execution_count": null,
      "outputs": []
    },
    {
      "cell_type": "code",
      "metadata": {
        "id": "ila_rZ9Qzx_O"
      },
      "source": [
        "# Stats DF\n",
        "st_df = df.copy()\n",
        "st_df['Date (M-D-Y)'] = pd.to_datetime(df['Date (M-D-Y)'])\n",
        "stats_df = st_df[['LGA','Date (M-D-Y)','Company Name','# employees ( >100)','Industry']]\n",
        "stats_df.drop_duplicates('Company Name')\n",
        "weekday = stats_df['Date (M-D-Y)'].dt.week\n",
        "stats_df['WeekNum'] = weekday\n",
        "stats_df['Date (M-D-Y)'] = stats_df['Date (M-D-Y)'].astype(str)\n",
        "stats_df['WeekNum'] = stats_df['WeekNum'].astype(str)"
      ],
      "execution_count": null,
      "outputs": []
    },
    {
      "cell_type": "code",
      "metadata": {
        "id": "ZYY4EwIB7E7V"
      },
      "source": [
        "stats_df"
      ],
      "execution_count": null,
      "outputs": []
    },
    {
      "cell_type": "markdown",
      "metadata": {
        "id": "6whEaDt40RH8"
      },
      "source": [
        "**Vini's Stats**"
      ]
    },
    {
      "cell_type": "code",
      "metadata": {
        "id": "92ylyZ0h0RH9"
      },
      "source": [
        "#Apply filters in the df from Sales Data\n",
        "vinidf = stats_df[stats_df['LGA']=='Vinicius']\n",
        "vinidf_final = vinidf.drop_duplicates('Company Name')"
      ],
      "execution_count": null,
      "outputs": []
    },
    {
      "cell_type": "code",
      "metadata": {
        "id": "qflZADLF7RGr"
      },
      "source": [
        "print(vinidf_final)"
      ],
      "execution_count": null,
      "outputs": []
    },
    {
      "cell_type": "code",
      "metadata": {
        "id": "MCkm0ac60RH9"
      },
      "source": [
        "# Convert the Dataframe to a List, sum with the personal Dataframe and then turns into a Python List with Numpy\n",
        "# That's because the cells won't be updated with a dataframe value or a spreadsheets value that is read as json or csv.\n",
        "#def updateSpreadsheet()\n",
        "listconvertvinidf = [vinidf_final.columns.tolist()] + vinidf_final.to_numpy().tolist()\n",
        "stats_vini_sheets.update(\"A1\",listconvertvinidf)"
      ],
      "execution_count": null,
      "outputs": []
    },
    {
      "cell_type": "markdown",
      "metadata": {
        "id": "f4kdafIgzqgD"
      },
      "source": [
        "**Tati's Stats**"
      ]
    },
    {
      "cell_type": "code",
      "metadata": {
        "id": "4pMVG-tzzwk2"
      },
      "source": [
        "#Apply filters in the df from Sales Data\n",
        "tatidf = stats_df[stats_df['LGA']=='Tatiana']\n",
        "tatidf_final = tatidf.drop_duplicates('Company Name')"
      ],
      "execution_count": null,
      "outputs": []
    },
    {
      "cell_type": "code",
      "metadata": {
        "id": "bs5y-8k4z2-F"
      },
      "source": [
        "# Convert the Dataframe to a List, sum with the personal Dataframe and then turns into a Python List with Numpy\n",
        "# That's because the cells won't be updated with a dataframe value or a spreadsheets value that is read as json or csv.\n",
        "#def updateSpreadsheet()\n",
        "listconverttatidf = [tatidf_final.columns.tolist()] + tatidf_final.to_numpy().tolist()\n",
        "stats_tati_sheets.update(\"A1\",listconverttatidf)"
      ],
      "execution_count": null,
      "outputs": []
    },
    {
      "cell_type": "markdown",
      "metadata": {
        "id": "Q_O2NXSP1PQk"
      },
      "source": [
        "**Rena's Stats**"
      ]
    },
    {
      "cell_type": "code",
      "metadata": {
        "id": "po5T_RHn1RG_"
      },
      "source": [
        "#Apply filters in the df from Sales Data\n",
        "renadf = stats_df[stats_df['LGA']=='Renata']\n",
        "renadf_final = renadf.drop_duplicates('Company Name')"
      ],
      "execution_count": null,
      "outputs": []
    },
    {
      "cell_type": "code",
      "metadata": {
        "id": "GiLH6FZ51b6s"
      },
      "source": [
        "listconvertrenadf = [renadf_final.columns.tolist()] + renadf_final.to_numpy().tolist()\n",
        "stats_rena_sheets.update(\"A1\",listconvertrenadf)"
      ],
      "execution_count": null,
      "outputs": []
    }
  ]
}