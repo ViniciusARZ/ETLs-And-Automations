{
  "nbformat": 4,
  "nbformat_minor": 0,
  "metadata": {
    "colab": {
      "name": "Copy of Orbe Sales Data ETL Update",
      "provenance": [],
      "collapsed_sections": []
    },
    "kernelspec": {
      "name": "python3",
      "display_name": "Python 3"
    },
    "language_info": {
      "name": "python"
    }
  },
  "cells": [
    {
      "cell_type": "markdown",
      "metadata": {
        "id": "h6aPSsVyyP1-"
      },
      "source": [
        "Author: Vinícius Antoino Ramos Zecca\n",
        "\n",
        "*LinkedIn: /viniciusarz*\n",
        "\n",
        "*Github: /ViniciusARZ*\n"
      ]
    },
    {
      "cell_type": "markdown",
      "metadata": {
        "id": "g7wVFhWHHSzZ"
      },
      "source": [
        "##Explanation"
      ]
    },
    {
      "cell_type": "markdown",
      "metadata": {
        "id": "jI6bbuF8HVdh"
      },
      "source": [
        "**Objective:** Make it easier to update Orbe's dashboards and Historical Databases with Sales and Funnel data.\n",
        "\n",
        "**How it Works:**\n",
        "1. Code gets access to every Spreadsheets\n",
        "2. Concatenate data from Ploomes' data (older CRM Orbe used) and combine with Pipefy's data, suffering a clean-up and filtering in strings and columns\n",
        "3. Update Historical Database with few, and most important, information with a join from both sources + rename the spreadsheets with current date to keep track of when we updated.\n",
        "4. Clean-up and Process pipefy's data and filter by information used on our dashboards from Google Data Studio.\n",
        "5. Update the Source that feeds our reports and rename the sheet with the current date to keep track.\n",
        "6. *ETL: Pipefy -> Action -> Google Spreadsheets -> Python Code -> Processing and Cleaning -> Google Spreadsheets -> Google Data Studio*\n",
        "\n",
        "**How to use:**\n",
        "1. Get report from Pipefy's Reports, from 01-01-2021 to \"today\" and then import it to the *first sheet of the table with \"INPUT\"* on the title and **KEEP THE TITLE 'Report'**.\n",
        "2. Then come here and execute everything in order clicking on the \">\" icon by the top left corner.\n",
        "3. Check if everything went well and enjoy 😊"
      ]
    },
    {
      "cell_type": "markdown",
      "metadata": {
        "id": "NAHb3wFC3rh0"
      },
      "source": [
        "# Libraries and Access\n",
        "\n"
      ]
    },
    {
      "cell_type": "code",
      "metadata": {
        "id": "HCuqOhxMRvkZ"
      },
      "source": [
        "!pip install -q --upgrade gspread\n",
        "!pip install -q pandas as pd\n",
        "!pip install -q Numpy as np\n"
      ],
      "execution_count": null,
      "outputs": []
    },
    {
      "cell_type": "markdown",
      "metadata": {
        "id": "lMYygVnISS7i"
      },
      "source": [
        "## Google Authorization\n",
        "---"
      ]
    },
    {
      "cell_type": "code",
      "metadata": {
        "id": "Hofa2Y93R7Ei"
      },
      "source": [
        "from google.colab import auth\n",
        "auth.authenticate_user()\n",
        "\n",
        "import pandas as pd\n",
        "import gspread\n",
        "from oauth2client.client import GoogleCredentials\n",
        "\n",
        "gc = gspread.authorize(GoogleCredentials.get_application_default())"
      ],
      "execution_count": null,
      "outputs": []
    },
    {
      "cell_type": "markdown",
      "metadata": {
        "id": "PKsdfBeHUHIY"
      },
      "source": [
        "## Workbook Access"
      ]
    },
    {
      "cell_type": "markdown",
      "metadata": {
        "id": "2x1Him5yYEa2"
      },
      "source": [
        "Accessing Leads til 2020 File"
      ]
    },
    {
      "cell_type": "code",
      "metadata": {
        "id": "CquQFMOXXtMI"
      },
      "source": [
        "#Leads till 2020 file (Ploomes)\n",
        "  #\n",
        "ws_funnel_2020 = gc.open_by_key('KEY')\n",
        "ploomes = ws_funnel_2020.worksheet('Ploomes')\n",
        "rows_ploomes = ploomes.get_all_values()\n",
        "ploomes_total_df = pd.DataFrame.from_records(rows_ploomes,columns=rows_ploomes[0])"
      ],
      "execution_count": null,
      "outputs": []
    },
    {
      "cell_type": "code",
      "metadata": {
        "colab": {
          "base_uri": "https://localhost:8080/"
        },
        "id": "lxnqCdoD0m_O",
        "outputId": "319c50a4-9466-4561-8295-fe575bfccf67"
      },
      "source": [
        "print(ploomes_total_df.columns)"
      ],
      "execution_count": null,
      "outputs": [
        {
          "output_type": "stream",
          "name": "stdout",
          "text": [
            "Index(['cre_date', 'member', 'name', 'location', 'segment', 'mail', 'phone',\n",
            "       'contact', 'contact_mail', 'last_date'],\n",
            "      dtype='object')\n"
          ]
        }
      ]
    },
    {
      "cell_type": "markdown",
      "metadata": {
        "id": "u9gjZs7XzPin"
      },
      "source": [
        "Accessing Pipefy's Full file - Sales Funnel 2021"
      ]
    },
    {
      "cell_type": "code",
      "metadata": {
        "id": "l76f7rkS3-GO"
      },
      "source": [
        "# Pipefy's direct import to a spreadsheets\n",
        "  #\n",
        "ws_pipefy_2021 = gc.open_by_key('KEY')\n",
        "# ATTENTION - This has to remain \"Report\"\n",
        "pipefy = ws_pipefy_2021.worksheet('Report')\n",
        "rows_pipefy = pipefy.get_all_values()\n",
        "pipefy_total_df = pd.DataFrame.from_records(rows_pipefy,columns=rows_pipefy[0])"
      ],
      "execution_count": null,
      "outputs": []
    },
    {
      "cell_type": "code",
      "metadata": {
        "colab": {
          "base_uri": "https://localhost:8080/"
        },
        "id": "JvrE0kKh2sh_",
        "outputId": "4eec139f-9925-49a5-ac8f-c5b791fd9463"
      },
      "source": [
        "print(pipefy_total_df.columns)"
      ],
      "execution_count": null,
      "outputs": [
        {
          "output_type": "stream",
          "name": "stdout",
          "text": [
            "Index(['Created at', 'Assignees', 'Title', 'Setor', 'E-mail de Contato',\n",
            "       'Origem', 'Telefone', 'Nome do Contato', 'Current phase',\n",
            "       'Company size', 'Contato por:', 'Deal value ', 'Projetos',\n",
            "       'Motivo Descarte', 'Reunião de Diagnóstico marcada', 'Dores do Cliente',\n",
            "       'Haverá proposta?', 'Data da Reunião', 'Motivo Futuro',\n",
            "       'First time enter Prospecção', 'Last time exit Prospecção',\n",
            "       'Total time in Prospecção (days)', 'First time enter Descoberta',\n",
            "       'Last time exit Descoberta', 'Total time in Descoberta (days)',\n",
            "       'First time enter Reunião de Diagnóstico',\n",
            "       'Last time exit Reunião de Diagnóstico',\n",
            "       'Total time in Reunião de Diagnóstico (days)',\n",
            "       'First time enter Reunião de Proposta',\n",
            "       'Last time exit Reunião de Proposta',\n",
            "       'Total time in Reunião de Proposta (days)',\n",
            "       'First time enter Negociação', 'Last time exit Negociação',\n",
            "       'Total time in Negociação (days)',\n",
            "       'First time enter Contato para o Futuro',\n",
            "       'Last time exit Contato para o Futuro',\n",
            "       'Total time in Contato para o Futuro (days)',\n",
            "       'First time enter GANHAMOOO 😍', 'First time enter perdemo... 😞',\n",
            "       'Last time exit perdemo... 😞', 'Total time in perdemo... 😞 (days)',\n",
            "       'Creator', 'Nome da Empresa', 'Telefone do Contato', 'Updated at',\n",
            "       'E-mail do Contato '],\n",
            "      dtype='object')\n"
          ]
        }
      ]
    },
    {
      "cell_type": "markdown",
      "metadata": {
        "id": "magBavpeAdhr"
      },
      "source": [
        "Acessing File that will receive the total Sales Database"
      ]
    },
    {
      "cell_type": "code",
      "metadata": {
        "id": "6J5UB039AWWT"
      },
      "source": [
        "# Receiving File - Sales_Leads_Data_2018-2021\n",
        "  #\n",
        "ws_totalsales = gc.open_by_key('KEY')\n",
        "# ATTENTION - This has to remain \"Leads Data\"\n",
        "total_sales = ws_totalsales.get_worksheet_by_id(0)"
      ],
      "execution_count": null,
      "outputs": []
    },
    {
      "cell_type": "markdown",
      "metadata": {
        "id": "DRi10iYtCuSz"
      },
      "source": [
        "Accessing File that will receive the Clead-up Pipefy Data"
      ]
    },
    {
      "cell_type": "code",
      "metadata": {
        "id": "FiLI8XK3CtOC"
      },
      "source": [
        "# Receiving File - (DATASTUDIO) leads_2021_database\n",
        "  #\n",
        "ws_datastudio_sheets = gc.open_by_key('KEY')\n",
        "# ATTENTION - This has to remain \"python update\"\n",
        "datastudio_sheets = ws_datastudio_sheets.get_worksheet_by_id(207859273)\n",
        "rows_dssheets = datastudio_sheets.get_all_values()\n",
        "ds_df = pd.DataFrame.from_records(rows_dssheets,columns=rows_dssheets[0])"
      ],
      "execution_count": null,
      "outputs": []
    },
    {
      "cell_type": "markdown",
      "metadata": {
        "id": "h5ziDuo7bPSN"
      },
      "source": [
        "# Update Leads Database"
      ]
    },
    {
      "cell_type": "code",
      "metadata": {
        "id": "DCcBhE37T2ga",
        "colab": {
          "base_uri": "https://localhost:8080/"
        },
        "outputId": "4f204ac7-7e06-468b-fbbe-6c8b70fa1303"
      },
      "source": [
        "#Applying filter in pipefy's DF to make it work with Ploomes\n",
        "# Ploomes' Columns -> Index(['cre_date', 'member', 'name', 'location', 'segment', 'mail', 'phone', 'contact', 'contact_mail', 'last_date']\n",
        "filtered_database_pipefy = pipefy_total_df[[\"Created at\", \"Creator\", \"Nome da Empresa\", \"Setor\", \"E-mail de Contato\",\"Telefone\", \"Nome do Contato\", \"E-mail do Contato \", \"Updated at\"]]\n",
        "#ft_pipefy_df = filtered_database_pipefy.rename(columns={\"Created at\": \"cre_date\", \"Creator\": \"member\", \"Nome da Empresa\": \"name\", \"Sector\": \"segment\",\n",
        "                                                        #\"E-mail de Contato\": \"mail\",\"Telefone\": \"phone\", \"Nome do Contato\": \"contact\",\n",
        "                                                        #\"E-mail do Contato\": \"contact_mail\", \"Updated at\": \"last_date\"}, inplace=True)\n",
        "print(filtered_database_pipefy.columns)"
      ],
      "execution_count": null,
      "outputs": [
        {
          "output_type": "stream",
          "name": "stdout",
          "text": [
            "Index(['Created at', 'Creator', 'Nome da Empresa', 'Setor',\n",
            "       'E-mail de Contato', 'Telefone', 'Nome do Contato',\n",
            "       'E-mail do Contato ', 'Updated at'],\n",
            "      dtype='object')\n"
          ]
        }
      ]
    },
    {
      "cell_type": "code",
      "metadata": {
        "colab": {
          "base_uri": "https://localhost:8080/"
        },
        "id": "WbiT0P7o9km6",
        "outputId": "13b6d4c3-1831-4fa5-fe5c-c79cc695529e"
      },
      "source": [
        "#Applying filter in Ploomes' DF to make it work with Pipefy\n",
        "filtered_database_ploomes = ploomes_total_df[['cre_date', 'member', 'name', 'segment', 'mail', 'phone', 'contact', 'contact_mail', 'last_date']]\n",
        "print(filtered_database_ploomes.columns)"
      ],
      "execution_count": null,
      "outputs": [
        {
          "output_type": "stream",
          "name": "stdout",
          "text": [
            "Index(['cre_date', 'member', 'name', 'segment', 'mail', 'phone', 'contact',\n",
            "       'contact_mail', 'last_date'],\n",
            "      dtype='object')\n"
          ]
        }
      ]
    },
    {
      "cell_type": "markdown",
      "metadata": {
        "id": "_CLfKlQS93fr"
      },
      "source": [
        "Concatening the two dataframes in one for the Leads_Database"
      ]
    },
    {
      "cell_type": "code",
      "metadata": {
        "colab": {
          "base_uri": "https://localhost:8080/"
        },
        "id": "-A6dOV5Q957w",
        "outputId": "b55d5da6-6289-48ab-d970-9ab3adbdf49c"
      },
      "source": [
        "filtered_database_pipefy.columns = filtered_database_ploomes.columns\n",
        "leads_database = filtered_database_ploomes.append(filtered_database_pipefy, ignore_index = True)\n",
        "print(leads_database.columns)"
      ],
      "execution_count": null,
      "outputs": [
        {
          "output_type": "stream",
          "name": "stdout",
          "text": [
            "Index(['cre_date', 'member', 'name', 'segment', 'mail', 'phone', 'contact',\n",
            "       'contact_mail', 'last_date'],\n",
            "      dtype='object')\n"
          ]
        }
      ]
    },
    {
      "cell_type": "markdown",
      "metadata": {
        "id": "Jl1DAdyIDHLL"
      },
      "source": [
        "Update Title with the date"
      ]
    },
    {
      "cell_type": "code",
      "metadata": {
        "id": "9Cq7hWgvDGFS"
      },
      "source": [
        "from datetime import datetime\n",
        "today = datetime.date(datetime.now())\n",
        "today_string = today.strftime(\"%d-%m-%Y\")"
      ],
      "execution_count": null,
      "outputs": []
    },
    {
      "cell_type": "markdown",
      "metadata": {
        "id": "xyXIhJOUCGvN"
      },
      "source": [
        "**Update Command**"
      ]
    },
    {
      "cell_type": "code",
      "metadata": {
        "id": "R40qJxiIAQt8"
      },
      "source": [
        "listconv_leadsdatabase = [leads_database.columns.tolist()] + leads_database.to_numpy().tolist()\n",
        "total_sales.update('A1',listconv_leadsdatabase)\n",
        "total_sales.update_title('Sales_Leads_Data_'+ today_string)"
      ],
      "execution_count": null,
      "outputs": []
    },
    {
      "cell_type": "markdown",
      "metadata": {
        "id": "S5Q5zPsuCPp7"
      },
      "source": [
        "#Clean-up Pipefy's Data and upload into the file that supports Data Studio"
      ]
    },
    {
      "cell_type": "code",
      "metadata": {
        "id": "qFXoJx9oCmgh"
      },
      "source": [
        "#Final Columns:\n",
        "#Created at\tAssignees\tTitle\tSetor\tE-mail de Contato\tOrigem\tTelefone\tNome do Contato\tCurrent phase\tCompany size\tContato por:\t\n",
        "#Deal value \tProjetos\tMotivo Descarte\tReunião Marcada\tDores do Cliente\tHaverá proposta?\tData da Reunião\tMotivo Futuro\tFTE \n",
        "#Prospecção\tLast time exit Prospecção\tTotal time in Prospecção (days)\tFTE Descoberta\tLast time exit Descoberta\tTotal time in Descoberta (days)\t\n",
        "#FTE Reunião de Diagnóstico\tLast time exit Reunião de Diagnóstico\tTotal time in Reunião de Diagnóstico (days)\tFTE Reunião de Proposta\t\n",
        "#Last time exit Reunião de Proposta\tTotal time in Reunião de Proposta (days)\tFTE Negociação\tLast time exit Negociação\t\n",
        "#Total time in Negociação (days)\tFTE Contato para o Futuro\tLast time exit Contato para o Futuro\t\n",
        "#Total time in Contato para o Futuro (days)\tFTE GANHAMOOO \tFTE perdemo... \tLast time exit perdemo... \tTotal time in perdemo...  (days)"
      ],
      "execution_count": null,
      "outputs": []
    },
    {
      "cell_type": "code",
      "metadata": {
        "id": "Pyzxv9etEFzb"
      },
      "source": [
        "pipefy_total_df.rename(columns={'First time enter Prospecção': 'FTE Prospecção','First time enter Descoberta':'FTE Descoberta',\n",
        "                                             'First time enter Reunião de Diagnóstico': 'FTE Reunião de Diagnóstico',\n",
        "                                             'First time enter Reunião de Proposta': 'FTE Reunião de Proposta','First time enter Negociação': 'FTE Negociação',\n",
        "                                             'First time enter Contato para o Futuro': 'FTE Contato para o Futuro',\n",
        "                                             'First time enter GANHAMOOO 😍': 'FTE Ganho','First time enter perdemo... 😞': 'FTE Perdido'}, inplace=True)"
      ],
      "execution_count": null,
      "outputs": []
    },
    {
      "cell_type": "code",
      "metadata": {
        "colab": {
          "base_uri": "https://localhost:8080/"
        },
        "id": "fMjgaXARKhs-",
        "outputId": "864d7e6f-cf11-4fb2-c7c5-15b676680ab8"
      },
      "source": [
        "print(pipefy_total_df.columns)"
      ],
      "execution_count": null,
      "outputs": [
        {
          "output_type": "stream",
          "name": "stdout",
          "text": [
            "Index(['Created at', 'Assignees', 'Title', 'Setor', 'E-mail de Contato',\n",
            "       'Origem', 'Telefone', 'Nome do Contato', 'Current phase',\n",
            "       'Company size', 'Contato por:', 'Deal value ', 'Projetos',\n",
            "       'Motivo Descarte', 'Reunião de Diagnóstico marcada', 'Dores do Cliente',\n",
            "       'Haverá proposta?', 'Data da Reunião', 'Motivo Futuro',\n",
            "       'FTE Prospecção', 'Last time exit Prospecção',\n",
            "       'Total time in Prospecção (days)', 'FTE Descoberta',\n",
            "       'Last time exit Descoberta', 'Total time in Descoberta (days)',\n",
            "       'FTE Reunião de Diagnóstico', 'Last time exit Reunião de Diagnóstico',\n",
            "       'Total time in Reunião de Diagnóstico (days)',\n",
            "       'FTE Reunião de Proposta', 'Last time exit Reunião de Proposta',\n",
            "       'Total time in Reunião de Proposta (days)', 'FTE Negociação',\n",
            "       'Last time exit Negociação', 'Total time in Negociação (days)',\n",
            "       'FTE Contato para o Futuro', 'Last time exit Contato para o Futuro',\n",
            "       'Total time in Contato para o Futuro (days)', 'FTE Ganho',\n",
            "       'FTE Perdido', 'Last time exit perdemo... 😞',\n",
            "       'Total time in perdemo... 😞 (days)', 'Creator', 'Nome da Empresa',\n",
            "       'Telefone do Contato', 'Updated at', 'E-mail do Contato '],\n",
            "      dtype='object')\n"
          ]
        }
      ]
    },
    {
      "cell_type": "code",
      "metadata": {
        "id": "1Q69N7enI6TN"
      },
      "source": [
        "dstudio_df_cleaned = pipefy_total_df[['Created at',\t'Assignees',\t'Title',\t'Setor',\t'E-mail de Contato',\t'Origem',\t'Telefone',\t'Nome do Contato',\n",
        "                                      'Current phase',\t'Company size',\t'Contato por:',\t'Deal value ', \t'Projetos',\t'Motivo Descarte',\t'Reunião de Diagnóstico marcada',\t'Dores do Cliente',\n",
        "                                      'Haverá proposta?',\t'Data da Reunião',\t'Motivo Futuro',\t'FTE Prospecção',\t'Total time in Prospecção (days)',\t'FTE Descoberta',\n",
        "                                      'Total time in Descoberta (days)',\t'FTE Reunião de Diagnóstico',\t'Total time in Reunião de Diagnóstico (days)',\n",
        "                                      'FTE Reunião de Proposta', 'Total time in Reunião de Proposta (days)',\t'FTE Negociação', 'Total time in Negociação (days)',\n",
        "                                      'FTE Contato para o Futuro',\t'Total time in Contato para o Futuro (days)',\t'FTE Ganho', 'FTE Perdido', 'Total time in perdemo... 😞 (days)']]"
      ],
      "execution_count": null,
      "outputs": []
    },
    {
      "cell_type": "code",
      "metadata": {
        "id": "ByIAHmdIIbtW"
      },
      "source": [
        "dstudio_pipefy_database = [dstudio_df_cleaned.columns.tolist()] + dstudio_df_cleaned.to_numpy().tolist()\n",
        "datastudio_sheets.update('A1',dstudio_pipefy_database)\n",
        "datastudio_sheets.update_title('pipefy_database_'+ today_string)"
      ],
      "execution_count": null,
      "outputs": []
    }
  ]
}